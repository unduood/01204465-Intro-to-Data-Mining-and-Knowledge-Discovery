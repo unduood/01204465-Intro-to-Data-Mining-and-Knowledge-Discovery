{
  "nbformat": 4,
  "nbformat_minor": 0,
  "metadata": {
    "colab": {
      "provenance": [],
      "toc_visible": true
    },
    "kernelspec": {
      "name": "python3",
      "display_name": "Python 3"
    },
    "language_info": {
      "name": "python"
    }
  },
  "cells": [
    {
      "cell_type": "markdown",
      "source": [
        "HW5.2# Linear-Regression"
      ],
      "metadata": {
        "id": "XJItNhYnDXFE"
      }
    },
    {
      "cell_type": "markdown",
      "source": [
        "#Importing the libraries and dataset"
      ],
      "metadata": {
        "id": "iJlQVOHSDeAg"
      }
    },
    {
      "cell_type": "code",
      "execution_count": null,
      "metadata": {
        "id": "E7XV4H5RDTLX",
        "colab": {
          "base_uri": "https://localhost:8080/"
        },
        "outputId": "56dbc3bf-eba4-469c-d9c5-c2fbd8f3ed14"
      },
      "outputs": [
        {
          "output_type": "execute_result",
          "data": {
            "text/plain": [
              "sequence_number           int64\n",
              "US                        int64\n",
              "source_a                  int64\n",
              "source_c                  int64\n",
              "source_b                  int64\n",
              "source_d                  int64\n",
              "source_e                  int64\n",
              "source_m                  int64\n",
              "source_o                  int64\n",
              "source_h                  int64\n",
              "source_r                  int64\n",
              "source_s                  int64\n",
              "source_t                  int64\n",
              "source_u                  int64\n",
              "source_p                  int64\n",
              "source_x                  int64\n",
              "source_w                  int64\n",
              "Freq                      int64\n",
              "last_update_days_ago      int64\n",
              "1st_update_days_ago       int64\n",
              "Web order                 int64\n",
              "Gender=male               int64\n",
              "Address_is_res            int64\n",
              "Purchase                  int64\n",
              "Spending                  int64\n",
              "Partition                object\n",
              "Unnamed: 26             float64\n",
              "Unnamed: 27             float64\n",
              "dtype: object"
            ]
          },
          "metadata": {},
          "execution_count": 62
        }
      ],
      "source": [
        "import numpy as np\n",
        "import matplotlib.pyplot as plt\n",
        "import pandas as pd\n",
        "import seaborn as sns\n",
        "import matplotlib.pyplot as plt\n",
        "df = pd.read_csv('Tayko.csv')\n",
        "df.head\n",
        "df.dtypes"
      ]
    },
    {
      "cell_type": "code",
      "source": [
        "df.describe()"
      ],
      "metadata": {
        "colab": {
          "base_uri": "https://localhost:8080/",
          "height": 367
        },
        "id": "ADXZN1TADq9q",
        "outputId": "770c793b-3931-447b-e976-d91429501ab9"
      },
      "execution_count": null,
      "outputs": [
        {
          "output_type": "execute_result",
          "data": {
            "text/plain": [
              "       sequence_number           US     source_a     source_c     source_b  \\\n",
              "count      2000.000000  2000.000000  2000.000000  2000.000000  2000.000000   \n",
              "mean       1000.500000     0.824500     0.126500     0.056000     0.060000   \n",
              "std         577.494589     0.380489     0.332495     0.229979     0.237546   \n",
              "min           1.000000     0.000000     0.000000     0.000000     0.000000   \n",
              "25%         500.750000     1.000000     0.000000     0.000000     0.000000   \n",
              "50%        1000.500000     1.000000     0.000000     0.000000     0.000000   \n",
              "75%        1500.250000     1.000000     0.000000     0.000000     0.000000   \n",
              "max        2000.000000     1.000000     1.000000     1.000000     1.000000   \n",
              "\n",
              "          source_d     source_e    source_m     source_o     source_h  ...  \\\n",
              "count  2000.000000  2000.000000  2000.00000  2000.000000  2000.000000  ...   \n",
              "mean      0.041500     0.151000     0.01650     0.033500     0.052500  ...   \n",
              "std       0.199493     0.358138     0.12742     0.179983     0.223089  ...   \n",
              "min       0.000000     0.000000     0.00000     0.000000     0.000000  ...   \n",
              "25%       0.000000     0.000000     0.00000     0.000000     0.000000  ...   \n",
              "50%       0.000000     0.000000     0.00000     0.000000     0.000000  ...   \n",
              "75%       0.000000     0.000000     0.00000     0.000000     0.000000  ...   \n",
              "max       1.000000     1.000000     1.00000     1.000000     1.000000  ...   \n",
              "\n",
              "              Freq  last_update_days_ago  1st_update_days_ago    Web order  \\\n",
              "count  2000.000000           2000.000000          2000.000000  2000.000000   \n",
              "mean      1.417000           2155.101000          2435.601500     0.426000   \n",
              "std       1.405738           1141.302846          1077.872233     0.494617   \n",
              "min       0.000000              1.000000             1.000000     0.000000   \n",
              "25%       1.000000           1133.000000          1671.250000     0.000000   \n",
              "50%       1.000000           2280.000000          2721.000000     0.000000   \n",
              "75%       2.000000           3139.250000          3353.000000     1.000000   \n",
              "max      15.000000           4188.000000          4188.000000     1.000000   \n",
              "\n",
              "       Gender=male  Address_is_res     Purchase    Spending  Unnamed: 26  \\\n",
              "count  2000.000000     2000.000000  2000.000000  2000.00000          0.0   \n",
              "mean      0.524500        0.221000     0.500000   102.62500          NaN   \n",
              "std       0.499524        0.415024     0.500125   186.78261          NaN   \n",
              "min       0.000000        0.000000     0.000000     0.00000          NaN   \n",
              "25%       0.000000        0.000000     0.000000     0.00000          NaN   \n",
              "50%       1.000000        0.000000     0.500000     2.00000          NaN   \n",
              "75%       1.000000        0.000000     1.000000   153.00000          NaN   \n",
              "max       1.000000        1.000000     1.000000  1500.00000          NaN   \n",
              "\n",
              "       Unnamed: 27  \n",
              "count          0.0  \n",
              "mean           NaN  \n",
              "std            NaN  \n",
              "min            NaN  \n",
              "25%            NaN  \n",
              "50%            NaN  \n",
              "75%            NaN  \n",
              "max            NaN  \n",
              "\n",
              "[8 rows x 27 columns]"
            ],
            "text/html": [
              "\n",
              "  <div id=\"df-579a48ef-79fd-41c3-bdf6-aaf34aced83a\" class=\"colab-df-container\">\n",
              "    <div>\n",
              "<style scoped>\n",
              "    .dataframe tbody tr th:only-of-type {\n",
              "        vertical-align: middle;\n",
              "    }\n",
              "\n",
              "    .dataframe tbody tr th {\n",
              "        vertical-align: top;\n",
              "    }\n",
              "\n",
              "    .dataframe thead th {\n",
              "        text-align: right;\n",
              "    }\n",
              "</style>\n",
              "<table border=\"1\" class=\"dataframe\">\n",
              "  <thead>\n",
              "    <tr style=\"text-align: right;\">\n",
              "      <th></th>\n",
              "      <th>sequence_number</th>\n",
              "      <th>US</th>\n",
              "      <th>source_a</th>\n",
              "      <th>source_c</th>\n",
              "      <th>source_b</th>\n",
              "      <th>source_d</th>\n",
              "      <th>source_e</th>\n",
              "      <th>source_m</th>\n",
              "      <th>source_o</th>\n",
              "      <th>source_h</th>\n",
              "      <th>...</th>\n",
              "      <th>Freq</th>\n",
              "      <th>last_update_days_ago</th>\n",
              "      <th>1st_update_days_ago</th>\n",
              "      <th>Web order</th>\n",
              "      <th>Gender=male</th>\n",
              "      <th>Address_is_res</th>\n",
              "      <th>Purchase</th>\n",
              "      <th>Spending</th>\n",
              "      <th>Unnamed: 26</th>\n",
              "      <th>Unnamed: 27</th>\n",
              "    </tr>\n",
              "  </thead>\n",
              "  <tbody>\n",
              "    <tr>\n",
              "      <th>count</th>\n",
              "      <td>2000.000000</td>\n",
              "      <td>2000.000000</td>\n",
              "      <td>2000.000000</td>\n",
              "      <td>2000.000000</td>\n",
              "      <td>2000.000000</td>\n",
              "      <td>2000.000000</td>\n",
              "      <td>2000.000000</td>\n",
              "      <td>2000.00000</td>\n",
              "      <td>2000.000000</td>\n",
              "      <td>2000.000000</td>\n",
              "      <td>...</td>\n",
              "      <td>2000.000000</td>\n",
              "      <td>2000.000000</td>\n",
              "      <td>2000.000000</td>\n",
              "      <td>2000.000000</td>\n",
              "      <td>2000.000000</td>\n",
              "      <td>2000.000000</td>\n",
              "      <td>2000.000000</td>\n",
              "      <td>2000.00000</td>\n",
              "      <td>0.0</td>\n",
              "      <td>0.0</td>\n",
              "    </tr>\n",
              "    <tr>\n",
              "      <th>mean</th>\n",
              "      <td>1000.500000</td>\n",
              "      <td>0.824500</td>\n",
              "      <td>0.126500</td>\n",
              "      <td>0.056000</td>\n",
              "      <td>0.060000</td>\n",
              "      <td>0.041500</td>\n",
              "      <td>0.151000</td>\n",
              "      <td>0.01650</td>\n",
              "      <td>0.033500</td>\n",
              "      <td>0.052500</td>\n",
              "      <td>...</td>\n",
              "      <td>1.417000</td>\n",
              "      <td>2155.101000</td>\n",
              "      <td>2435.601500</td>\n",
              "      <td>0.426000</td>\n",
              "      <td>0.524500</td>\n",
              "      <td>0.221000</td>\n",
              "      <td>0.500000</td>\n",
              "      <td>102.62500</td>\n",
              "      <td>NaN</td>\n",
              "      <td>NaN</td>\n",
              "    </tr>\n",
              "    <tr>\n",
              "      <th>std</th>\n",
              "      <td>577.494589</td>\n",
              "      <td>0.380489</td>\n",
              "      <td>0.332495</td>\n",
              "      <td>0.229979</td>\n",
              "      <td>0.237546</td>\n",
              "      <td>0.199493</td>\n",
              "      <td>0.358138</td>\n",
              "      <td>0.12742</td>\n",
              "      <td>0.179983</td>\n",
              "      <td>0.223089</td>\n",
              "      <td>...</td>\n",
              "      <td>1.405738</td>\n",
              "      <td>1141.302846</td>\n",
              "      <td>1077.872233</td>\n",
              "      <td>0.494617</td>\n",
              "      <td>0.499524</td>\n",
              "      <td>0.415024</td>\n",
              "      <td>0.500125</td>\n",
              "      <td>186.78261</td>\n",
              "      <td>NaN</td>\n",
              "      <td>NaN</td>\n",
              "    </tr>\n",
              "    <tr>\n",
              "      <th>min</th>\n",
              "      <td>1.000000</td>\n",
              "      <td>0.000000</td>\n",
              "      <td>0.000000</td>\n",
              "      <td>0.000000</td>\n",
              "      <td>0.000000</td>\n",
              "      <td>0.000000</td>\n",
              "      <td>0.000000</td>\n",
              "      <td>0.00000</td>\n",
              "      <td>0.000000</td>\n",
              "      <td>0.000000</td>\n",
              "      <td>...</td>\n",
              "      <td>0.000000</td>\n",
              "      <td>1.000000</td>\n",
              "      <td>1.000000</td>\n",
              "      <td>0.000000</td>\n",
              "      <td>0.000000</td>\n",
              "      <td>0.000000</td>\n",
              "      <td>0.000000</td>\n",
              "      <td>0.00000</td>\n",
              "      <td>NaN</td>\n",
              "      <td>NaN</td>\n",
              "    </tr>\n",
              "    <tr>\n",
              "      <th>25%</th>\n",
              "      <td>500.750000</td>\n",
              "      <td>1.000000</td>\n",
              "      <td>0.000000</td>\n",
              "      <td>0.000000</td>\n",
              "      <td>0.000000</td>\n",
              "      <td>0.000000</td>\n",
              "      <td>0.000000</td>\n",
              "      <td>0.00000</td>\n",
              "      <td>0.000000</td>\n",
              "      <td>0.000000</td>\n",
              "      <td>...</td>\n",
              "      <td>1.000000</td>\n",
              "      <td>1133.000000</td>\n",
              "      <td>1671.250000</td>\n",
              "      <td>0.000000</td>\n",
              "      <td>0.000000</td>\n",
              "      <td>0.000000</td>\n",
              "      <td>0.000000</td>\n",
              "      <td>0.00000</td>\n",
              "      <td>NaN</td>\n",
              "      <td>NaN</td>\n",
              "    </tr>\n",
              "    <tr>\n",
              "      <th>50%</th>\n",
              "      <td>1000.500000</td>\n",
              "      <td>1.000000</td>\n",
              "      <td>0.000000</td>\n",
              "      <td>0.000000</td>\n",
              "      <td>0.000000</td>\n",
              "      <td>0.000000</td>\n",
              "      <td>0.000000</td>\n",
              "      <td>0.00000</td>\n",
              "      <td>0.000000</td>\n",
              "      <td>0.000000</td>\n",
              "      <td>...</td>\n",
              "      <td>1.000000</td>\n",
              "      <td>2280.000000</td>\n",
              "      <td>2721.000000</td>\n",
              "      <td>0.000000</td>\n",
              "      <td>1.000000</td>\n",
              "      <td>0.000000</td>\n",
              "      <td>0.500000</td>\n",
              "      <td>2.00000</td>\n",
              "      <td>NaN</td>\n",
              "      <td>NaN</td>\n",
              "    </tr>\n",
              "    <tr>\n",
              "      <th>75%</th>\n",
              "      <td>1500.250000</td>\n",
              "      <td>1.000000</td>\n",
              "      <td>0.000000</td>\n",
              "      <td>0.000000</td>\n",
              "      <td>0.000000</td>\n",
              "      <td>0.000000</td>\n",
              "      <td>0.000000</td>\n",
              "      <td>0.00000</td>\n",
              "      <td>0.000000</td>\n",
              "      <td>0.000000</td>\n",
              "      <td>...</td>\n",
              "      <td>2.000000</td>\n",
              "      <td>3139.250000</td>\n",
              "      <td>3353.000000</td>\n",
              "      <td>1.000000</td>\n",
              "      <td>1.000000</td>\n",
              "      <td>0.000000</td>\n",
              "      <td>1.000000</td>\n",
              "      <td>153.00000</td>\n",
              "      <td>NaN</td>\n",
              "      <td>NaN</td>\n",
              "    </tr>\n",
              "    <tr>\n",
              "      <th>max</th>\n",
              "      <td>2000.000000</td>\n",
              "      <td>1.000000</td>\n",
              "      <td>1.000000</td>\n",
              "      <td>1.000000</td>\n",
              "      <td>1.000000</td>\n",
              "      <td>1.000000</td>\n",
              "      <td>1.000000</td>\n",
              "      <td>1.00000</td>\n",
              "      <td>1.000000</td>\n",
              "      <td>1.000000</td>\n",
              "      <td>...</td>\n",
              "      <td>15.000000</td>\n",
              "      <td>4188.000000</td>\n",
              "      <td>4188.000000</td>\n",
              "      <td>1.000000</td>\n",
              "      <td>1.000000</td>\n",
              "      <td>1.000000</td>\n",
              "      <td>1.000000</td>\n",
              "      <td>1500.00000</td>\n",
              "      <td>NaN</td>\n",
              "      <td>NaN</td>\n",
              "    </tr>\n",
              "  </tbody>\n",
              "</table>\n",
              "<p>8 rows × 27 columns</p>\n",
              "</div>\n",
              "    <div class=\"colab-df-buttons\">\n",
              "\n",
              "  <div class=\"colab-df-container\">\n",
              "    <button class=\"colab-df-convert\" onclick=\"convertToInteractive('df-579a48ef-79fd-41c3-bdf6-aaf34aced83a')\"\n",
              "            title=\"Convert this dataframe to an interactive table.\"\n",
              "            style=\"display:none;\">\n",
              "\n",
              "  <svg xmlns=\"http://www.w3.org/2000/svg\" height=\"24px\" viewBox=\"0 -960 960 960\">\n",
              "    <path d=\"M120-120v-720h720v720H120Zm60-500h600v-160H180v160Zm220 220h160v-160H400v160Zm0 220h160v-160H400v160ZM180-400h160v-160H180v160Zm440 0h160v-160H620v160ZM180-180h160v-160H180v160Zm440 0h160v-160H620v160Z\"/>\n",
              "  </svg>\n",
              "    </button>\n",
              "\n",
              "  <style>\n",
              "    .colab-df-container {\n",
              "      display:flex;\n",
              "      gap: 12px;\n",
              "    }\n",
              "\n",
              "    .colab-df-convert {\n",
              "      background-color: #E8F0FE;\n",
              "      border: none;\n",
              "      border-radius: 50%;\n",
              "      cursor: pointer;\n",
              "      display: none;\n",
              "      fill: #1967D2;\n",
              "      height: 32px;\n",
              "      padding: 0 0 0 0;\n",
              "      width: 32px;\n",
              "    }\n",
              "\n",
              "    .colab-df-convert:hover {\n",
              "      background-color: #E2EBFA;\n",
              "      box-shadow: 0px 1px 2px rgba(60, 64, 67, 0.3), 0px 1px 3px 1px rgba(60, 64, 67, 0.15);\n",
              "      fill: #174EA6;\n",
              "    }\n",
              "\n",
              "    .colab-df-buttons div {\n",
              "      margin-bottom: 4px;\n",
              "    }\n",
              "\n",
              "    [theme=dark] .colab-df-convert {\n",
              "      background-color: #3B4455;\n",
              "      fill: #D2E3FC;\n",
              "    }\n",
              "\n",
              "    [theme=dark] .colab-df-convert:hover {\n",
              "      background-color: #434B5C;\n",
              "      box-shadow: 0px 1px 3px 1px rgba(0, 0, 0, 0.15);\n",
              "      filter: drop-shadow(0px 1px 2px rgba(0, 0, 0, 0.3));\n",
              "      fill: #FFFFFF;\n",
              "    }\n",
              "  </style>\n",
              "\n",
              "    <script>\n",
              "      const buttonEl =\n",
              "        document.querySelector('#df-579a48ef-79fd-41c3-bdf6-aaf34aced83a button.colab-df-convert');\n",
              "      buttonEl.style.display =\n",
              "        google.colab.kernel.accessAllowed ? 'block' : 'none';\n",
              "\n",
              "      async function convertToInteractive(key) {\n",
              "        const element = document.querySelector('#df-579a48ef-79fd-41c3-bdf6-aaf34aced83a');\n",
              "        const dataTable =\n",
              "          await google.colab.kernel.invokeFunction('convertToInteractive',\n",
              "                                                    [key], {});\n",
              "        if (!dataTable) return;\n",
              "\n",
              "        const docLinkHtml = 'Like what you see? Visit the ' +\n",
              "          '<a target=\"_blank\" href=https://colab.research.google.com/notebooks/data_table.ipynb>data table notebook</a>'\n",
              "          + ' to learn more about interactive tables.';\n",
              "        element.innerHTML = '';\n",
              "        dataTable['output_type'] = 'display_data';\n",
              "        await google.colab.output.renderOutput(dataTable, element);\n",
              "        const docLink = document.createElement('div');\n",
              "        docLink.innerHTML = docLinkHtml;\n",
              "        element.appendChild(docLink);\n",
              "      }\n",
              "    </script>\n",
              "  </div>\n",
              "\n",
              "\n",
              "<div id=\"df-f33aadd8-5683-4fbe-b596-d1f8a49410ee\">\n",
              "  <button class=\"colab-df-quickchart\" onclick=\"quickchart('df-f33aadd8-5683-4fbe-b596-d1f8a49410ee')\"\n",
              "            title=\"Suggest charts\"\n",
              "            style=\"display:none;\">\n",
              "\n",
              "<svg xmlns=\"http://www.w3.org/2000/svg\" height=\"24px\"viewBox=\"0 0 24 24\"\n",
              "     width=\"24px\">\n",
              "    <g>\n",
              "        <path d=\"M19 3H5c-1.1 0-2 .9-2 2v14c0 1.1.9 2 2 2h14c1.1 0 2-.9 2-2V5c0-1.1-.9-2-2-2zM9 17H7v-7h2v7zm4 0h-2V7h2v10zm4 0h-2v-4h2v4z\"/>\n",
              "    </g>\n",
              "</svg>\n",
              "  </button>\n",
              "\n",
              "<style>\n",
              "  .colab-df-quickchart {\n",
              "      --bg-color: #E8F0FE;\n",
              "      --fill-color: #1967D2;\n",
              "      --hover-bg-color: #E2EBFA;\n",
              "      --hover-fill-color: #174EA6;\n",
              "      --disabled-fill-color: #AAA;\n",
              "      --disabled-bg-color: #DDD;\n",
              "  }\n",
              "\n",
              "  [theme=dark] .colab-df-quickchart {\n",
              "      --bg-color: #3B4455;\n",
              "      --fill-color: #D2E3FC;\n",
              "      --hover-bg-color: #434B5C;\n",
              "      --hover-fill-color: #FFFFFF;\n",
              "      --disabled-bg-color: #3B4455;\n",
              "      --disabled-fill-color: #666;\n",
              "  }\n",
              "\n",
              "  .colab-df-quickchart {\n",
              "    background-color: var(--bg-color);\n",
              "    border: none;\n",
              "    border-radius: 50%;\n",
              "    cursor: pointer;\n",
              "    display: none;\n",
              "    fill: var(--fill-color);\n",
              "    height: 32px;\n",
              "    padding: 0;\n",
              "    width: 32px;\n",
              "  }\n",
              "\n",
              "  .colab-df-quickchart:hover {\n",
              "    background-color: var(--hover-bg-color);\n",
              "    box-shadow: 0 1px 2px rgba(60, 64, 67, 0.3), 0 1px 3px 1px rgba(60, 64, 67, 0.15);\n",
              "    fill: var(--button-hover-fill-color);\n",
              "  }\n",
              "\n",
              "  .colab-df-quickchart-complete:disabled,\n",
              "  .colab-df-quickchart-complete:disabled:hover {\n",
              "    background-color: var(--disabled-bg-color);\n",
              "    fill: var(--disabled-fill-color);\n",
              "    box-shadow: none;\n",
              "  }\n",
              "\n",
              "  .colab-df-spinner {\n",
              "    border: 2px solid var(--fill-color);\n",
              "    border-color: transparent;\n",
              "    border-bottom-color: var(--fill-color);\n",
              "    animation:\n",
              "      spin 1s steps(1) infinite;\n",
              "  }\n",
              "\n",
              "  @keyframes spin {\n",
              "    0% {\n",
              "      border-color: transparent;\n",
              "      border-bottom-color: var(--fill-color);\n",
              "      border-left-color: var(--fill-color);\n",
              "    }\n",
              "    20% {\n",
              "      border-color: transparent;\n",
              "      border-left-color: var(--fill-color);\n",
              "      border-top-color: var(--fill-color);\n",
              "    }\n",
              "    30% {\n",
              "      border-color: transparent;\n",
              "      border-left-color: var(--fill-color);\n",
              "      border-top-color: var(--fill-color);\n",
              "      border-right-color: var(--fill-color);\n",
              "    }\n",
              "    40% {\n",
              "      border-color: transparent;\n",
              "      border-right-color: var(--fill-color);\n",
              "      border-top-color: var(--fill-color);\n",
              "    }\n",
              "    60% {\n",
              "      border-color: transparent;\n",
              "      border-right-color: var(--fill-color);\n",
              "    }\n",
              "    80% {\n",
              "      border-color: transparent;\n",
              "      border-right-color: var(--fill-color);\n",
              "      border-bottom-color: var(--fill-color);\n",
              "    }\n",
              "    90% {\n",
              "      border-color: transparent;\n",
              "      border-bottom-color: var(--fill-color);\n",
              "    }\n",
              "  }\n",
              "</style>\n",
              "\n",
              "  <script>\n",
              "    async function quickchart(key) {\n",
              "      const quickchartButtonEl =\n",
              "        document.querySelector('#' + key + ' button');\n",
              "      quickchartButtonEl.disabled = true;  // To prevent multiple clicks.\n",
              "      quickchartButtonEl.classList.add('colab-df-spinner');\n",
              "      try {\n",
              "        const charts = await google.colab.kernel.invokeFunction(\n",
              "            'suggestCharts', [key], {});\n",
              "      } catch (error) {\n",
              "        console.error('Error during call to suggestCharts:', error);\n",
              "      }\n",
              "      quickchartButtonEl.classList.remove('colab-df-spinner');\n",
              "      quickchartButtonEl.classList.add('colab-df-quickchart-complete');\n",
              "    }\n",
              "    (() => {\n",
              "      let quickchartButtonEl =\n",
              "        document.querySelector('#df-f33aadd8-5683-4fbe-b596-d1f8a49410ee button');\n",
              "      quickchartButtonEl.style.display =\n",
              "        google.colab.kernel.accessAllowed ? 'block' : 'none';\n",
              "    })();\n",
              "  </script>\n",
              "</div>\n",
              "\n",
              "    </div>\n",
              "  </div>\n"
            ],
            "application/vnd.google.colaboratory.intrinsic+json": {
              "type": "dataframe"
            }
          },
          "metadata": {},
          "execution_count": 4
        }
      ]
    },
    {
      "cell_type": "markdown",
      "source": [
        "#a) Exploration (2 scatters plots)"
      ],
      "metadata": {
        "id": "gUgLu02CDzdK"
      }
    },
    {
      "cell_type": "markdown",
      "source": [
        "a) Explore the relationship between Spending and each of the two\n",
        "continuous variables by creating two scatters plots (SPENDING\n",
        "vs. FREQ and SPENDING vs. LAST_UPDATE). Does there\n",
        "seem to be a linear relationship there? => Capture Screen !"
      ],
      "metadata": {
        "id": "Sx_hRiPEmbVW"
      }
    },
    {
      "cell_type": "code",
      "source": [
        "plt.figure(figsize=(15, 7))\n",
        "\n",
        "plt.subplot(1, 2, 1)\n",
        "sns.scatterplot(data=df, x='Freq', y='Spending')\n",
        "plt.title('Spending vs. Freq')\n",
        "\n",
        "plt.subplot(1, 2, 2)\n",
        "sns.scatterplot(data=df, x='last_update_days_ago', y='Spending')\n",
        "plt.title('Spending vs. last_update_days_ago')\n",
        "\n",
        "plt.tight_layout()\n",
        "plt.show()"
      ],
      "metadata": {
        "colab": {
          "base_uri": "https://localhost:8080/",
          "height": 533
        },
        "id": "dfq5lzgkD78H",
        "outputId": "1df27285-2fdc-4a3e-cc17-7b6fe710c062"
      },
      "execution_count": null,
      "outputs": [
        {
          "output_type": "display_data",
          "data": {
            "text/plain": [
              "<Figure size 1500x700 with 2 Axes>"
            ],
            "image/png": "[encoded data removed]"
          },
          "metadata": {}
        }
      ]
    },
    {
      "cell_type": "markdown",
      "source": [
        "#b) Fitting first model (6 predictors)"
      ],
      "metadata": {
        "id": "WtSWIcMX4_v2"
      }
    },
    {
      "cell_type": "markdown",
      "source": [
        "b) Fit a predictive model for SPENDING using only the following\n",
        "predictors: Freq, Last_update, Web_order, Gender, US,\n",
        "Adress_is_res [Use all these features]"
      ],
      "metadata": {
        "id": "tCurXOYe5KNr"
      }
    },
    {
      "cell_type": "code",
      "source": [
        "import pandas as pd\n",
        "from sklearn.model_selection import train_test_split\n",
        "from sklearn.preprocessing import StandardScaler\n",
        "from sklearn.linear_model import LinearRegression\n",
        "from sklearn.metrics import mean_squared_error\n",
        "import statsmodels.api as sm\n",
        "import numpy as np\n",
        "\n",
        "# Load and filter the data to include only records with 'Purchase' == 1\n",
        "df = df[df['Purchase'] == 1]\n",
        "\n",
        "# Define the features and target variable\n",
        "predictors = ['Freq', 'last_update_days_ago', 'Web order', 'Gender=male', 'US', 'Address_is_res']\n",
        "X = df[predictors]\n",
        "y = df['Spending']\n",
        "\n",
        "# Partition the data into training and test sets\n",
        "X_train = X[df['Partition'] == 't']\n",
        "y_train = y[df['Partition'] == 't']\n",
        "X_test = X[df['Partition'] == 'v']\n",
        "y_test = y[df['Partition'] == 'v']\n",
        "\n",
        "# Standardize the features\n",
        "scaler = StandardScaler().fit(X_train)\n",
        "X_train_scaled = scaler.transform(X_train)\n",
        "X_test_scaled = scaler.transform(X_test)\n",
        "\n",
        "# Fit the initial linear regression model\n",
        "model = LinearRegression()\n",
        "model.fit(X_train_scaled, y_train)\n",
        "\n",
        "# Print the coefficients and intercept of the initial model\n",
        "print(\"Features:\", X_train.columns.tolist())\n",
        "print(\"Coefficients:\", model.coef_)\n",
        "print(\"Intercept:\", model.intercept_)"
      ],
      "metadata": {
        "colab": {
          "base_uri": "https://localhost:8080/"
        },
        "id": "3MN2vdYS_2AF",
        "outputId": "f8ac9732-9fe2-43c6-9724-add4cff1e0db"
      },
      "execution_count": null,
      "outputs": [
        {
          "output_type": "stream",
          "name": "stdout",
          "text": [
            "Features: ['Freq', 'last_update_days_ago', 'Web order', 'Gender=male', 'US', 'Address_is_res']\n",
            "Coefficients: [155.95020921 -28.21799529   0.76905178   2.15133686  16.33333742\n",
            " -38.55799405]\n",
            "Intercept: 207.78364116094986\n"
          ]
        }
      ]
    },
    {
      "cell_type": "code",
      "source": [
        "# Make predictions on the test data set\n",
        "y_pred = model.predict(X_test_scaled)\n",
        "\n",
        "# Calculate and print the Mean Squared Error (MSE) of the initial model\n",
        "mse = mean_squared_error(y_test, y_pred)\n",
        "print(\"Mean Squared Error (MSE):\", mse)\n",
        "\n",
        "# Calculate and print the R-squared value of the initial model\n",
        "r_squared = model.score(X_test_scaled, y_test)\n",
        "print(\"R-squared:\", r_squared)\n",
        "\n",
        "# Add a constant term for the OLS model and fit the model\n",
        "X_train_const = sm.add_constant(X_train_scaled)\n",
        "model_sm = sm.OLS(y_train, X_train_const).fit()\n",
        "\n",
        "# Get and print the p-values of the predictors\n",
        "p_values = model_sm.pvalues\n",
        "print(\"P-values of predictors:\", p_values)"
      ],
      "metadata": {
        "colab": {
          "base_uri": "https://localhost:8080/"
        },
        "id": "Bl-uLfc_Wgvn",
        "outputId": "09b00a63-a999-41c1-afc0-dd830c1f328a"
      },
      "execution_count": null,
      "outputs": [
        {
          "output_type": "stream",
          "name": "stdout",
          "text": [
            "Mean Squared Error (MSE): 27059.971822927855\n",
            "R-squared: 0.4417496100433478\n",
            "P-values of predictors: const    3.571133e-78\n",
            "x1       6.320007e-47\n",
            "x2       2.643790e-03\n",
            "x3       9.293012e-01\n",
            "x4       8.029935e-01\n",
            "x5       6.146229e-02\n",
            "x6       1.251535e-05\n",
            "dtype: float64\n"
          ]
        }
      ]
    },
    {
      "cell_type": "code",
      "source": [
        "# Identify and print non-significant predictors (p-value > 0.05)\n",
        "non_significant_predictors = [predictors[i-1] for i in range(1, len(predictors)+1) if p_values[i] > 0.05]\n",
        "print(\"Non-significant predictors (P-value > 0.05):\", non_significant_predictors)\n",
        "\n",
        "#non_significant_predictors = p_values[p_values > 0.05].index.tolist()\n",
        "#print(\"Non-significant predictors (P-value > 0.05):\", non_significant_predictors)"
      ],
      "metadata": {
        "colab": {
          "base_uri": "https://localhost:8080/"
        },
        "id": "ZsNnE_uwX0Go",
        "outputId": "c6246af7-bb4a-49c6-8adb-b8cb136e5eab"
      },
      "execution_count": null,
      "outputs": [
        {
          "output_type": "stream",
          "name": "stdout",
          "text": [
            "Non-significant predictors (P-value > 0.05): ['Web order', 'Gender=male', 'US']\n"
          ]
        }
      ]
    },
    {
      "cell_type": "markdown",
      "source": [
        "#c) Fitting second model (best predictors)"
      ],
      "metadata": {
        "id": "w_hB5g4DFTUQ"
      }
    },
    {
      "cell_type": "markdown",
      "source": [
        "c) Fit a second predictive model for SPENDING using your best\n",
        "predictors:\n",
        "\n",
        "    1) Apply multiple linear regression to create a spending prediction model. Then, give the regression equation 2.\n",
        "    2) Displays the prediction results of the purchase amount in the first record of the test data set, along with indicating the error obtained.\n",
        "    3) Give the performance of the model (error) on the test data set.\n",
        "\n"
      ],
      "metadata": {
        "id": "nIseDvp_FHrW"
      }
    },
    {
      "cell_type": "code",
      "source": [
        "# Define the best predictors (with p-value < 0.05)\n",
        "best_predictors = ['Freq', 'Gender=male', 'US', 'Address_is_res']\n",
        "X_train_best = X_train[best_predictors]\n",
        "X_test_best = X_test[best_predictors]"
      ],
      "metadata": {
        "id": "KwTPabxCW3FR"
      },
      "execution_count": null,
      "outputs": []
    },
    {
      "cell_type": "code",
      "source": [
        "# Standardize the best predictors\n",
        "scaler_best = StandardScaler().fit(X_train_best)\n",
        "X_train_best_scaled = scaler_best.transform(X_train_best)\n",
        "X_test_best_scaled = scaler_best.transform(X_test_best)\n",
        "\n",
        "# Fit the second linear regression model using the best predictors\n",
        "model_best = LinearRegression()\n",
        "model_best.fit(X_train_best_scaled, y_train)\n",
        "\n",
        "# Get the coefficients and intercept of the second model\n",
        "coefficients_best = model_best.coef_\n",
        "intercept_best = model_best.intercept_\n",
        "\n",
        "# Print the best features, their coefficients, and the intercept\n",
        "print(\"Best Features:\", best_predictors)\n",
        "print(\"Coefficients:\", coefficients_best)\n",
        "print(\"Intercept:\", intercept_best)"
      ],
      "metadata": {
        "colab": {
          "base_uri": "https://localhost:8080/"
        },
        "id": "7Mp5ANJcFF6A",
        "outputId": "41f008a7-7407-4adf-f1c9-5b00f62db289"
      },
      "execution_count": null,
      "outputs": [
        {
          "output_type": "stream",
          "name": "stdout",
          "text": [
            "Best Features: ['Freq', 'Gender=male', 'US', 'Address_is_res']\n",
            "Coefficients: [165.89628709   2.61763221  12.38904939 -37.85400061]\n",
            "Intercept: 207.78364116094986\n"
          ]
        }
      ]
    },
    {
      "cell_type": "code",
      "source": [
        "# Construct and print the regression equation for the second model\n",
        "regression_equation_2 = f\"Spending = {intercept_best:.2f} \" + \" \".join([f\"+ {coef:.2f}*{name}\" for coef, name in zip(coefficients_best, best_predictors)])\n",
        "print(\"Regression Equation 2:\")\n",
        "print(regression_equation_2)"
      ],
      "metadata": {
        "colab": {
          "base_uri": "https://localhost:8080/"
        },
        "id": "dK2emglTXGtL",
        "outputId": "b4b7091e-345e-45ed-eaaf-1abfbec28f1b"
      },
      "execution_count": null,
      "outputs": [
        {
          "output_type": "stream",
          "name": "stdout",
          "text": [
            "Regression Equation 2:\n",
            "Spending = 207.78 + 165.90*Freq + 2.62*Gender=male + 12.39*US + -37.85*Address_is_res\n"
          ]
        }
      ]
    },
    {
      "cell_type": "code",
      "source": [
        "# Predict spending for the first record in the test data set\n",
        "first_record = X_test_best_scaled[0].reshape(1, -1)\n",
        "predicted_spending_first = model_best.predict(first_record)[0]\n",
        "actual_spending_first = y_test.iloc[0]\n",
        "error_first = abs(predicted_spending_first - actual_spending_first)\n",
        "\n",
        "# Print the predicted and actual spending for the first record, and the error\n",
        "print(\"Predicted Spending for First Record:\", predicted_spending_first)\n",
        "print(\"Actual Spending for First Record:\", actual_spending_first)\n",
        "print(\"Error for First Record:\", error_first)"
      ],
      "metadata": {
        "colab": {
          "base_uri": "https://localhost:8080/"
        },
        "id": "7GCcRBL2XMQj",
        "outputId": "9bbada30-b436-4287-edca-6f7681020fb9"
      },
      "execution_count": null,
      "outputs": [
        {
          "output_type": "stream",
          "name": "stdout",
          "text": [
            "Predicted Spending for First Record: 117.11456222149951\n",
            "Actual Spending for First Record: 174\n",
            "Error for First Record: 56.88543777850049\n"
          ]
        }
      ]
    },
    {
      "cell_type": "code",
      "source": [
        "# Make predictions on the test data set using the second model\n",
        "y_pred_best = model_best.predict(X_test_best_scaled)\n",
        "\n",
        "# Calculate and print the Mean Squared Error (MSE) of the second model on the test data set\n",
        "mse_best = mean_squared_error(y_test, y_pred_best)\n",
        "print(\"Mean Squared Error (MSE) on Test Data Set:\", mse_best)"
      ],
      "metadata": {
        "colab": {
          "base_uri": "https://localhost:8080/"
        },
        "id": "fGTeB60zXPPE",
        "outputId": "69aee83b-df72-411a-a2d5-49bdb9b8662a"
      },
      "execution_count": null,
      "outputs": [
        {
          "output_type": "stream",
          "name": "stdout",
          "text": [
            "Mean Squared Error (MSE) on Test Data Set: 27356.521459261934\n"
          ]
        }
      ]
    }
  ]
}