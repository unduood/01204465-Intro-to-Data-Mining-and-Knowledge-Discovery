{
  "nbformat": 4,
  "nbformat_minor": 0,
  "metadata": {
    "kernelspec": {
      "display_name": "Python 3",
      "name": "python3"
    },
    "language_info": {
      "codemirror_mode": {
        "name": "ipython",
        "version": 3
      },
      "file_extension": ".py",
      "mimetype": "text/x-python",
      "name": "python",
      "nbconvert_exporter": "python",
      "pygments_lexer": "ipython3",
      "version": "3.6.7"
    },
    "colab": {
      "provenance": [],
      "gpuType": "T4"
    },
    "accelerator": "GPU"
  },
  "cells": [
    {
      "cell_type": "code",
      "metadata": {
        "id": "1xWc7JiZp3Hh"
      },
      "source": [
        "import pandas as pd\n",
        "import numpy as np\n",
        "import matplotlib.pyplot as plt\n",
        "%matplotlib inline\n",
        "import seaborn as sns"
      ],
      "execution_count": null,
      "outputs": []
    },
    {
      "cell_type": "markdown",
      "source": [
        "# Q1: สรุปข้อมูล (Data Summary)"
      ],
      "metadata": {
        "id": "fi2RcuXQ5Qbg"
      }
    },
    {
      "cell_type": "markdown",
      "source": [
        "##Q1-a"
      ],
      "metadata": {
        "id": "QQ6zX89lhZii"
      }
    },
    {
      "cell_type": "markdown",
      "source": [
        "a) โหลดชุดข้อมูล Titanic"
      ],
      "metadata": {
        "id": "gRiHmns67Xdi"
      }
    },
    {
      "cell_type": "code",
      "metadata": {
        "id": "z1U7Pm9Jp3Hi"
      },
      "source": [
        "df=pd.read_csv('titanic_data.csv')"
      ],
      "execution_count": null,
      "outputs": []
    },
    {
      "cell_type": "markdown",
      "source": [
        "##Q1-b"
      ],
      "metadata": {
        "id": "xEJPiDcIhfA_"
      }
    },
    {
      "cell_type": "markdown",
      "source": [
        "b) แสดงบางส่วนของข้อมูล"
      ],
      "metadata": {
        "id": "rbtcQdgT7lr9"
      }
    },
    {
      "cell_type": "code",
      "metadata": {
        "id": "4fsvriPcp3Hj",
        "colab": {
          "base_uri": "https://localhost:8080/",
          "height": 258
        },
        "outputId": "721351ba-35e2-46ad-e14b-322374ca781f"
      },
      "source": [
        "## print the top5 records\n",
        "df.head()"
      ],
      "execution_count": null,
      "outputs": [
        {
          "output_type": "execute_result",
          "data": {
            "text/plain": [
              "   PassengerId  Survived  Pclass  \\\n",
              "0            1         0       3   \n",
              "1            2         1       1   \n",
              "2            3         1       3   \n",
              "3            4         1       1   \n",
              "4            5         0       3   \n",
              "\n",
              "                                                Name     Sex   Age  SibSp  \\\n",
              "0                            Braund, Mr. Owen Harris    male  22.0      1   \n",
              "1  Cumings, Mrs. John Bradley (Florence Briggs Th...  female  38.0      1   \n",
              "2                             Heikkinen, Miss. Laina  female  26.0      0   \n",
              "3       Futrelle, Mrs. Jacques Heath (Lily May Peel)  female  35.0      1   \n",
              "4                           Allen, Mr. William Henry    male  35.0      0   \n",
              "\n",
              "   Parch            Ticket     Fare Cabin Embarked  \n",
              "0      0         A/5 21171   7.2500   NaN        S  \n",
              "1      0          PC 17599  71.2833   C85        C  \n",
              "2      0  STON/O2. 3101282   7.9250   NaN        S  \n",
              "3      0            113803  53.1000  C123        S  \n",
              "4      0            373450   8.0500   NaN        S  "
            ],
            "text/html": [
              "\n",
              "  <div id=\"df-1413e408-0688-4465-a8df-4b4cacfa365d\" class=\"colab-df-container\">\n",
              "    <div>\n",
              "<style scoped>\n",
              "    .dataframe tbody tr th:only-of-type {\n",
              "        vertical-align: middle;\n",
              "    }\n",
              "\n",
              "    .dataframe tbody tr th {\n",
              "        vertical-align: top;\n",
              "    }\n",
              "\n",
              "    .dataframe thead th {\n",
              "        text-align: right;\n",
              "    }\n",
              "</style>\n",
              "<table border=\"1\" class=\"dataframe\">\n",
              "  <thead>\n",
              "    <tr style=\"text-align: right;\">\n",
              "      <th></th>\n",
              "      <th>PassengerId</th>\n",
              "      <th>Survived</th>\n",
              "      <th>Pclass</th>\n",
              "      <th>Name</th>\n",
              "      <th>Sex</th>\n",
              "      <th>Age</th>\n",
              "      <th>SibSp</th>\n",
              "      <th>Parch</th>\n",
              "      <th>Ticket</th>\n",
              "      <th>Fare</th>\n",
              "      <th>Cabin</th>\n",
              "      <th>Embarked</th>\n",
              "    </tr>\n",
              "  </thead>\n",
              "  <tbody>\n",
              "    <tr>\n",
              "      <th>0</th>\n",
              "      <td>1</td>\n",
              "      <td>0</td>\n",
              "      <td>3</td>\n",
              "      <td>Braund, Mr. Owen Harris</td>\n",
              "      <td>male</td>\n",
              "      <td>22.0</td>\n",
              "      <td>1</td>\n",
              "      <td>0</td>\n",
              "      <td>A/5 21171</td>\n",
              "      <td>7.2500</td>\n",
              "      <td>NaN</td>\n",
              "      <td>S</td>\n",
              "    </tr>\n",
              "    <tr>\n",
              "      <th>1</th>\n",
              "      <td>2</td>\n",
              "      <td>1</td>\n",
              "      <td>1</td>\n",
              "      <td>Cumings, Mrs. John Bradley (Florence Briggs Th...</td>\n",
              "      <td>female</td>\n",
              "      <td>38.0</td>\n",
              "      <td>1</td>\n",
              "      <td>0</td>\n",
              "      <td>PC 17599</td>\n",
              "      <td>71.2833</td>\n",
              "      <td>C85</td>\n",
              "      <td>C</td>\n",
              "    </tr>\n",
              "    <tr>\n",
              "      <th>2</th>\n",
              "      <td>3</td>\n",
              "      <td>1</td>\n",
              "      <td>3</td>\n",
              "      <td>Heikkinen, Miss. Laina</td>\n",
              "      <td>female</td>\n",
              "      <td>26.0</td>\n",
              "      <td>0</td>\n",
              "      <td>0</td>\n",
              "      <td>STON/O2. 3101282</td>\n",
              "      <td>7.9250</td>\n",
              "      <td>NaN</td>\n",
              "      <td>S</td>\n",
              "    </tr>\n",
              "    <tr>\n",
              "      <th>3</th>\n",
              "      <td>4</td>\n",
              "      <td>1</td>\n",
              "      <td>1</td>\n",
              "      <td>Futrelle, Mrs. Jacques Heath (Lily May Peel)</td>\n",
              "      <td>female</td>\n",
              "      <td>35.0</td>\n",
              "      <td>1</td>\n",
              "      <td>0</td>\n",
              "      <td>113803</td>\n",
              "      <td>53.1000</td>\n",
              "      <td>C123</td>\n",
              "      <td>S</td>\n",
              "    </tr>\n",
              "    <tr>\n",
              "      <th>4</th>\n",
              "      <td>5</td>\n",
              "      <td>0</td>\n",
              "      <td>3</td>\n",
              "      <td>Allen, Mr. William Henry</td>\n",
              "      <td>male</td>\n",
              "      <td>35.0</td>\n",
              "      <td>0</td>\n",
              "      <td>0</td>\n",
              "      <td>373450</td>\n",
              "      <td>8.0500</td>\n",
              "      <td>NaN</td>\n",
              "      <td>S</td>\n",
              "    </tr>\n",
              "  </tbody>\n",
              "</table>\n",
              "</div>\n",
              "    <div class=\"colab-df-buttons\">\n",
              "\n",
              "  <div class=\"colab-df-container\">\n",
              "    <button class=\"colab-df-convert\" onclick=\"convertToInteractive('df-1413e408-0688-4465-a8df-4b4cacfa365d')\"\n",
              "            title=\"Convert this dataframe to an interactive table.\"\n",
              "            style=\"display:none;\">\n",
              "\n",
              "  <svg xmlns=\"http://www.w3.org/2000/svg\" height=\"24px\" viewBox=\"0 -960 960 960\">\n",
              "    <path d=\"M120-120v-720h720v720H120Zm60-500h600v-160H180v160Zm220 220h160v-160H400v160Zm0 220h160v-160H400v160ZM180-400h160v-160H180v160Zm440 0h160v-160H620v160ZM180-180h160v-160H180v160Zm440 0h160v-160H620v160Z\"/>\n",
              "  </svg>\n",
              "    </button>\n",
              "\n",
              "  <style>\n",
              "    .colab-df-container {\n",
              "      display:flex;\n",
              "      gap: 12px;\n",
              "    }\n",
              "\n",
              "    .colab-df-convert {\n",
              "      background-color: #E8F0FE;\n",
              "      border: none;\n",
              "      border-radius: 50%;\n",
              "      cursor: pointer;\n",
              "      display: none;\n",
              "      fill: #1967D2;\n",
              "      height: 32px;\n",
              "      padding: 0 0 0 0;\n",
              "      width: 32px;\n",
              "    }\n",
              "\n",
              "    .colab-df-convert:hover {\n",
              "      background-color: #E2EBFA;\n",
              "      box-shadow: 0px 1px 2px rgba(60, 64, 67, 0.3), 0px 1px 3px 1px rgba(60, 64, 67, 0.15);\n",
              "      fill: #174EA6;\n",
              "    }\n",
              "\n",
              "    .colab-df-buttons div {\n",
              "      margin-bottom: 4px;\n",
              "    }\n",
              "\n",
              "    [theme=dark] .colab-df-convert {\n",
              "      background-color: #3B4455;\n",
              "      fill: #D2E3FC;\n",
              "    }\n",
              "\n",
              "    [theme=dark] .colab-df-convert:hover {\n",
              "      background-color: #434B5C;\n",
              "      box-shadow: 0px 1px 3px 1px rgba(0, 0, 0, 0.15);\n",
              "      filter: drop-shadow(0px 1px 2px rgba(0, 0, 0, 0.3));\n",
              "      fill: #FFFFFF;\n",
              "    }\n",
              "  </style>\n",
              "\n",
              "    <script>\n",
              "      const buttonEl =\n",
              "        document.querySelector('#df-1413e408-0688-4465-a8df-4b4cacfa365d button.colab-df-convert');\n",
              "      buttonEl.style.display =\n",
              "        google.colab.kernel.accessAllowed ? 'block' : 'none';\n",
              "\n",
              "      async function convertToInteractive(key) {\n",
              "        const element = document.querySelector('#df-1413e408-0688-4465-a8df-4b4cacfa365d');\n",
              "        const dataTable =\n",
              "          await google.colab.kernel.invokeFunction('convertToInteractive',\n",
              "                                                    [key], {});\n",
              "        if (!dataTable) return;\n",
              "\n",
              "        const docLinkHtml = 'Like what you see? Visit the ' +\n",
              "          '<a target=\"_blank\" href=https://colab.research.google.com/notebooks/data_table.ipynb>data table notebook</a>'\n",
              "          + ' to learn more about interactive tables.';\n",
              "        element.innerHTML = '';\n",
              "        dataTable['output_type'] = 'display_data';\n",
              "        await google.colab.output.renderOutput(dataTable, element);\n",
              "        const docLink = document.createElement('div');\n",
              "        docLink.innerHTML = docLinkHtml;\n",
              "        element.appendChild(docLink);\n",
              "      }\n",
              "    </script>\n",
              "  </div>\n",
              "\n",
              "\n",
              "<div id=\"df-e13fb7c4-1e28-4e10-abd5-eb2bfa04cf16\">\n",
              "  <button class=\"colab-df-quickchart\" onclick=\"quickchart('df-e13fb7c4-1e28-4e10-abd5-eb2bfa04cf16')\"\n",
              "            title=\"Suggest charts\"\n",
              "            style=\"display:none;\">\n",
              "\n",
              "<svg xmlns=\"http://www.w3.org/2000/svg\" height=\"24px\"viewBox=\"0 0 24 24\"\n",
              "     width=\"24px\">\n",
              "    <g>\n",
              "        <path d=\"M19 3H5c-1.1 0-2 .9-2 2v14c0 1.1.9 2 2 2h14c1.1 0 2-.9 2-2V5c0-1.1-.9-2-2-2zM9 17H7v-7h2v7zm4 0h-2V7h2v10zm4 0h-2v-4h2v4z\"/>\n",
              "    </g>\n",
              "</svg>\n",
              "  </button>\n",
              "\n",
              "<style>\n",
              "  .colab-df-quickchart {\n",
              "      --bg-color: #E8F0FE;\n",
              "      --fill-color: #1967D2;\n",
              "      --hover-bg-color: #E2EBFA;\n",
              "      --hover-fill-color: #174EA6;\n",
              "      --disabled-fill-color: #AAA;\n",
              "      --disabled-bg-color: #DDD;\n",
              "  }\n",
              "\n",
              "  [theme=dark] .colab-df-quickchart {\n",
              "      --bg-color: #3B4455;\n",
              "      --fill-color: #D2E3FC;\n",
              "      --hover-bg-color: #434B5C;\n",
              "      --hover-fill-color: #FFFFFF;\n",
              "      --disabled-bg-color: #3B4455;\n",
              "      --disabled-fill-color: #666;\n",
              "  }\n",
              "\n",
              "  .colab-df-quickchart {\n",
              "    background-color: var(--bg-color);\n",
              "    border: none;\n",
              "    border-radius: 50%;\n",
              "    cursor: pointer;\n",
              "    display: none;\n",
              "    fill: var(--fill-color);\n",
              "    height: 32px;\n",
              "    padding: 0;\n",
              "    width: 32px;\n",
              "  }\n",
              "\n",
              "  .colab-df-quickchart:hover {\n",
              "    background-color: var(--hover-bg-color);\n",
              "    box-shadow: 0 1px 2px rgba(60, 64, 67, 0.3), 0 1px 3px 1px rgba(60, 64, 67, 0.15);\n",
              "    fill: var(--button-hover-fill-color);\n",
              "  }\n",
              "\n",
              "  .colab-df-quickchart-complete:disabled,\n",
              "  .colab-df-quickchart-complete:disabled:hover {\n",
              "    background-color: var(--disabled-bg-color);\n",
              "    fill: var(--disabled-fill-color);\n",
              "    box-shadow: none;\n",
              "  }\n",
              "\n",
              "  .colab-df-spinner {\n",
              "    border: 2px solid var(--fill-color);\n",
              "    border-color: transparent;\n",
              "    border-bottom-color: var(--fill-color);\n",
              "    animation:\n",
              "      spin 1s steps(1) infinite;\n",
              "  }\n",
              "\n",
              "  @keyframes spin {\n",
              "    0% {\n",
              "      border-color: transparent;\n",
              "      border-bottom-color: var(--fill-color);\n",
              "      border-left-color: var(--fill-color);\n",
              "    }\n",
              "    20% {\n",
              "      border-color: transparent;\n",
              "      border-left-color: var(--fill-color);\n",
              "      border-top-color: var(--fill-color);\n",
              "    }\n",
              "    30% {\n",
              "      border-color: transparent;\n",
              "      border-left-color: var(--fill-color);\n",
              "      border-top-color: var(--fill-color);\n",
              "      border-right-color: var(--fill-color);\n",
              "    }\n",
              "    40% {\n",
              "      border-color: transparent;\n",
              "      border-right-color: var(--fill-color);\n",
              "      border-top-color: var(--fill-color);\n",
              "    }\n",
              "    60% {\n",
              "      border-color: transparent;\n",
              "      border-right-color: var(--fill-color);\n",
              "    }\n",
              "    80% {\n",
              "      border-color: transparent;\n",
              "      border-right-color: var(--fill-color);\n",
              "      border-bottom-color: var(--fill-color);\n",
              "    }\n",
              "    90% {\n",
              "      border-color: transparent;\n",
              "      border-bottom-color: var(--fill-color);\n",
              "    }\n",
              "  }\n",
              "</style>\n",
              "\n",
              "  <script>\n",
              "    async function quickchart(key) {\n",
              "      const quickchartButtonEl =\n",
              "        document.querySelector('#' + key + ' button');\n",
              "      quickchartButtonEl.disabled = true;  // To prevent multiple clicks.\n",
              "      quickchartButtonEl.classList.add('colab-df-spinner');\n",
              "      try {\n",
              "        const charts = await google.colab.kernel.invokeFunction(\n",
              "            'suggestCharts', [key], {});\n",
              "      } catch (error) {\n",
              "        console.error('Error during call to suggestCharts:', error);\n",
              "      }\n",
              "      quickchartButtonEl.classList.remove('colab-df-spinner');\n",
              "      quickchartButtonEl.classList.add('colab-df-quickchart-complete');\n",
              "    }\n",
              "    (() => {\n",
              "      let quickchartButtonEl =\n",
              "        document.querySelector('#df-e13fb7c4-1e28-4e10-abd5-eb2bfa04cf16 button');\n",
              "      quickchartButtonEl.style.display =\n",
              "        google.colab.kernel.accessAllowed ? 'block' : 'none';\n",
              "    })();\n",
              "  </script>\n",
              "</div>\n",
              "\n",
              "    </div>\n",
              "  </div>\n"
            ],
            "application/vnd.google.colaboratory.intrinsic+json": {
              "type": "dataframe",
              "variable_name": "df",
              "summary": "{\n  \"name\": \"df\",\n  \"rows\": 891,\n  \"fields\": [\n    {\n      \"column\": \"PassengerId\",\n      \"properties\": {\n        \"dtype\": \"number\",\n        \"std\": 257,\n        \"min\": 1,\n        \"max\": 891,\n        \"num_unique_values\": 891,\n        \"samples\": [\n          710,\n          440,\n          841\n        ],\n        \"semantic_type\": \"\",\n        \"description\": \"\"\n      }\n    },\n    {\n      \"column\": \"Survived\",\n      \"properties\": {\n        \"dtype\": \"number\",\n        \"std\": 0,\n        \"min\": 0,\n        \"max\": 1,\n        \"num_unique_values\": 2,\n        \"samples\": [\n          1,\n          0\n        ],\n        \"semantic_type\": \"\",\n        \"description\": \"\"\n      }\n    },\n    {\n      \"column\": \"Pclass\",\n      \"properties\": {\n        \"dtype\": \"number\",\n        \"std\": 0,\n        \"min\": 1,\n        \"max\": 3,\n        \"num_unique_values\": 3,\n        \"samples\": [\n          3,\n          1\n        ],\n        \"semantic_type\": \"\",\n        \"description\": \"\"\n      }\n    },\n    {\n      \"column\": \"Name\",\n      \"properties\": {\n        \"dtype\": \"string\",\n        \"num_unique_values\": 891,\n        \"samples\": [\n          \"Moubarek, Master. Halim Gonios (\\\"William George\\\")\",\n          \"Kvillner, Mr. Johan Henrik Johannesson\"\n        ],\n        \"semantic_type\": \"\",\n        \"description\": \"\"\n      }\n    },\n    {\n      \"column\": \"Sex\",\n      \"properties\": {\n        \"dtype\": \"category\",\n        \"num_unique_values\": 2,\n        \"samples\": [\n          \"female\",\n          \"male\"\n        ],\n        \"semantic_type\": \"\",\n        \"description\": \"\"\n      }\n    },\n    {\n      \"column\": \"Age\",\n      \"properties\": {\n        \"dtype\": \"number\",\n        \"std\": 14.526497332334042,\n        \"min\": 0.42,\n        \"max\": 80.0,\n        \"num_unique_values\": 88,\n        \"samples\": [\n          0.75,\n          22.0\n        ],\n        \"semantic_type\": \"\",\n        \"description\": \"\"\n      }\n    },\n    {\n      \"column\": \"SibSp\",\n      \"properties\": {\n        \"dtype\": \"number\",\n        \"std\": 1,\n        \"min\": 0,\n        \"max\": 8,\n        \"num_unique_values\": 7,\n        \"samples\": [\n          1,\n          0\n        ],\n        \"semantic_type\": \"\",\n        \"description\": \"\"\n      }\n    },\n    {\n      \"column\": \"Parch\",\n      \"properties\": {\n        \"dtype\": \"number\",\n        \"std\": 0,\n        \"min\": 0,\n        \"max\": 6,\n        \"num_unique_values\": 7,\n        \"samples\": [\n          0,\n          1\n        ],\n        \"semantic_type\": \"\",\n        \"description\": \"\"\n      }\n    },\n    {\n      \"column\": \"Ticket\",\n      \"properties\": {\n        \"dtype\": \"string\",\n        \"num_unique_values\": 681,\n        \"samples\": [\n          \"11774\",\n          \"248740\"\n        ],\n        \"semantic_type\": \"\",\n        \"description\": \"\"\n      }\n    },\n    {\n      \"column\": \"Fare\",\n      \"properties\": {\n        \"dtype\": \"number\",\n        \"std\": 49.6934285971809,\n        \"min\": 0.0,\n        \"max\": 512.3292,\n        \"num_unique_values\": 248,\n        \"samples\": [\n          11.2417,\n          51.8625\n        ],\n        \"semantic_type\": \"\",\n        \"description\": \"\"\n      }\n    },\n    {\n      \"column\": \"Cabin\",\n      \"properties\": {\n        \"dtype\": \"category\",\n        \"num_unique_values\": 147,\n        \"samples\": [\n          \"D45\",\n          \"B49\"\n        ],\n        \"semantic_type\": \"\",\n        \"description\": \"\"\n      }\n    },\n    {\n      \"column\": \"Embarked\",\n      \"properties\": {\n        \"dtype\": \"category\",\n        \"num_unique_values\": 3,\n        \"samples\": [\n          \"S\",\n          \"C\"\n        ],\n        \"semantic_type\": \"\",\n        \"description\": \"\"\n      }\n    }\n  ]\n}"
            }
          },
          "metadata": {},
          "execution_count": 3
        }
      ]
    },
    {
      "cell_type": "markdown",
      "source": [
        "###Q1-c"
      ],
      "metadata": {
        "id": "bY1mVyfuhmPu"
      }
    },
    {
      "cell_type": "markdown",
      "source": [
        "c) แต่ละคอลัมน์มีประเภทข้อมูล (data types) เป็นอะไรบ้าง?"
      ],
      "metadata": {
        "id": "ZvtQ0WjV8FyO"
      }
    },
    {
      "cell_type": "code",
      "source": [
        "df.dtypes\n",
        "#print(df.dtypes)"
      ],
      "metadata": {
        "colab": {
          "base_uri": "https://localhost:8080/",
          "height": 460
        },
        "id": "RXTqQuSy8QWp",
        "outputId": "e14d1a4d-3d07-4697-ba56-725e88245f88"
      },
      "execution_count": null,
      "outputs": [
        {
          "output_type": "execute_result",
          "data": {
            "text/plain": [
              "PassengerId      int64\n",
              "Survived         int64\n",
              "Pclass           int64\n",
              "Name            object\n",
              "Sex             object\n",
              "Age            float64\n",
              "SibSp            int64\n",
              "Parch            int64\n",
              "Ticket          object\n",
              "Fare           float64\n",
              "Cabin           object\n",
              "Embarked        object\n",
              "dtype: object"
            ],
            "text/html": [
              "<div>\n",
              "<style scoped>\n",
              "    .dataframe tbody tr th:only-of-type {\n",
              "        vertical-align: middle;\n",
              "    }\n",
              "\n",
              "    .dataframe tbody tr th {\n",
              "        vertical-align: top;\n",
              "    }\n",
              "\n",
              "    .dataframe thead th {\n",
              "        text-align: right;\n",
              "    }\n",
              "</style>\n",
              "<table border=\"1\" class=\"dataframe\">\n",
              "  <thead>\n",
              "    <tr style=\"text-align: right;\">\n",
              "      <th></th>\n",
              "      <th>0</th>\n",
              "    </tr>\n",
              "  </thead>\n",
              "  <tbody>\n",
              "    <tr>\n",
              "      <th>PassengerId</th>\n",
              "      <td>int64</td>\n",
              "    </tr>\n",
              "    <tr>\n",
              "      <th>Survived</th>\n",
              "      <td>int64</td>\n",
              "    </tr>\n",
              "    <tr>\n",
              "      <th>Pclass</th>\n",
              "      <td>int64</td>\n",
              "    </tr>\n",
              "    <tr>\n",
              "      <th>Name</th>\n",
              "      <td>object</td>\n",
              "    </tr>\n",
              "    <tr>\n",
              "      <th>Sex</th>\n",
              "      <td>object</td>\n",
              "    </tr>\n",
              "    <tr>\n",
              "      <th>Age</th>\n",
              "      <td>float64</td>\n",
              "    </tr>\n",
              "    <tr>\n",
              "      <th>SibSp</th>\n",
              "      <td>int64</td>\n",
              "    </tr>\n",
              "    <tr>\n",
              "      <th>Parch</th>\n",
              "      <td>int64</td>\n",
              "    </tr>\n",
              "    <tr>\n",
              "      <th>Ticket</th>\n",
              "      <td>object</td>\n",
              "    </tr>\n",
              "    <tr>\n",
              "      <th>Fare</th>\n",
              "      <td>float64</td>\n",
              "    </tr>\n",
              "    <tr>\n",
              "      <th>Cabin</th>\n",
              "      <td>object</td>\n",
              "    </tr>\n",
              "    <tr>\n",
              "      <th>Embarked</th>\n",
              "      <td>object</td>\n",
              "    </tr>\n",
              "  </tbody>\n",
              "</table>\n",
              "</div><br><label><b>dtype:</b> object</label>"
            ]
          },
          "metadata": {},
          "execution_count": 4
        }
      ]
    },
    {
      "cell_type": "markdown",
      "source": [
        "# Q2: สถิติเชิงพรรณนา (Descriptive Statistics)"
      ],
      "metadata": {
        "id": "69i2qmnp9vdt"
      }
    },
    {
      "cell_type": "markdown",
      "source": [
        "##Q2-a"
      ],
      "metadata": {
        "id": "ynyIdQ0vh1HH"
      }
    },
    {
      "cell_type": "markdown",
      "source": [
        "a) คํานวณและอธิบายค่าเฉลี่ย (mean), ค่ามัธยฐาน (median), ค่าโหมด (mode), ค่าส่วนเบี่ยงเบนมาตรฐาน (standard deviation), และช่วงควอไทล์ (interquartile range, IQR) สําหรับคอลัมน์ที่เป็นตัวเลข?"
      ],
      "metadata": {
        "id": "QJE93bd1-EFo"
      }
    },
    {
      "cell_type": "code",
      "source": [
        "num_df = df.select_dtypes(include=[np.number])\n",
        "\n",
        "#num_columns = ['PassengerId', 'Survived', 'Pclass', 'Age', 'SibSp', 'Parch', 'Fare'\n",
        "#num_df = df[num_columns]\n",
        "\n",
        "#num_df.describe()"
      ],
      "metadata": {
        "id": "w9M-WqtHCaaD"
      },
      "execution_count": null,
      "outputs": []
    },
    {
      "cell_type": "code",
      "source": [
        "num_df.mean()\n",
        "#df.mean(numeric_only=True)"
      ],
      "metadata": {
        "colab": {
          "base_uri": "https://localhost:8080/",
          "height": 303
        },
        "id": "cXB0UvvB971i",
        "outputId": "ae6bffc3-1658-4d98-e5c2-b1fca507327e"
      },
      "execution_count": null,
      "outputs": [
        {
          "output_type": "execute_result",
          "data": {
            "text/plain": [
              "PassengerId    446.000000\n",
              "Survived         0.383838\n",
              "Pclass           2.308642\n",
              "Age             29.699118\n",
              "SibSp            0.523008\n",
              "Parch            0.381594\n",
              "Fare            32.204208\n",
              "dtype: float64"
            ],
            "text/html": [
              "<div>\n",
              "<style scoped>\n",
              "    .dataframe tbody tr th:only-of-type {\n",
              "        vertical-align: middle;\n",
              "    }\n",
              "\n",
              "    .dataframe tbody tr th {\n",
              "        vertical-align: top;\n",
              "    }\n",
              "\n",
              "    .dataframe thead th {\n",
              "        text-align: right;\n",
              "    }\n",
              "</style>\n",
              "<table border=\"1\" class=\"dataframe\">\n",
              "  <thead>\n",
              "    <tr style=\"text-align: right;\">\n",
              "      <th></th>\n",
              "      <th>0</th>\n",
              "    </tr>\n",
              "  </thead>\n",
              "  <tbody>\n",
              "    <tr>\n",
              "      <th>PassengerId</th>\n",
              "      <td>446.000000</td>\n",
              "    </tr>\n",
              "    <tr>\n",
              "      <th>Survived</th>\n",
              "      <td>0.383838</td>\n",
              "    </tr>\n",
              "    <tr>\n",
              "      <th>Pclass</th>\n",
              "      <td>2.308642</td>\n",
              "    </tr>\n",
              "    <tr>\n",
              "      <th>Age</th>\n",
              "      <td>29.699118</td>\n",
              "    </tr>\n",
              "    <tr>\n",
              "      <th>SibSp</th>\n",
              "      <td>0.523008</td>\n",
              "    </tr>\n",
              "    <tr>\n",
              "      <th>Parch</th>\n",
              "      <td>0.381594</td>\n",
              "    </tr>\n",
              "    <tr>\n",
              "      <th>Fare</th>\n",
              "      <td>32.204208</td>\n",
              "    </tr>\n",
              "  </tbody>\n",
              "</table>\n",
              "</div><br><label><b>dtype:</b> float64</label>"
            ]
          },
          "metadata": {},
          "execution_count": 6
        }
      ]
    },
    {
      "cell_type": "code",
      "source": [
        "num_df.median()\n",
        "#df.median(numeric_only=True)"
      ],
      "metadata": {
        "colab": {
          "base_uri": "https://localhost:8080/",
          "height": 303
        },
        "id": "1EFa_QWP_sXd",
        "outputId": "986465aa-3023-4365-ed00-c78d3d19ecea"
      },
      "execution_count": null,
      "outputs": [
        {
          "output_type": "execute_result",
          "data": {
            "text/plain": [
              "PassengerId    446.0000\n",
              "Survived         0.0000\n",
              "Pclass           3.0000\n",
              "Age             28.0000\n",
              "SibSp            0.0000\n",
              "Parch            0.0000\n",
              "Fare            14.4542\n",
              "dtype: float64"
            ],
            "text/html": [
              "<div>\n",
              "<style scoped>\n",
              "    .dataframe tbody tr th:only-of-type {\n",
              "        vertical-align: middle;\n",
              "    }\n",
              "\n",
              "    .dataframe tbody tr th {\n",
              "        vertical-align: top;\n",
              "    }\n",
              "\n",
              "    .dataframe thead th {\n",
              "        text-align: right;\n",
              "    }\n",
              "</style>\n",
              "<table border=\"1\" class=\"dataframe\">\n",
              "  <thead>\n",
              "    <tr style=\"text-align: right;\">\n",
              "      <th></th>\n",
              "      <th>0</th>\n",
              "    </tr>\n",
              "  </thead>\n",
              "  <tbody>\n",
              "    <tr>\n",
              "      <th>PassengerId</th>\n",
              "      <td>446.0000</td>\n",
              "    </tr>\n",
              "    <tr>\n",
              "      <th>Survived</th>\n",
              "      <td>0.0000</td>\n",
              "    </tr>\n",
              "    <tr>\n",
              "      <th>Pclass</th>\n",
              "      <td>3.0000</td>\n",
              "    </tr>\n",
              "    <tr>\n",
              "      <th>Age</th>\n",
              "      <td>28.0000</td>\n",
              "    </tr>\n",
              "    <tr>\n",
              "      <th>SibSp</th>\n",
              "      <td>0.0000</td>\n",
              "    </tr>\n",
              "    <tr>\n",
              "      <th>Parch</th>\n",
              "      <td>0.0000</td>\n",
              "    </tr>\n",
              "    <tr>\n",
              "      <th>Fare</th>\n",
              "      <td>14.4542</td>\n",
              "    </tr>\n",
              "  </tbody>\n",
              "</table>\n",
              "</div><br><label><b>dtype:</b> float64</label>"
            ]
          },
          "metadata": {},
          "execution_count": 7
        }
      ]
    },
    {
      "cell_type": "code",
      "source": [
        "#num_df.mode() #not same\n",
        "num_df.mode().loc[0,]\n",
        "#df.mode(numeric_only=True).loc[0,]"
      ],
      "metadata": {
        "colab": {
          "base_uri": "https://localhost:8080/",
          "height": 303
        },
        "id": "TIOTtC_3AjvT",
        "outputId": "61c87952-dc85-4030-d0b8-c504afaaecb2"
      },
      "execution_count": null,
      "outputs": [
        {
          "output_type": "execute_result",
          "data": {
            "text/plain": [
              "PassengerId     1.00\n",
              "Survived        0.00\n",
              "Pclass          3.00\n",
              "Age            24.00\n",
              "SibSp           0.00\n",
              "Parch           0.00\n",
              "Fare            8.05\n",
              "Name: 0, dtype: float64"
            ],
            "text/html": [
              "<div>\n",
              "<style scoped>\n",
              "    .dataframe tbody tr th:only-of-type {\n",
              "        vertical-align: middle;\n",
              "    }\n",
              "\n",
              "    .dataframe tbody tr th {\n",
              "        vertical-align: top;\n",
              "    }\n",
              "\n",
              "    .dataframe thead th {\n",
              "        text-align: right;\n",
              "    }\n",
              "</style>\n",
              "<table border=\"1\" class=\"dataframe\">\n",
              "  <thead>\n",
              "    <tr style=\"text-align: right;\">\n",
              "      <th></th>\n",
              "      <th>0</th>\n",
              "    </tr>\n",
              "  </thead>\n",
              "  <tbody>\n",
              "    <tr>\n",
              "      <th>PassengerId</th>\n",
              "      <td>1.00</td>\n",
              "    </tr>\n",
              "    <tr>\n",
              "      <th>Survived</th>\n",
              "      <td>0.00</td>\n",
              "    </tr>\n",
              "    <tr>\n",
              "      <th>Pclass</th>\n",
              "      <td>3.00</td>\n",
              "    </tr>\n",
              "    <tr>\n",
              "      <th>Age</th>\n",
              "      <td>24.00</td>\n",
              "    </tr>\n",
              "    <tr>\n",
              "      <th>SibSp</th>\n",
              "      <td>0.00</td>\n",
              "    </tr>\n",
              "    <tr>\n",
              "      <th>Parch</th>\n",
              "      <td>0.00</td>\n",
              "    </tr>\n",
              "    <tr>\n",
              "      <th>Fare</th>\n",
              "      <td>8.05</td>\n",
              "    </tr>\n",
              "  </tbody>\n",
              "</table>\n",
              "</div><br><label><b>dtype:</b> float64</label>"
            ]
          },
          "metadata": {},
          "execution_count": 8
        }
      ]
    },
    {
      "cell_type": "code",
      "source": [
        "num_df.std()\n",
        "#df.std(numeric_only=True)"
      ],
      "metadata": {
        "colab": {
          "base_uri": "https://localhost:8080/",
          "height": 303
        },
        "id": "zNbE_bOZBVG-",
        "outputId": "33f8beef-9e28-485d-9851-581b9bf51c0d"
      },
      "execution_count": null,
      "outputs": [
        {
          "output_type": "execute_result",
          "data": {
            "text/plain": [
              "PassengerId    257.353842\n",
              "Survived         0.486592\n",
              "Pclass           0.836071\n",
              "Age             14.526497\n",
              "SibSp            1.102743\n",
              "Parch            0.806057\n",
              "Fare            49.693429\n",
              "dtype: float64"
            ],
            "text/html": [
              "<div>\n",
              "<style scoped>\n",
              "    .dataframe tbody tr th:only-of-type {\n",
              "        vertical-align: middle;\n",
              "    }\n",
              "\n",
              "    .dataframe tbody tr th {\n",
              "        vertical-align: top;\n",
              "    }\n",
              "\n",
              "    .dataframe thead th {\n",
              "        text-align: right;\n",
              "    }\n",
              "</style>\n",
              "<table border=\"1\" class=\"dataframe\">\n",
              "  <thead>\n",
              "    <tr style=\"text-align: right;\">\n",
              "      <th></th>\n",
              "      <th>0</th>\n",
              "    </tr>\n",
              "  </thead>\n",
              "  <tbody>\n",
              "    <tr>\n",
              "      <th>PassengerId</th>\n",
              "      <td>257.353842</td>\n",
              "    </tr>\n",
              "    <tr>\n",
              "      <th>Survived</th>\n",
              "      <td>0.486592</td>\n",
              "    </tr>\n",
              "    <tr>\n",
              "      <th>Pclass</th>\n",
              "      <td>0.836071</td>\n",
              "    </tr>\n",
              "    <tr>\n",
              "      <th>Age</th>\n",
              "      <td>14.526497</td>\n",
              "    </tr>\n",
              "    <tr>\n",
              "      <th>SibSp</th>\n",
              "      <td>1.102743</td>\n",
              "    </tr>\n",
              "    <tr>\n",
              "      <th>Parch</th>\n",
              "      <td>0.806057</td>\n",
              "    </tr>\n",
              "    <tr>\n",
              "      <th>Fare</th>\n",
              "      <td>49.693429</td>\n",
              "    </tr>\n",
              "  </tbody>\n",
              "</table>\n",
              "</div><br><label><b>dtype:</b> float64</label>"
            ]
          },
          "metadata": {},
          "execution_count": 9
        }
      ]
    },
    {
      "cell_type": "code",
      "source": [
        "num_df.quantile(0.75) - num_df.quantile(0.25)"
      ],
      "metadata": {
        "colab": {
          "base_uri": "https://localhost:8080/",
          "height": 303
        },
        "id": "qvWCfMiZCKbk",
        "outputId": "5342b857-3d9f-4e52-ecaf-3a7dbe483c60"
      },
      "execution_count": null,
      "outputs": [
        {
          "output_type": "execute_result",
          "data": {
            "text/plain": [
              "PassengerId    445.0000\n",
              "Survived         1.0000\n",
              "Pclass           1.0000\n",
              "Age             17.8750\n",
              "SibSp            1.0000\n",
              "Parch            0.0000\n",
              "Fare            23.0896\n",
              "dtype: float64"
            ],
            "text/html": [
              "<div>\n",
              "<style scoped>\n",
              "    .dataframe tbody tr th:only-of-type {\n",
              "        vertical-align: middle;\n",
              "    }\n",
              "\n",
              "    .dataframe tbody tr th {\n",
              "        vertical-align: top;\n",
              "    }\n",
              "\n",
              "    .dataframe thead th {\n",
              "        text-align: right;\n",
              "    }\n",
              "</style>\n",
              "<table border=\"1\" class=\"dataframe\">\n",
              "  <thead>\n",
              "    <tr style=\"text-align: right;\">\n",
              "      <th></th>\n",
              "      <th>0</th>\n",
              "    </tr>\n",
              "  </thead>\n",
              "  <tbody>\n",
              "    <tr>\n",
              "      <th>PassengerId</th>\n",
              "      <td>445.0000</td>\n",
              "    </tr>\n",
              "    <tr>\n",
              "      <th>Survived</th>\n",
              "      <td>1.0000</td>\n",
              "    </tr>\n",
              "    <tr>\n",
              "      <th>Pclass</th>\n",
              "      <td>1.0000</td>\n",
              "    </tr>\n",
              "    <tr>\n",
              "      <th>Age</th>\n",
              "      <td>17.8750</td>\n",
              "    </tr>\n",
              "    <tr>\n",
              "      <th>SibSp</th>\n",
              "      <td>1.0000</td>\n",
              "    </tr>\n",
              "    <tr>\n",
              "      <th>Parch</th>\n",
              "      <td>0.0000</td>\n",
              "    </tr>\n",
              "    <tr>\n",
              "      <th>Fare</th>\n",
              "      <td>23.0896</td>\n",
              "    </tr>\n",
              "  </tbody>\n",
              "</table>\n",
              "</div><br><label><b>dtype:</b> float64</label>"
            ]
          },
          "metadata": {},
          "execution_count": 10
        }
      ]
    },
    {
      "cell_type": "markdown",
      "source": [
        "1.Mean (ค่าเฉลี่ย): คือผลรวมของค่าทั้งหมดในชุดข้อมูลหารด้วยจำนวนข้อมูลทั้งหมด\n",
        "\n",
        "2.Median (ค่ามัธยฐาน): คือค่าที่ตัดแต่งที่อยู่ตรงกลางของชุดข้อมูลเมื่อเรียงลำดับจากน้อยไปมาก ซึ่งแบ่งข้อมูลเป็นสองส่วนเท่าๆ กันโดยจำนวนข้อมูลที่อยู่ต่ำกว่าและสูงกว่ามัธยฐานเท่ากัน\n",
        "\n",
        "3.Mode (ฐานนิยม): คือค่าที่ปรากฏบ่อยที่สุดในชุดข้อมูล\n",
        "\n",
        "4.Standard Deviation (ส่วนเบี่ยงเบนมาตรฐาน): คือการวัดการกระจายของข้อมูลโดยใช้หน่วยเดียวกับข้อมูลโดยทั่วไป\n",
        "\n",
        "5.Interquartile Range (IQR, ช่วงควอไทล์): คือค่าที่คำนวณจากควอไทล์สาม (Q3) และควอไทล์หนึ่ง (Q1) ซึ่งแสดงถึงการกระจายของข้อมูลภายในช่วงนั้น"
      ],
      "metadata": {
        "id": "UkenXtd5oOdo"
      }
    },
    {
      "cell_type": "markdown",
      "source": [
        "##Q2-b"
      ],
      "metadata": {
        "id": "TOALSlq4h7nm"
      }
    },
    {
      "cell_type": "markdown",
      "source": [
        "b) คํานวณค่าส่วนเบี่ยงเบน (skewness) สําหรับคอลัมน์ที่เป็นตัวเลข ค่าดังกล่าวบอกอะไรเกี่ยวกับการกระจายตัว (distribution) ของตัวแปรแต่ละตัว?"
      ],
      "metadata": {
        "id": "iCa6e4DnE9Xg"
      }
    },
    {
      "cell_type": "code",
      "source": [
        "num_df.skew()"
      ],
      "metadata": {
        "colab": {
          "base_uri": "https://localhost:8080/",
          "height": 303
        },
        "id": "424luz3wEps4",
        "outputId": "3023df89-d640-4373-d3b8-6c57916692e4"
      },
      "execution_count": null,
      "outputs": [
        {
          "output_type": "execute_result",
          "data": {
            "text/plain": [
              "PassengerId    0.000000\n",
              "Survived       0.478523\n",
              "Pclass        -0.630548\n",
              "Age            0.389108\n",
              "SibSp          3.695352\n",
              "Parch          2.749117\n",
              "Fare           4.787317\n",
              "dtype: float64"
            ],
            "text/html": [
              "<div>\n",
              "<style scoped>\n",
              "    .dataframe tbody tr th:only-of-type {\n",
              "        vertical-align: middle;\n",
              "    }\n",
              "\n",
              "    .dataframe tbody tr th {\n",
              "        vertical-align: top;\n",
              "    }\n",
              "\n",
              "    .dataframe thead th {\n",
              "        text-align: right;\n",
              "    }\n",
              "</style>\n",
              "<table border=\"1\" class=\"dataframe\">\n",
              "  <thead>\n",
              "    <tr style=\"text-align: right;\">\n",
              "      <th></th>\n",
              "      <th>0</th>\n",
              "    </tr>\n",
              "  </thead>\n",
              "  <tbody>\n",
              "    <tr>\n",
              "      <th>PassengerId</th>\n",
              "      <td>0.000000</td>\n",
              "    </tr>\n",
              "    <tr>\n",
              "      <th>Survived</th>\n",
              "      <td>0.478523</td>\n",
              "    </tr>\n",
              "    <tr>\n",
              "      <th>Pclass</th>\n",
              "      <td>-0.630548</td>\n",
              "    </tr>\n",
              "    <tr>\n",
              "      <th>Age</th>\n",
              "      <td>0.389108</td>\n",
              "    </tr>\n",
              "    <tr>\n",
              "      <th>SibSp</th>\n",
              "      <td>3.695352</td>\n",
              "    </tr>\n",
              "    <tr>\n",
              "      <th>Parch</th>\n",
              "      <td>2.749117</td>\n",
              "    </tr>\n",
              "    <tr>\n",
              "      <th>Fare</th>\n",
              "      <td>4.787317</td>\n",
              "    </tr>\n",
              "  </tbody>\n",
              "</table>\n",
              "</div><br><label><b>dtype:</b> float64</label>"
            ]
          },
          "metadata": {},
          "execution_count": 11
        }
      ]
    },
    {
      "cell_type": "markdown",
      "source": [
        "\n",
        "ค่า Skewness เป็นค่าที่ใช้ในการวัดความเบ้ของการกระจายของข้อมูล\n",
        "\n",
        "-ค่า Skewness ≈ 0: ลักษณะการกระจายตัวของข้อมูลจะมีความสมมาตร\n",
        "\n",
        "-ค่า Skewness > 0: ลักษณะการกระจายตัวของข้อมูลจะเบ้ไปทางขวา\n",
        "\n",
        "-ค่า Skewness < 0: ลักษณะการกระจายตัวของข้อมูลจะเบ้ไปทางขวา\n",
        "\n",
        "\n",
        "PassengerId   ค่า Skewness = 0.000000    ลักษณะการกระจายตัวมีความสมมาตร\n",
        "\n",
        "Survived      ค่า Skewness = 0.478523    ลักษณะการกระจายตัวเบ้ขวาเล็กน้อย\n",
        "\n",
        "Pclass        ค่า Skewness = -0.630548   ลักษณะการกระจายตัวเบ้ซ้ายเล็กน้อย\n",
        "\n",
        "Age           ค่า Skewness = 0.389108    ลักษณะการกระจายตัวเบ้ขวาเล็กน้อย\n",
        "\n",
        "SibSp         ค่า Skewness = 3.695352    ลักษณะการกระจายตัวเบ้ขวา\n",
        "\n",
        "Parch         ค่า Skewness = 2.749117    ลักษณะการกระจายตัวเบ้ขวา\n",
        "\n",
        "Fare          ค่า Skewness = 4.787317    ลักษณะการกระจายตัวเบ้ขวา"
      ],
      "metadata": {
        "id": "B2QVhxm9prCN"
      }
    },
    {
      "cell_type": "markdown",
      "source": [
        "##Q2-c"
      ],
      "metadata": {
        "id": "nzzHXzyuiGpp"
      }
    },
    {
      "cell_type": "markdown",
      "source": [
        "c) สรุปการกระจายตัวของแต่ละคอลัมน์ที่เป็นประเภทเชิงพรรณนา (categorical columns) ในชุดข้อมูล?"
      ],
      "metadata": {
        "id": "F7OlD1_THrJj"
      }
    },
    {
      "cell_type": "code",
      "source": [
        "cat_df = df.select_dtypes(include='object')\n",
        "for col in cat_df:\n",
        "    print(f'\\nการกระจายตัวของคอลัมน์ {col}')\n",
        "    print(df[col].value_counts())"
      ],
      "metadata": {
        "colab": {
          "base_uri": "https://localhost:8080/"
        },
        "id": "KEV5Xog5Hk3N",
        "outputId": "1e2476fc-863d-45b2-eca8-f0d52d1ebd0e"
      },
      "execution_count": null,
      "outputs": [
        {
          "output_type": "stream",
          "name": "stdout",
          "text": [
            "\n",
            "การกระจายตัวของคอลัมน์ Name\n",
            "Name\n",
            "Dooley, Mr. Patrick                                    1\n",
            "Braund, Mr. Owen Harris                                1\n",
            "Cumings, Mrs. John Bradley (Florence Briggs Thayer)    1\n",
            "Heikkinen, Miss. Laina                                 1\n",
            "Futrelle, Mrs. Jacques Heath (Lily May Peel)           1\n",
            "                                                      ..\n",
            "Uruchurtu, Don. Manuel E                               1\n",
            "Spencer, Mrs. William Augustus (Marie Eugenie)         1\n",
            "Glynn, Miss. Mary Agatha                               1\n",
            "Wheadon, Mr. Edward H                                  1\n",
            "Meyer, Mr. Edgar Joseph                                1\n",
            "Name: count, Length: 891, dtype: int64\n",
            "\n",
            "การกระจายตัวของคอลัมน์ Sex\n",
            "Sex\n",
            "male      577\n",
            "female    314\n",
            "Name: count, dtype: int64\n",
            "\n",
            "การกระจายตัวของคอลัมน์ Ticket\n",
            "Ticket\n",
            "1601         7\n",
            "CA. 2343     7\n",
            "347082       7\n",
            "3101295      6\n",
            "CA 2144      6\n",
            "            ..\n",
            "A/5 21172    1\n",
            "349219       1\n",
            "234818       1\n",
            "345364       1\n",
            "A/5 2466     1\n",
            "Name: count, Length: 681, dtype: int64\n",
            "\n",
            "การกระจายตัวของคอลัมน์ Cabin\n",
            "Cabin\n",
            "B96 B98        4\n",
            "G6             4\n",
            "C23 C25 C27    4\n",
            "F2             3\n",
            "C22 C26        3\n",
            "              ..\n",
            "C106           1\n",
            "A19            1\n",
            "D7             1\n",
            "C118           1\n",
            "E50            1\n",
            "Name: count, Length: 147, dtype: int64\n",
            "\n",
            "การกระจายตัวของคอลัมน์ Embarked\n",
            "Embarked\n",
            "S    644\n",
            "C    168\n",
            "Q     77\n",
            "Name: count, dtype: int64\n"
          ]
        }
      ]
    },
    {
      "cell_type": "markdown",
      "source": [
        "# Q3: การตรวจหาข้อมูลที่ขาดหาย และผิดปกติ (Missing Data, Outliers)"
      ],
      "metadata": {
        "id": "m_-hFDQ_J4EM"
      }
    },
    {
      "cell_type": "markdown",
      "source": [
        "##Q3-a"
      ],
      "metadata": {
        "id": "tBnBAPwSiM5A"
      }
    },
    {
      "cell_type": "markdown",
      "source": [
        "a) ตรวจสอบว่ามีค่าที่ขาดหาย (missing values) ในชุดข้อมูลหรือไม่ คอลัมน์ใดบ้างที่มีค่าที่ขาดหาย?"
      ],
      "metadata": {
        "id": "f7pdKSB4KOv0"
      }
    },
    {
      "cell_type": "code",
      "source": [
        "missing_values_count = df.isnull().sum()\n",
        "columns_with_missing = missing_values_count[missing_values_count > 0]\n",
        "print(columns_with_missing)"
      ],
      "metadata": {
        "colab": {
          "base_uri": "https://localhost:8080/"
        },
        "id": "o4Hs0_6uKmAN",
        "outputId": "7ce43e71-1f43-4574-bdc8-e734eb324ddf"
      },
      "execution_count": null,
      "outputs": [
        {
          "output_type": "stream",
          "name": "stdout",
          "text": [
            "Age         177\n",
            "Cabin       687\n",
            "Embarked      2\n",
            "dtype: int64\n"
          ]
        }
      ]
    },
    {
      "cell_type": "markdown",
      "source": [
        "คอลัมน์ที่มีค่าที่ขาดหายคือคอลัมน์ Age, Cabin และ Embarked"
      ],
      "metadata": {
        "id": "jIiiNLjoqPok"
      }
    },
    {
      "cell_type": "markdown",
      "source": [
        "##Q3-b"
      ],
      "metadata": {
        "id": "g-D-RufiiRSi"
      }
    },
    {
      "cell_type": "markdown",
      "source": [
        "b) แสดงภาพข้อมูลที่ขาดหายโดยใช้ heatmap จาก heatmap เราสามารถสรุปอะไรได้บ้าง?"
      ],
      "metadata": {
        "id": "1TZXx6MoN4aY"
      }
    },
    {
      "cell_type": "code",
      "source": [
        "sns.heatmap(df.isnull(), cbar=False, cmap='viridis', yticklabels=False)"
      ],
      "metadata": {
        "colab": {
          "base_uri": "https://localhost:8080/",
          "height": 517
        },
        "id": "c53NAHjlN15m",
        "outputId": "bbd2dc3e-9b77-4f18-f2a1-71f87f2f1103"
      },
      "execution_count": null,
      "outputs": [
        {
          "output_type": "execute_result",
          "data": {
            "text/plain": [
              "<Axes: >"
            ]
          },
          "metadata": {},
          "execution_count": 28
        },
        {
          "output_type": "display_data",
          "data": {
            "text/plain": [
              "<Figure size 640x480 with 1 Axes>"
            ],
            "image/png": "[encoded data removed]"
          },
          "metadata": {}
        }
      ]
    },
    {
      "cell_type": "markdown",
      "source": [
        "จาก heatmap จะพบว่า\n",
        "\n",
        "คอลัมน์ Age มี missing values ปานกลาง แสดงถึงจำนวนคนปานกลางที่ไม่ทราบอายุ\n",
        "\n",
        "คอลัมน์ Cabin มี missing values มาก แสดงถึงคนจำนวนมากที่ไม่ได้อยู่บนเรือ\n",
        "\n",
        "คอลัมน์ Embarked มี missing values น้อย แสดงถึงคนจำนวนน้อยที่ยังไม่ได้ลงเรือ"
      ],
      "metadata": {
        "id": "GSbMJVffrCY0"
      }
    },
    {
      "cell_type": "markdown",
      "source": [
        "##Q3-c"
      ],
      "metadata": {
        "id": "q5Fs01bGiVVA"
      }
    },
    {
      "cell_type": "markdown",
      "source": [
        "c) จงยกตัวอย่างสองถึงสามตัวแปรที่มีค่าผิดปกติ (outliers) และอธิบายว่าคุณตรวจพบค่าผิดปกติเหล่านี้ได้อย่างไร"
      ],
      "metadata": {
        "id": "b2zYrrz_O0vK"
      }
    },
    {
      "cell_type": "code",
      "source": [
        "#num_df\n",
        "for col_name in num_df.columns:\n",
        "    Q1=num_df[col_name].quantile(0.25)\n",
        "    Q3=num_df[col_name].quantile(0.75)\n",
        "    IQR=Q3-Q1\n",
        "    lower_bound=Q1-1.5*IQR\n",
        "    upper_bound=Q3+1.5*IQR\n",
        "    if(num_df[col_name].min()<lower_bound or num_df[col_name].max()>upper_bound):\n",
        "        print(col_name)"
      ],
      "metadata": {
        "colab": {
          "base_uri": "https://localhost:8080/"
        },
        "id": "hlQJH_9rPBL7",
        "outputId": "143f0dfa-4667-47ba-ea5c-12531216490c"
      },
      "execution_count": null,
      "outputs": [
        {
          "output_type": "stream",
          "name": "stdout",
          "text": [
            "Age\n",
            "SibSp\n",
            "Parch\n",
            "Fare\n"
          ]
        }
      ]
    },
    {
      "cell_type": "markdown",
      "source": [
        "ตัวอย่างตัวแปรที่มีค่าผิดปกติคือ Age, SibSp, Parch โดยใช้หลักการของ Interquartile Range เพื่อหาค่า outliers โดยวนลูปไปในแต่ละคอลัมน์ของ DataFrame ที่เป็นข้อมูลแบบ numeric ใช้ IQR ในการกำหนดขอบเขตล่างและบน และตรวจสอบว่าแต่ละคอลัมน์มี outlier ไหมจากการตรวจสอบค่า min และค่า max ของแต่ละคอลัมน์เทียบกับขอบเขตล่างและบน"
      ],
      "metadata": {
        "id": "Z_1UIbtmR1Xk"
      }
    },
    {
      "cell_type": "markdown",
      "source": [
        "#Q4: การแสดงข้อมูลด้วยกราฟ (Data Visualization)"
      ],
      "metadata": {
        "id": "TZsvjf9lTXUH"
      }
    },
    {
      "cell_type": "markdown",
      "source": [
        "##Q4-a"
      ],
      "metadata": {
        "id": "qQsF7pfCiYlb"
      }
    },
    {
      "cell_type": "markdown",
      "source": [
        "a) สร้างฮิสโตแกรม (histograms) สําหรับคอลัมน์อายุ (Age) และค่าโดยสาร (Fare) กราฟฮิสโตแกรมบอกอะไรเกี่ยวกับการกระจายตัวของตัวแปรเหล่านี้บ้าง?"
      ],
      "metadata": {
        "id": "OYwVH6ylUBT5"
      }
    },
    {
      "cell_type": "code",
      "source": [
        "selected_var = 'Age'\n",
        "#df.hist(column=selected_var)\n",
        "df[selected_var].hist()\n",
        "plt.title(selected_var + ' Histogram')\n",
        "plt.xlabel(selected_var)\n",
        "plt.ylabel('Frequency')"
      ],
      "metadata": {
        "colab": {
          "base_uri": "https://localhost:8080/",
          "height": 489
        },
        "id": "xIyIuSXkUT5I",
        "outputId": "7dd5fba4-fc5a-4a81-88cc-d95bc0cc5934"
      },
      "execution_count": null,
      "outputs": [
        {
          "output_type": "execute_result",
          "data": {
            "text/plain": [
              "Text(0, 0.5, 'Frequency')"
            ]
          },
          "metadata": {},
          "execution_count": 16
        },
        {
          "output_type": "display_data",
          "data": {
            "text/plain": [
              "<Figure size 640x480 with 1 Axes>"
            ],
            "image/png": "[encoded data removed]"
          },
          "metadata": {}
        }
      ]
    },
    {
      "cell_type": "code",
      "source": [
        "selected_var = 'Fare'\n",
        "#df.hist(column=selected_var)\n",
        "df[selected_var].hist()\n",
        "plt.title(selected_var + ' Histogram')\n",
        "plt.xlabel(selected_var)\n",
        "plt.ylabel('Frequency')"
      ],
      "metadata": {
        "colab": {
          "base_uri": "https://localhost:8080/",
          "height": 489
        },
        "id": "caya3olFV05f",
        "outputId": "0b8fdbd6-06ee-44fe-8cf7-cd6f38dada62"
      },
      "execution_count": null,
      "outputs": [
        {
          "output_type": "execute_result",
          "data": {
            "text/plain": [
              "Text(0, 0.5, 'Frequency')"
            ]
          },
          "metadata": {},
          "execution_count": 17
        },
        {
          "output_type": "display_data",
          "data": {
            "text/plain": [
              "<Figure size 640x480 with 1 Axes>"
            ],
            "image/png": "[encoded data removed]"
          },
          "metadata": {}
        }
      ]
    },
    {
      "cell_type": "markdown",
      "source": [
        "จากฮิสโตรแกรมของอายุและค่าโดยสารพบว่าข้อมูลอายุมีการกระจายตัวค่อนข้างคล้ายกับการแจกแจงแบบปกติแต่เบ้ขวา ส่วนข้อมูลค่าโดยสารนั้นส่วนมากกระจุกอยู่ที่ 0-50"
      ],
      "metadata": {
        "id": "-J8w5DbzokO6"
      }
    },
    {
      "cell_type": "markdown",
      "source": [
        "##Q4-b"
      ],
      "metadata": {
        "id": "uIHFlzJficUY"
      }
    },
    {
      "cell_type": "markdown",
      "source": [
        "b) สร้างกล่องกราฟ (box plots) สําหรับคอลัมน์อายุ (Age), ค่าโดยสาร (Fare), และจํานวนพี่น้อง/คู่สมรส (SibSp) กราฟกล่องบอกอะไรเกี่ยวกับการกระจายตัวและค่าผิดปกติ (outliers) ของตัวแปรเหล่านี้บ้าง"
      ],
      "metadata": {
        "id": "5iHHWeX-WHOe"
      }
    },
    {
      "cell_type": "code",
      "source": [
        "df[[\"Age\",\"Fare\",\"SibSp\"]].plot.box()"
      ],
      "metadata": {
        "colab": {
          "base_uri": "https://localhost:8080/",
          "height": 447
        },
        "id": "5RVilF2YYQZX",
        "outputId": "3b834431-fab1-43bf-8540-4c978ae0a1b6"
      },
      "execution_count": null,
      "outputs": [
        {
          "output_type": "execute_result",
          "data": {
            "text/plain": [
              "<Axes: >"
            ]
          },
          "metadata": {},
          "execution_count": 18
        },
        {
          "output_type": "display_data",
          "data": {
            "text/plain": [
              "<Figure size 640x480 with 1 Axes>"
            ],
            "image/png": "[encoded data removed]"
          },
          "metadata": {}
        }
      ]
    },
    {
      "cell_type": "code",
      "source": [
        "df[\"SibSp\"].plot.box() #เพื่อให้เห็นชัดขึ้น"
      ],
      "metadata": {
        "colab": {
          "base_uri": "https://localhost:8080/",
          "height": 447
        },
        "id": "bSNWXiiBWTjF",
        "outputId": "c1314a39-ef88-4b57-e3a8-3fa641b1d2f0"
      },
      "execution_count": null,
      "outputs": [
        {
          "output_type": "execute_result",
          "data": {
            "text/plain": [
              "<Axes: >"
            ]
          },
          "metadata": {},
          "execution_count": 19
        },
        {
          "output_type": "display_data",
          "data": {
            "text/plain": [
              "<Figure size 640x480 with 1 Axes>"
            ],
            "image/png": "[encoded data removed]"
          },
          "metadata": {}
        }
      ]
    },
    {
      "cell_type": "markdown",
      "source": [
        "1.คอลัมน์ Age: มีการกระจายตัวของค่าข้อมูลที่ค่อนข้างแคบ มี outliers หลายค่าอยู่ด้านบน ค่า median อยู่ประมาณตรงกลางของช่วงการกระจาย\n",
        "\n",
        "2.คอลัมน์ Fare: มีการกระจายตัวของค่าข้อมูลที่กว้างกว่าตัวแปรอื่น ๆ ส่วนใหญ่ของผู้โดยสารมีค่าโดยสารอยู่ในช่วงที่ต่ำกว่า 100\n",
        "มีค่าผิดปกติหลายค่าที่มีค่าโดยสารสูงกว่าปกติ โดยเฉพาะค่าที่มากกว่า 100\n",
        "ค่า median ของข้อมูลอยู่ที่ค่าต่ำกว่า 100 ซึ่งบ่งบอกว่าผู้โดยสารส่วนใหญ่จ่ายค่าโดยสารในระดับนี้\n",
        "\n",
        "3.คอลัมน์ SibSp: มีการกระจายตัวของข้อมูลที่แคบ โดยส่วนใหญ่ของผู้โดยสารมีพี่น้อง/คู่สมรสที่มาด้วยในช่วง 0 ถึง 1 มีค่าผิดปกติหลายค่าที่มีพี่น้อง/คู่สมรสมาด้วยจำนวนมากกว่าปกติ ค่า median ของข้อมูลอยู่ที่ 0 บ่งบอกว่าผู้โดยสารส่วนใหญ่ไม่มีพี่น้องหรือคู่สมรสมาด้วย"
      ],
      "metadata": {
        "id": "wbnUwcFihCTF"
      }
    },
    {
      "cell_type": "markdown",
      "source": [
        "#Q5: การสํารวจความสัมพันธ์ระหว่างคอลัมน์ตัวเลข (Exploring Relationships between Numerical Columns)"
      ],
      "metadata": {
        "id": "7fu2z61YYsg6"
      }
    },
    {
      "cell_type": "markdown",
      "source": [
        "##Q5-a"
      ],
      "metadata": {
        "id": "H4wkCBZcikLX"
      }
    },
    {
      "cell_type": "markdown",
      "source": [
        "a) คํานวณค่าสัมประสิทธิ์สหสัมพันธ์แบบเพียร์สัน (Pearson correlation coefficient) ระหว่างอายุ (Age) และค่าโดยสาร (Fare) แล้วอธิบายผลลัพธ์?"
      ],
      "metadata": {
        "id": "m-58Tj-VY6u4"
      }
    },
    {
      "cell_type": "code",
      "source": [
        "df[[\"Age\",\"Fare\"]].corr(method=\"pearson\").loc[\"Age\",\"Fare\"]"
      ],
      "metadata": {
        "colab": {
          "base_uri": "https://localhost:8080/"
        },
        "id": "2lYX79YmY6Tx",
        "outputId": "0bc4df01-9d35-4809-cd82-7af5890bb303"
      },
      "execution_count": null,
      "outputs": [
        {
          "output_type": "execute_result",
          "data": {
            "text/plain": [
              "0.09606669176903912"
            ]
          },
          "metadata": {},
          "execution_count": 20
        }
      ]
    },
    {
      "cell_type": "markdown",
      "source": [
        "ค่า Pearson correlation coefficient: ค่าจะอยู่ในช่วง -1 ถึง 1\n",
        "\n",
        "    ค่าที่ใกล้ 1 แสดงถึงความสัมพันธ์เชิงบวกที่แข็งแกร่ง (เมื่อค่า Age เพิ่ม ค่า Fare ก็มีแนวโน้มเพิ่มตาม)\n",
        "    ค่าที่ใกล้ -1 แสดงถึงความสัมพันธ์เชิงลบที่แข็งแกร่ง (เมื่อค่า Age เพิ่ม ค่า Fare ก็มีแนวโน้มลดลง)\n",
        "    ค่าที่ใกล้ 0 แสดงถึงความสัมพันธ์ที่น้อยหรือไม่มีความสัมพันธ์ระหว่างสองตัวแปร\n",
        "\n",
        "ค่าPearson correlation coefficient ที่ได้ 0.09606669176903912 แสดงถึงความสัมพันธ์เชิงบวกที่อ่อนมากหรือแทบไม่มีความสัมพันธ์ระหว่าง Age และ Fare ซึ่งหมายความว่าการเปลี่ยนแปลงของอายุไม่ได้ส่งผลต่อการเปลี่ยนแปลงของค่าโดยสารอย่างมีนัยสำคัญ"
      ],
      "metadata": {
        "id": "DyMv_l2Ul-Vb"
      }
    },
    {
      "cell_type": "markdown",
      "source": [
        "##Q5-b"
      ],
      "metadata": {
        "id": "iJ616PCPioOT"
      }
    },
    {
      "cell_type": "markdown",
      "source": [
        "  b) สร้างกราฟกระจาย (scatter plot) เพื่อแสดงความสัมพันธ์ระหว่างอายุ (Age) และค่าโดยสาร (Fare) คุณสังเกตเห็นรูปแบบใดบ้าง?"
      ],
      "metadata": {
        "id": "ythQT-I9ZXp5"
      }
    },
    {
      "cell_type": "code",
      "source": [
        "df.plot.scatter(x=\"Age\", y=\"Fare\")"
      ],
      "metadata": {
        "colab": {
          "base_uri": "https://localhost:8080/",
          "height": 466
        },
        "id": "8xKHNulXaxRM",
        "outputId": "870f4ed5-1d8a-4ae1-b847-89b81ef6bfa1"
      },
      "execution_count": null,
      "outputs": [
        {
          "output_type": "execute_result",
          "data": {
            "text/plain": [
              "<Axes: xlabel='Age', ylabel='Fare'>"
            ]
          },
          "metadata": {},
          "execution_count": 21
        },
        {
          "output_type": "display_data",
          "data": {
            "text/plain": [
              "<Figure size 640x480 with 1 Axes>"
            ],
            "image/png": "[encoded data removed]"
          },
          "metadata": {}
        }
      ]
    },
    {
      "cell_type": "markdown",
      "source": [
        "การกระจายตัวของข้อมูลแสดงให้เห็นว่าค่าโดยสาร (Fare) มีการกระจายอย่างกว้างขวางและมีค่าผิดปกติ (outliers) บางค่า แต่ไม่มีความสัมพันธ์ที่ชัดเจนระหว่างอายุ (Age) และค่าโดยสาร (Fare)"
      ],
      "metadata": {
        "id": "b2utVeV8nQaQ"
      }
    },
    {
      "cell_type": "markdown",
      "source": [
        "##Q5-c"
      ],
      "metadata": {
        "id": "oHYLjsz7nxLt"
      }
    },
    {
      "cell_type": "markdown",
      "source": [
        "c) สร้าง pairplot สําหรับอายุ (Age), ค่าโดยสาร (Fare), และจํานวนพี่น้อง/คู่สมรส (SibSp) คุณสามารถสรุปข้อมูลเชิงลึกอะไรจาก pairplot นี้บ้าง?"
      ],
      "metadata": {
        "id": "AgTVs0cXn2Ux"
      }
    },
    {
      "cell_type": "code",
      "source": [
        "sns.pairplot(df[['Age', 'Fare', 'SibSp']], diag_kind=\"kde\", corner=True)"
      ],
      "metadata": {
        "colab": {
          "base_uri": "https://localhost:8080/",
          "height": 775
        },
        "id": "Ov0QcRSWcYNU",
        "outputId": "c3750ff5-2b26-4d95-da23-e8dc06c79014"
      },
      "execution_count": null,
      "outputs": [
        {
          "output_type": "execute_result",
          "data": {
            "text/plain": [
              "<seaborn.axisgrid.PairGrid at 0x78f914e723b0>"
            ]
          },
          "metadata": {},
          "execution_count": 22
        },
        {
          "output_type": "display_data",
          "data": {
            "text/plain": [
              "<Figure size 750x750 with 9 Axes>"
            ],
            "image/png": "[encoded data removed]"
          },
          "metadata": {}
        }
      ]
    },
    {
      "cell_type": "markdown",
      "source": [
        "pairplot นี้พบว่าข้อมูลที่แสดงมีการกระจายตัวที่หลากหลายและมีบางกรณีที่ค่าแตกต่างอย่างมากจากค่าเฉลี่ย นอกจากนี้ยังไม่มีความสัมพันธ์เชิงเส้นตรงที่ชัดเจนระหว่างตัวแปรทั้งสามไม่มีความสัมพันธ์ที่ชัดเจนระหว่างอายุและค่าโดยสาร ผู้โดยสารทุกช่วงอายุจ่ายค่าโดยสารได้ในทุกระดับ\n",
        "ไม่มีความสัมพันธ์ที่ชัดเจนระหว่างจำนวนพี่น้อง/คู่สมรสกับค่าโดยสาร\n",
        "จำนวนพี่น้อง/คู่สมรสและอายุไม่มีความสัมพันธ์ที่ชัดเจน ผู้โดยสารทุกช่วงอายุมีพี่น้องหรือคู่สมรสในทุกระดับ"
      ],
      "metadata": {
        "id": "UlB5S1Xgov9d"
      }
    },
    {
      "cell_type": "markdown",
      "source": [
        "#Q6: การสํารวจความสัมพันธ์ระหว่างคอลัมน์เชิงพรรณนา (Exploring Relationships between Categorical Columns)"
      ],
      "metadata": {
        "id": "Ow40f3uQeMG7"
      }
    },
    {
      "cell_type": "markdown",
      "source": [
        "##Q6-a"
      ],
      "metadata": {
        "id": "Jkr4GpTdjQgI"
      }
    },
    {
      "cell_type": "markdown",
      "source": [
        "a) สร้างตารางแจกแจง (contingency table) เพื่อแสดงการกระจายตัวของการรอดชีวิต (Survival) ในแต่ละประเภทชั้นโดยสาร (Pclass) ตารางนี้บอกอะไรเกี่ยวกับอัตราการรอดชีวิตในแต่ละชั้นโดยสารบ้าง?"
      ],
      "metadata": {
        "id": "6XvsNNileS1Z"
      }
    },
    {
      "cell_type": "code",
      "source": [
        "contingency_table = pd.crosstab(df[\"Survived\"], df[\"Pclass\"])\n",
        "contingency_table"
      ],
      "metadata": {
        "colab": {
          "base_uri": "https://localhost:8080/",
          "height": 143
        },
        "id": "g986_np6eqH1",
        "outputId": "7a6b83dc-1e30-4735-c81c-cc1f067ef914"
      },
      "execution_count": null,
      "outputs": [
        {
          "output_type": "execute_result",
          "data": {
            "text/plain": [
              "Pclass      1   2    3\n",
              "Survived              \n",
              "0          80  97  372\n",
              "1         136  87  119"
            ],
            "text/html": [
              "\n",
              "  <div id=\"df-454c481f-e327-4072-aa1d-6123dd3da37b\" class=\"colab-df-container\">\n",
              "    <div>\n",
              "<style scoped>\n",
              "    .dataframe tbody tr th:only-of-type {\n",
              "        vertical-align: middle;\n",
              "    }\n",
              "\n",
              "    .dataframe tbody tr th {\n",
              "        vertical-align: top;\n",
              "    }\n",
              "\n",
              "    .dataframe thead th {\n",
              "        text-align: right;\n",
              "    }\n",
              "</style>\n",
              "<table border=\"1\" class=\"dataframe\">\n",
              "  <thead>\n",
              "    <tr style=\"text-align: right;\">\n",
              "      <th>Pclass</th>\n",
              "      <th>1</th>\n",
              "      <th>2</th>\n",
              "      <th>3</th>\n",
              "    </tr>\n",
              "    <tr>\n",
              "      <th>Survived</th>\n",
              "      <th></th>\n",
              "      <th></th>\n",
              "      <th></th>\n",
              "    </tr>\n",
              "  </thead>\n",
              "  <tbody>\n",
              "    <tr>\n",
              "      <th>0</th>\n",
              "      <td>80</td>\n",
              "      <td>97</td>\n",
              "      <td>372</td>\n",
              "    </tr>\n",
              "    <tr>\n",
              "      <th>1</th>\n",
              "      <td>136</td>\n",
              "      <td>87</td>\n",
              "      <td>119</td>\n",
              "    </tr>\n",
              "  </tbody>\n",
              "</table>\n",
              "</div>\n",
              "    <div class=\"colab-df-buttons\">\n",
              "\n",
              "  <div class=\"colab-df-container\">\n",
              "    <button class=\"colab-df-convert\" onclick=\"convertToInteractive('df-454c481f-e327-4072-aa1d-6123dd3da37b')\"\n",
              "            title=\"Convert this dataframe to an interactive table.\"\n",
              "            style=\"display:none;\">\n",
              "\n",
              "  <svg xmlns=\"http://www.w3.org/2000/svg\" height=\"24px\" viewBox=\"0 -960 960 960\">\n",
              "    <path d=\"M120-120v-720h720v720H120Zm60-500h600v-160H180v160Zm220 220h160v-160H400v160Zm0 220h160v-160H400v160ZM180-400h160v-160H180v160Zm440 0h160v-160H620v160ZM180-180h160v-160H180v160Zm440 0h160v-160H620v160Z\"/>\n",
              "  </svg>\n",
              "    </button>\n",
              "\n",
              "  <style>\n",
              "    .colab-df-container {\n",
              "      display:flex;\n",
              "      gap: 12px;\n",
              "    }\n",
              "\n",
              "    .colab-df-convert {\n",
              "      background-color: #E8F0FE;\n",
              "      border: none;\n",
              "      border-radius: 50%;\n",
              "      cursor: pointer;\n",
              "      display: none;\n",
              "      fill: #1967D2;\n",
              "      height: 32px;\n",
              "      padding: 0 0 0 0;\n",
              "      width: 32px;\n",
              "    }\n",
              "\n",
              "    .colab-df-convert:hover {\n",
              "      background-color: #E2EBFA;\n",
              "      box-shadow: 0px 1px 2px rgba(60, 64, 67, 0.3), 0px 1px 3px 1px rgba(60, 64, 67, 0.15);\n",
              "      fill: #174EA6;\n",
              "    }\n",
              "\n",
              "    .colab-df-buttons div {\n",
              "      margin-bottom: 4px;\n",
              "    }\n",
              "\n",
              "    [theme=dark] .colab-df-convert {\n",
              "      background-color: #3B4455;\n",
              "      fill: #D2E3FC;\n",
              "    }\n",
              "\n",
              "    [theme=dark] .colab-df-convert:hover {\n",
              "      background-color: #434B5C;\n",
              "      box-shadow: 0px 1px 3px 1px rgba(0, 0, 0, 0.15);\n",
              "      filter: drop-shadow(0px 1px 2px rgba(0, 0, 0, 0.3));\n",
              "      fill: #FFFFFF;\n",
              "    }\n",
              "  </style>\n",
              "\n",
              "    <script>\n",
              "      const buttonEl =\n",
              "        document.querySelector('#df-454c481f-e327-4072-aa1d-6123dd3da37b button.colab-df-convert');\n",
              "      buttonEl.style.display =\n",
              "        google.colab.kernel.accessAllowed ? 'block' : 'none';\n",
              "\n",
              "      async function convertToInteractive(key) {\n",
              "        const element = document.querySelector('#df-454c481f-e327-4072-aa1d-6123dd3da37b');\n",
              "        const dataTable =\n",
              "          await google.colab.kernel.invokeFunction('convertToInteractive',\n",
              "                                                    [key], {});\n",
              "        if (!dataTable) return;\n",
              "\n",
              "        const docLinkHtml = 'Like what you see? Visit the ' +\n",
              "          '<a target=\"_blank\" href=https://colab.research.google.com/notebooks/data_table.ipynb>data table notebook</a>'\n",
              "          + ' to learn more about interactive tables.';\n",
              "        element.innerHTML = '';\n",
              "        dataTable['output_type'] = 'display_data';\n",
              "        await google.colab.output.renderOutput(dataTable, element);\n",
              "        const docLink = document.createElement('div');\n",
              "        docLink.innerHTML = docLinkHtml;\n",
              "        element.appendChild(docLink);\n",
              "      }\n",
              "    </script>\n",
              "  </div>\n",
              "\n",
              "\n",
              "<div id=\"df-74639273-5212-4a86-a41e-40608342e15c\">\n",
              "  <button class=\"colab-df-quickchart\" onclick=\"quickchart('df-74639273-5212-4a86-a41e-40608342e15c')\"\n",
              "            title=\"Suggest charts\"\n",
              "            style=\"display:none;\">\n",
              "\n",
              "<svg xmlns=\"http://www.w3.org/2000/svg\" height=\"24px\"viewBox=\"0 0 24 24\"\n",
              "     width=\"24px\">\n",
              "    <g>\n",
              "        <path d=\"M19 3H5c-1.1 0-2 .9-2 2v14c0 1.1.9 2 2 2h14c1.1 0 2-.9 2-2V5c0-1.1-.9-2-2-2zM9 17H7v-7h2v7zm4 0h-2V7h2v10zm4 0h-2v-4h2v4z\"/>\n",
              "    </g>\n",
              "</svg>\n",
              "  </button>\n",
              "\n",
              "<style>\n",
              "  .colab-df-quickchart {\n",
              "      --bg-color: #E8F0FE;\n",
              "      --fill-color: #1967D2;\n",
              "      --hover-bg-color: #E2EBFA;\n",
              "      --hover-fill-color: #174EA6;\n",
              "      --disabled-fill-color: #AAA;\n",
              "      --disabled-bg-color: #DDD;\n",
              "  }\n",
              "\n",
              "  [theme=dark] .colab-df-quickchart {\n",
              "      --bg-color: #3B4455;\n",
              "      --fill-color: #D2E3FC;\n",
              "      --hover-bg-color: #434B5C;\n",
              "      --hover-fill-color: #FFFFFF;\n",
              "      --disabled-bg-color: #3B4455;\n",
              "      --disabled-fill-color: #666;\n",
              "  }\n",
              "\n",
              "  .colab-df-quickchart {\n",
              "    background-color: var(--bg-color);\n",
              "    border: none;\n",
              "    border-radius: 50%;\n",
              "    cursor: pointer;\n",
              "    display: none;\n",
              "    fill: var(--fill-color);\n",
              "    height: 32px;\n",
              "    padding: 0;\n",
              "    width: 32px;\n",
              "  }\n",
              "\n",
              "  .colab-df-quickchart:hover {\n",
              "    background-color: var(--hover-bg-color);\n",
              "    box-shadow: 0 1px 2px rgba(60, 64, 67, 0.3), 0 1px 3px 1px rgba(60, 64, 67, 0.15);\n",
              "    fill: var(--button-hover-fill-color);\n",
              "  }\n",
              "\n",
              "  .colab-df-quickchart-complete:disabled,\n",
              "  .colab-df-quickchart-complete:disabled:hover {\n",
              "    background-color: var(--disabled-bg-color);\n",
              "    fill: var(--disabled-fill-color);\n",
              "    box-shadow: none;\n",
              "  }\n",
              "\n",
              "  .colab-df-spinner {\n",
              "    border: 2px solid var(--fill-color);\n",
              "    border-color: transparent;\n",
              "    border-bottom-color: var(--fill-color);\n",
              "    animation:\n",
              "      spin 1s steps(1) infinite;\n",
              "  }\n",
              "\n",
              "  @keyframes spin {\n",
              "    0% {\n",
              "      border-color: transparent;\n",
              "      border-bottom-color: var(--fill-color);\n",
              "      border-left-color: var(--fill-color);\n",
              "    }\n",
              "    20% {\n",
              "      border-color: transparent;\n",
              "      border-left-color: var(--fill-color);\n",
              "      border-top-color: var(--fill-color);\n",
              "    }\n",
              "    30% {\n",
              "      border-color: transparent;\n",
              "      border-left-color: var(--fill-color);\n",
              "      border-top-color: var(--fill-color);\n",
              "      border-right-color: var(--fill-color);\n",
              "    }\n",
              "    40% {\n",
              "      border-color: transparent;\n",
              "      border-right-color: var(--fill-color);\n",
              "      border-top-color: var(--fill-color);\n",
              "    }\n",
              "    60% {\n",
              "      border-color: transparent;\n",
              "      border-right-color: var(--fill-color);\n",
              "    }\n",
              "    80% {\n",
              "      border-color: transparent;\n",
              "      border-right-color: var(--fill-color);\n",
              "      border-bottom-color: var(--fill-color);\n",
              "    }\n",
              "    90% {\n",
              "      border-color: transparent;\n",
              "      border-bottom-color: var(--fill-color);\n",
              "    }\n",
              "  }\n",
              "</style>\n",
              "\n",
              "  <script>\n",
              "    async function quickchart(key) {\n",
              "      const quickchartButtonEl =\n",
              "        document.querySelector('#' + key + ' button');\n",
              "      quickchartButtonEl.disabled = true;  // To prevent multiple clicks.\n",
              "      quickchartButtonEl.classList.add('colab-df-spinner');\n",
              "      try {\n",
              "        const charts = await google.colab.kernel.invokeFunction(\n",
              "            'suggestCharts', [key], {});\n",
              "      } catch (error) {\n",
              "        console.error('Error during call to suggestCharts:', error);\n",
              "      }\n",
              "      quickchartButtonEl.classList.remove('colab-df-spinner');\n",
              "      quickchartButtonEl.classList.add('colab-df-quickchart-complete');\n",
              "    }\n",
              "    (() => {\n",
              "      let quickchartButtonEl =\n",
              "        document.querySelector('#df-74639273-5212-4a86-a41e-40608342e15c button');\n",
              "      quickchartButtonEl.style.display =\n",
              "        google.colab.kernel.accessAllowed ? 'block' : 'none';\n",
              "    })();\n",
              "  </script>\n",
              "</div>\n",
              "\n",
              "  <div id=\"id_f2e26a90-0bbb-43d8-ba36-df670fca8628\">\n",
              "    <style>\n",
              "      .colab-df-generate {\n",
              "        background-color: #E8F0FE;\n",
              "        border: none;\n",
              "        border-radius: 50%;\n",
              "        cursor: pointer;\n",
              "        display: none;\n",
              "        fill: #1967D2;\n",
              "        height: 32px;\n",
              "        padding: 0 0 0 0;\n",
              "        width: 32px;\n",
              "      }\n",
              "\n",
              "      .colab-df-generate:hover {\n",
              "        background-color: #E2EBFA;\n",
              "        box-shadow: 0px 1px 2px rgba(60, 64, 67, 0.3), 0px 1px 3px 1px rgba(60, 64, 67, 0.15);\n",
              "        fill: #174EA6;\n",
              "      }\n",
              "\n",
              "      [theme=dark] .colab-df-generate {\n",
              "        background-color: #3B4455;\n",
              "        fill: #D2E3FC;\n",
              "      }\n",
              "\n",
              "      [theme=dark] .colab-df-generate:hover {\n",
              "        background-color: #434B5C;\n",
              "        box-shadow: 0px 1px 3px 1px rgba(0, 0, 0, 0.15);\n",
              "        filter: drop-shadow(0px 1px 2px rgba(0, 0, 0, 0.3));\n",
              "        fill: #FFFFFF;\n",
              "      }\n",
              "    </style>\n",
              "    <button class=\"colab-df-generate\" onclick=\"generateWithVariable('contingency_table')\"\n",
              "            title=\"Generate code using this dataframe.\"\n",
              "            style=\"display:none;\">\n",
              "\n",
              "  <svg xmlns=\"http://www.w3.org/2000/svg\" height=\"24px\"viewBox=\"0 0 24 24\"\n",
              "       width=\"24px\">\n",
              "    <path d=\"M7,19H8.4L18.45,9,17,7.55,7,17.6ZM5,21V16.75L18.45,3.32a2,2,0,0,1,2.83,0l1.4,1.43a1.91,1.91,0,0,1,.58,1.4,1.91,1.91,0,0,1-.58,1.4L9.25,21ZM18.45,9,17,7.55Zm-12,3A5.31,5.31,0,0,0,4.9,8.1,5.31,5.31,0,0,0,1,6.5,5.31,5.31,0,0,0,4.9,4.9,5.31,5.31,0,0,0,6.5,1,5.31,5.31,0,0,0,8.1,4.9,5.31,5.31,0,0,0,12,6.5,5.46,5.46,0,0,0,6.5,12Z\"/>\n",
              "  </svg>\n",
              "    </button>\n",
              "    <script>\n",
              "      (() => {\n",
              "      const buttonEl =\n",
              "        document.querySelector('#id_f2e26a90-0bbb-43d8-ba36-df670fca8628 button.colab-df-generate');\n",
              "      buttonEl.style.display =\n",
              "        google.colab.kernel.accessAllowed ? 'block' : 'none';\n",
              "\n",
              "      buttonEl.onclick = () => {\n",
              "        google.colab.notebook.generateWithVariable('contingency_table');\n",
              "      }\n",
              "      })();\n",
              "    </script>\n",
              "  </div>\n",
              "\n",
              "    </div>\n",
              "  </div>\n"
            ],
            "application/vnd.google.colaboratory.intrinsic+json": {
              "type": "dataframe",
              "variable_name": "contingency_table",
              "summary": "{\n  \"name\": \"contingency_table\",\n  \"rows\": 2,\n  \"fields\": [\n    {\n      \"column\": \"Survived\",\n      \"properties\": {\n        \"dtype\": \"number\",\n        \"std\": 0,\n        \"min\": 0,\n        \"max\": 1,\n        \"num_unique_values\": 2,\n        \"samples\": [\n          1,\n          0\n        ],\n        \"semantic_type\": \"\",\n        \"description\": \"\"\n      }\n    },\n    {\n      \"column\": 1,\n      \"properties\": {\n        \"dtype\": \"number\",\n        \"std\": 39,\n        \"min\": 80,\n        \"max\": 136,\n        \"num_unique_values\": 2,\n        \"samples\": [\n          136,\n          80\n        ],\n        \"semantic_type\": \"\",\n        \"description\": \"\"\n      }\n    },\n    {\n      \"column\": 2,\n      \"properties\": {\n        \"dtype\": \"number\",\n        \"std\": 7,\n        \"min\": 87,\n        \"max\": 97,\n        \"num_unique_values\": 2,\n        \"samples\": [\n          87,\n          97\n        ],\n        \"semantic_type\": \"\",\n        \"description\": \"\"\n      }\n    },\n    {\n      \"column\": 3,\n      \"properties\": {\n        \"dtype\": \"number\",\n        \"std\": 178,\n        \"min\": 119,\n        \"max\": 372,\n        \"num_unique_values\": 2,\n        \"samples\": [\n          119,\n          372\n        ],\n        \"semantic_type\": \"\",\n        \"description\": \"\"\n      }\n    }\n  ]\n}"
            }
          },
          "metadata": {},
          "execution_count": 23
        }
      ]
    },
    {
      "cell_type": "markdown",
      "source": [
        "จากตารางแจกแจงพบว่าอัตราการรอดชีวิตของผู้โดยสารมีความสัมพันธ์กับประเภทชั้นโดยสารที่ผู้โดยสารเลือกเดินทาง\n",
        "\n",
        "    ผู้โดยสารในชั้นที่ 1 มีอัตราการรอดชีวิตสูงที่สุด (ประมาณ 62.96%)\n",
        "    ผู้โดยสารในชั้นที่ 2 มีอัตราการรอดชีวิตอยู่ที่ประมาณ 47.28%\n",
        "    ผู้โดยสารในชั้นที่ 3 มีอัตราการรอดชีวิตต่ำที่สุด (ประมาณ 24.23%)"
      ],
      "metadata": {
        "id": "VUS6_B8kqYHo"
      }
    },
    {
      "cell_type": "markdown",
      "source": [
        "##Q6-b"
      ],
      "metadata": {
        "id": "BOX3KOE5ixmy"
      }
    },
    {
      "cell_type": "markdown",
      "source": [
        "b) ทําการทดสอบไคสแควร์ (Chi-Square Test of Independence) เพื่อหาว่ามีความสัมพันธ์อย่างมีนัยสําคัญระหว่างการรอดชีวิต (Survival) และชั้นโดยสาร (Pclass) หรือไม่ ผลลัพธ์ของการทดสอบเป็นอย่างไร?"
      ],
      "metadata": {
        "id": "vGIDGw5AfW_H"
      }
    },
    {
      "cell_type": "code",
      "source": [
        "from scipy.stats import chi2_contingency\n",
        "# Perform Chi-Square Test of Independence\n",
        "chi2, p, dof, expected = chi2_contingency(contingency_table)\n",
        "# Display the results\n",
        "chi2, p, dof, expected"
      ],
      "metadata": {
        "colab": {
          "base_uri": "https://localhost:8080/"
        },
        "id": "8yIlksp2ffHC",
        "outputId": "20b5d956-adcd-45aa-830e-1be9bd886680"
      },
      "execution_count": null,
      "outputs": [
        {
          "output_type": "execute_result",
          "data": {
            "text/plain": [
              "(102.88898875696056,\n",
              " 4.549251711298793e-23,\n",
              " 2,\n",
              " array([[133.09090909, 113.37373737, 302.53535354],\n",
              "        [ 82.90909091,  70.62626263, 188.46464646]]))"
            ]
          },
          "metadata": {},
          "execution_count": 24
        }
      ]
    },
    {
      "cell_type": "code",
      "source": [
        "print(f\"Chi2: {chi2}, p-value: {p}, Degrees of Freedom: {dof}\")\n",
        "print(\"Expected Frequencies:\")\n",
        "print(expected)"
      ],
      "metadata": {
        "colab": {
          "base_uri": "https://localhost:8080/"
        },
        "id": "fGoGI0o5gstt",
        "outputId": "e3c6aad7-0e0c-485a-c854-b82bdddbcd9b"
      },
      "execution_count": null,
      "outputs": [
        {
          "output_type": "stream",
          "name": "stdout",
          "text": [
            "Chi2: 102.88898875696056, p-value: 4.549251711298793e-23, Degrees of Freedom: 2\n",
            "Expected Frequencies:\n",
            "[[133.09090909 113.37373737 302.53535354]\n",
            " [ 82.90909091  70.62626263 188.46464646]]\n"
          ]
        }
      ]
    },
    {
      "cell_type": "markdown",
      "source": [
        "  ผลลัพธ์ของการทดสอบไคสแควร์\n",
        "    \n",
        "    Chi2 (ค่าไคสแควร์): 102.88898875696056\n",
        "    p-value: 4.549251711298793e-23\n",
        "    Degrees of Freedom (องศาอิสระ): 2\n",
        "\n",
        "ค่าไคสแควร์ที่ได้คือ 102.88898875696056 ซึ่งเป็นค่าที่สูงมาก แสดงถึงความแตกต่างระหว่างค่าจริงและค่าคาดหวังที่มาก\n",
        "\n",
        "p-value ที่ได้คือ 4.549251711298793e-23 ซึ่งมีค่าน้อยกว่าระดับนัยสำคัญทั่วไป (เช่น 0.05 หรือ 0.01) อย่างมาก\n",
        "p-value ที่ต่ำมากนี้บ่งบอกว่าเรามีหลักฐานที่ชัดเจนในการปฏิเสธสมมติฐานว่าง (null hypothesis) ที่ว่าไม่มีความสัมพันธ์ระหว่างการรอดชีวิตและชั้นโดยสาร\n",
        "  \n",
        "  จากผลลัพธ์แสดงให้เห็นว่ามีความสัมพันธ์อย่างมีนัยสำคัญทางสถิติระหว่าง Survival และ Pclass ดังนั้นสามารถสรุปได้ว่าชั้นโดยสารมีผลต่ออัตราการรอดชีวิตของผู้โดยสารบนเรืออย่างมีนัยสำคัญ\n",
        "\n",
        "\n",
        "\n",
        "\n",
        "\n",
        "\n",
        "\n"
      ],
      "metadata": {
        "id": "u3RuCoCYr5Im"
      }
    }
  ]
}