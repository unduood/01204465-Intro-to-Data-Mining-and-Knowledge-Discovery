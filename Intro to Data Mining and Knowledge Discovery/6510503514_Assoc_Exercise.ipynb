{
  "nbformat": 4,
  "nbformat_minor": 0,
  "metadata": {
    "colab": {
      "provenance": []
    },
    "kernelspec": {
      "name": "python3",
      "display_name": "Python 3"
    },
    "language_info": {
      "name": "python"
    }
  },
  "cells": [
    {
      "cell_type": "code",
      "execution_count": null,
      "metadata": {
        "id": "jMGHkN4xu-L8"
      },
      "outputs": [],
      "source": [
        "import pandas as pd\n",
        "import numpy as np\n",
        "from mlxtend.frequent_patterns import apriori, association_rules\n",
        "from mlxtend.preprocessing import TransactionEncoder"
      ]
    },
    {
      "cell_type": "markdown",
      "source": [
        "# Dataset"
      ],
      "metadata": {
        "id": "iGOmx3Kkvcmj"
      }
    },
    {
      "cell_type": "code",
      "source": [
        "transactions = [\n",
        "    ['F', 'G', 'I', 'J'],\n",
        "    ['G', 'H', 'J'],\n",
        "    ['G', 'I', 'J'],\n",
        "    ['G', 'H', 'J'],\n",
        "    ['G', 'H', 'I', 'J'],\n",
        "    ['G', 'H', 'I']\n",
        "]\n",
        "\n",
        "for i, transaction in enumerate(transactions, 1):\n",
        "    print(f\"Transaction {i}: {transaction}\")"
      ],
      "metadata": {
        "colab": {
          "base_uri": "https://localhost:8080/"
        },
        "id": "NTo-zODOvjzQ",
        "outputId": "b535d8ed-7de5-45ba-97ba-c9f1e97c2bf8"
      },
      "execution_count": null,
      "outputs": [
        {
          "output_type": "stream",
          "name": "stdout",
          "text": [
            "Transaction 1: ['F', 'G', 'I', 'J']\n",
            "Transaction 2: ['G', 'H', 'J']\n",
            "Transaction 3: ['G', 'I', 'J']\n",
            "Transaction 4: ['G', 'H', 'J']\n",
            "Transaction 5: ['G', 'H', 'I', 'J']\n",
            "Transaction 6: ['G', 'H', 'I']\n"
          ]
        },
        {
          "output_type": "stream",
          "name": "stderr",
          "text": [
            "/usr/local/lib/python3.10/dist-packages/ipykernel/ipkernel.py:283: DeprecationWarning: `should_run_async` will not call `transform_cell` automatically in the future. Please pass the result to `transformed_cell` argument and any exception that happen during thetransform in `preprocessing_exc_tuple` in IPython 7.17 and above.\n",
            "  and should_run_async(code)\n"
          ]
        }
      ]
    },
    {
      "cell_type": "markdown",
      "source": [
        "#Frequent itemsets and their support"
      ],
      "metadata": {
        "id": "_0ZEZQLNcBM-"
      }
    },
    {
      "cell_type": "code",
      "source": [
        "# Convert transactions into a DataFrame with one-hot encoding\n",
        "items = sorted(set(item for transaction in transactions for item in transaction))\n",
        "encoded_vals = []\n",
        "for transaction in transactions:\n",
        "    row = {item: (item in transaction) for item in items}\n",
        "    encoded_vals.append(row)\n",
        "df = pd.DataFrame(encoded_vals)\n",
        "\n",
        "# Step 1: Generate frequent itemsets using Apriori\n",
        "min_support = 0.5\n",
        "frequent_itemsets = apriori(df, min_support=min_support, use_colnames=True)\n",
        "\n",
        "# Displaying frequent itemsets and their support\n",
        "frequent_itemsets['support'] = frequent_itemsets['support'] * len(transactions)\n",
        "print(\"Frequent Itemsets and Their Support:\")\n",
        "print(frequent_itemsets)"
      ],
      "metadata": {
        "colab": {
          "base_uri": "https://localhost:8080/"
        },
        "id": "8gYjF_4UcA8W",
        "outputId": "866da092-004a-4a9c-82b4-22bf96d1f863"
      },
      "execution_count": null,
      "outputs": [
        {
          "output_type": "stream",
          "name": "stdout",
          "text": [
            "Frequent Itemsets and Their Support:\n",
            "    support   itemsets\n",
            "0       6.0        (G)\n",
            "1       4.0        (H)\n",
            "2       4.0        (I)\n",
            "3       5.0        (J)\n",
            "4       4.0     (G, H)\n",
            "5       4.0     (G, I)\n",
            "6       5.0     (J, G)\n",
            "7       3.0     (J, H)\n",
            "8       3.0     (J, I)\n",
            "9       3.0  (J, G, H)\n",
            "10      3.0  (J, G, I)\n"
          ]
        },
        {
          "output_type": "stream",
          "name": "stderr",
          "text": [
            "/usr/local/lib/python3.10/dist-packages/ipykernel/ipkernel.py:283: DeprecationWarning: `should_run_async` will not call `transform_cell` automatically in the future. Please pass the result to `transformed_cell` argument and any exception that happen during thetransform in `preprocessing_exc_tuple` in IPython 7.17 and above.\n",
            "  and should_run_async(code)\n"
          ]
        }
      ]
    },
    {
      "cell_type": "markdown",
      "source": [
        "#Generate strong association rules"
      ],
      "metadata": {
        "id": "IDYejOdVh2G_"
      }
    },
    {
      "cell_type": "code",
      "source": [
        "# Step 2: Generate strong association rules\n",
        "min_confidence = 0.75\n",
        "rules = association_rules(frequent_itemsets, metric=\"confidence\", min_threshold=min_confidence)\n",
        "\n",
        "# Displaying strong association rules\n",
        "print(\"\\nStrong Association Rules:\")\n",
        "print(rules[['antecedents', 'consequents', 'support', 'confidence']])"
      ],
      "metadata": {
        "colab": {
          "base_uri": "https://localhost:8080/"
        },
        "id": "6PGhmt6uhalk",
        "outputId": "bc53d48d-c63a-498d-8f1c-745a71c06e43"
      },
      "execution_count": null,
      "outputs": [
        {
          "output_type": "stream",
          "name": "stdout",
          "text": [
            "\n",
            "Strong Association Rules:\n",
            "   antecedents consequents  support  confidence\n",
            "0          (H)         (G)      4.0    1.000000\n",
            "1          (I)         (G)      4.0    1.000000\n",
            "2          (J)         (G)      5.0    1.000000\n",
            "3          (G)         (J)      5.0    0.833333\n",
            "4          (H)         (J)      3.0    0.750000\n",
            "5          (I)         (J)      3.0    0.750000\n",
            "6       (J, H)         (G)      3.0    1.000000\n",
            "7       (G, H)         (J)      3.0    0.750000\n",
            "8          (H)      (J, G)      3.0    0.750000\n",
            "9       (J, I)         (G)      3.0    1.000000\n",
            "10      (G, I)         (J)      3.0    0.750000\n",
            "11         (I)      (J, G)      3.0    0.750000\n"
          ]
        },
        {
          "output_type": "stream",
          "name": "stderr",
          "text": [
            "/usr/local/lib/python3.10/dist-packages/ipykernel/ipkernel.py:283: DeprecationWarning: `should_run_async` will not call `transform_cell` automatically in the future. Please pass the result to `transformed_cell` argument and any exception that happen during thetransform in `preprocessing_exc_tuple` in IPython 7.17 and above.\n",
            "  and should_run_async(code)\n"
          ]
        }
      ]
    },
    {
      "cell_type": "markdown",
      "source": [
        "#3 Examples of strong association rules"
      ],
      "metadata": {
        "id": "4yxFHxOxlQYR"
      }
    },
    {
      "cell_type": "code",
      "source": [
        "specific_rules = [\n",
        "    {'antecedents': frozenset({'G', 'H'}), 'consequents': frozenset({'J'})},\n",
        "    {'antecedents': frozenset({'G', 'I'}), 'consequents': frozenset({'J'})},\n",
        "    {'antecedents': frozenset({'I', 'J'}), 'consequents': frozenset({'G'})},\n",
        "]\n",
        "\n",
        "# Calculate support for the rule\n",
        "for rule in specific_rules:\n",
        "    antecedents = rule['antecedents']\n",
        "    consequents = rule['consequents']\n",
        "    support = sum(1 for t in transactions if antecedents.issubset(t) and consequents.issubset(t)) / len(transactions)\n",
        "\n",
        "    filtered_rules = rules[\n",
        "        (rules['antecedents'] == rule['antecedents']) &\n",
        "        (rules['consequents'] == rule['consequents'])\n",
        "    ].copy()\n",
        "    filtered_rules['support'] = support\n",
        "    print(filtered_rules[['antecedents', 'consequents', 'support', 'confidence']])"
      ],
      "metadata": {
        "colab": {
          "base_uri": "https://localhost:8080/"
        },
        "id": "VqlTXSNPJOLd",
        "outputId": "49a0315b-6bd6-47c2-948d-6e349f368971"
      },
      "execution_count": null,
      "outputs": [
        {
          "output_type": "stream",
          "name": "stdout",
          "text": [
            "  antecedents consequents  support  confidence\n",
            "7      (G, H)         (J)      0.5        0.75\n",
            "   antecedents consequents  support  confidence\n",
            "10      (G, I)         (J)      0.5        0.75\n",
            "  antecedents consequents  support  confidence\n",
            "9      (J, I)         (G)      0.5         1.0\n"
          ]
        },
        {
          "output_type": "stream",
          "name": "stderr",
          "text": [
            "/usr/local/lib/python3.10/dist-packages/ipykernel/ipkernel.py:283: DeprecationWarning: `should_run_async` will not call `transform_cell` automatically in the future. Please pass the result to `transformed_cell` argument and any exception that happen during thetransform in `preprocessing_exc_tuple` in IPython 7.17 and above.\n",
            "  and should_run_async(code)\n"
          ]
        }
      ]
    },
    {
      "cell_type": "code",
      "source": [
        "# Defining the specific rules we want to print\n",
        "specific_rules = [\n",
        "    {'antecedents': frozenset({'G', 'H'}), 'consequents': frozenset({'J'})},\n",
        "    {'antecedents': frozenset({'G', 'I'}), 'consequents': frozenset({'J'})},\n",
        "    {'antecedents': frozenset({'I', 'J'}), 'consequents': frozenset({'G'})},\n",
        "]\n",
        "\n",
        "# Filtering and printing the specific rules\n",
        "for rule in specific_rules:\n",
        "    filtered_rules = rules[\n",
        "        (rules['antecedents'] == rule['antecedents']) &\n",
        "        (rules['consequents'] == rule['consequents'])\n",
        "    ]\n",
        "    print(filtered_rules[['antecedents', 'consequents', 'support', 'confidence']])\n"
      ],
      "metadata": {
        "colab": {
          "base_uri": "https://localhost:8080/"
        },
        "id": "rbJVo-drlKJ8",
        "outputId": "1a712870-55ec-4f71-eaff-db9131142740"
      },
      "execution_count": null,
      "outputs": [
        {
          "output_type": "stream",
          "name": "stdout",
          "text": [
            "  antecedents consequents  support  confidence\n",
            "7      (G, H)         (J)      3.0        0.75\n",
            "   antecedents consequents  support  confidence\n",
            "10      (G, I)         (J)      3.0        0.75\n",
            "  antecedents consequents  support  confidence\n",
            "9      (J, I)         (G)      3.0         1.0\n"
          ]
        },
        {
          "output_type": "stream",
          "name": "stderr",
          "text": [
            "/usr/local/lib/python3.10/dist-packages/ipykernel/ipkernel.py:283: DeprecationWarning: `should_run_async` will not call `transform_cell` automatically in the future. Please pass the result to `transformed_cell` argument and any exception that happen during thetransform in `preprocessing_exc_tuple` in IPython 7.17 and above.\n",
            "  and should_run_async(code)\n"
          ]
        }
      ]
    }
  ]
}