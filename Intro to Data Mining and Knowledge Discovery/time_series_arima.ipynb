{
  "cells": [
    {
      "cell_type": "code",
      "execution_count": null,
      "metadata": {
        "colab": {
          "base_uri": "https://localhost:8080/"
        },
        "id": "gw1r2j7UtErS",
        "outputId": "356d6af9-4b3a-418a-ffe3-39e73225f344"
      },
      "outputs": [
        {
          "output_type": "stream",
          "name": "stdout",
          "text": [
            "Requirement already satisfied: pmdarima in /usr/local/lib/python3.10/dist-packages (2.0.4)\n",
            "Requirement already satisfied: joblib>=0.11 in /usr/local/lib/python3.10/dist-packages (from pmdarima) (1.4.2)\n",
            "Requirement already satisfied: Cython!=0.29.18,!=0.29.31,>=0.29 in /usr/local/lib/python3.10/dist-packages (from pmdarima) (3.0.11)\n",
            "Requirement already satisfied: numpy>=1.21.2 in /usr/local/lib/python3.10/dist-packages (from pmdarima) (1.26.4)\n",
            "Requirement already satisfied: pandas>=0.19 in /usr/local/lib/python3.10/dist-packages (from pmdarima) (2.2.2)\n",
            "Requirement already satisfied: scikit-learn>=0.22 in /usr/local/lib/python3.10/dist-packages (from pmdarima) (1.5.2)\n",
            "Requirement already satisfied: scipy>=1.3.2 in /usr/local/lib/python3.10/dist-packages (from pmdarima) (1.13.1)\n",
            "Requirement already satisfied: statsmodels>=0.13.2 in /usr/local/lib/python3.10/dist-packages (from pmdarima) (0.14.4)\n",
            "Requirement already satisfied: urllib3 in /usr/local/lib/python3.10/dist-packages (from pmdarima) (2.2.3)\n",
            "Requirement already satisfied: setuptools!=50.0.0,>=38.6.0 in /usr/local/lib/python3.10/dist-packages (from pmdarima) (71.0.4)\n",
            "Requirement already satisfied: packaging>=17.1 in /usr/local/lib/python3.10/dist-packages (from pmdarima) (24.1)\n",
            "Requirement already satisfied: python-dateutil>=2.8.2 in /usr/local/lib/python3.10/dist-packages (from pandas>=0.19->pmdarima) (2.8.2)\n",
            "Requirement already satisfied: pytz>=2020.1 in /usr/local/lib/python3.10/dist-packages (from pandas>=0.19->pmdarima) (2024.2)\n",
            "Requirement already satisfied: tzdata>=2022.7 in /usr/local/lib/python3.10/dist-packages (from pandas>=0.19->pmdarima) (2024.2)\n",
            "Requirement already satisfied: threadpoolctl>=3.1.0 in /usr/local/lib/python3.10/dist-packages (from scikit-learn>=0.22->pmdarima) (3.5.0)\n",
            "Requirement already satisfied: patsy>=0.5.6 in /usr/local/lib/python3.10/dist-packages (from statsmodels>=0.13.2->pmdarima) (0.5.6)\n",
            "Requirement already satisfied: six in /usr/local/lib/python3.10/dist-packages (from patsy>=0.5.6->statsmodels>=0.13.2->pmdarima) (1.16.0)\n"
          ]
        }
      ],
      "source": [
        "pip install pmdarima"
      ]
    },
    {
      "cell_type": "code",
      "execution_count": null,
      "metadata": {
        "colab": {
          "base_uri": "https://localhost:8080/"
        },
        "id": "tYZ457z3uMaW",
        "outputId": "eecd2880-82c0-4644-c07a-320a05b5a02f"
      },
      "outputs": [
        {
          "output_type": "stream",
          "name": "stdout",
          "text": [
            "Requirement already satisfied: dask[dataframe] in /usr/local/lib/python3.10/dist-packages (2024.8.0)\n",
            "Requirement already satisfied: click>=8.1 in /usr/local/lib/python3.10/dist-packages (from dask[dataframe]) (8.1.7)\n",
            "Requirement already satisfied: cloudpickle>=1.5.0 in /usr/local/lib/python3.10/dist-packages (from dask[dataframe]) (2.2.1)\n",
            "Requirement already satisfied: fsspec>=2021.09.0 in /usr/local/lib/python3.10/dist-packages (from dask[dataframe]) (2024.6.1)\n",
            "Requirement already satisfied: packaging>=20.0 in /usr/local/lib/python3.10/dist-packages (from dask[dataframe]) (24.1)\n",
            "Requirement already satisfied: partd>=1.4.0 in /usr/local/lib/python3.10/dist-packages (from dask[dataframe]) (1.4.2)\n",
            "Requirement already satisfied: pyyaml>=5.3.1 in /usr/local/lib/python3.10/dist-packages (from dask[dataframe]) (6.0.2)\n",
            "Requirement already satisfied: toolz>=0.10.0 in /usr/local/lib/python3.10/dist-packages (from dask[dataframe]) (0.12.1)\n",
            "Requirement already satisfied: importlib-metadata>=4.13.0 in /usr/local/lib/python3.10/dist-packages (from dask[dataframe]) (8.5.0)\n",
            "Requirement already satisfied: pandas>=2.0 in /usr/local/lib/python3.10/dist-packages (from dask[dataframe]) (2.2.2)\n",
            "Requirement already satisfied: dask-expr<1.2,>=1.1 in /usr/local/lib/python3.10/dist-packages (from dask[dataframe]) (1.1.10)\n",
            "Requirement already satisfied: pyarrow>=7.0.0 in /usr/local/lib/python3.10/dist-packages (from dask-expr<1.2,>=1.1->dask[dataframe]) (16.1.0)\n",
            "Requirement already satisfied: zipp>=3.20 in /usr/local/lib/python3.10/dist-packages (from importlib-metadata>=4.13.0->dask[dataframe]) (3.20.2)\n",
            "Requirement already satisfied: numpy>=1.22.4 in /usr/local/lib/python3.10/dist-packages (from pandas>=2.0->dask[dataframe]) (1.26.4)\n",
            "Requirement already satisfied: python-dateutil>=2.8.2 in /usr/local/lib/python3.10/dist-packages (from pandas>=2.0->dask[dataframe]) (2.8.2)\n",
            "Requirement already satisfied: pytz>=2020.1 in /usr/local/lib/python3.10/dist-packages (from pandas>=2.0->dask[dataframe]) (2024.2)\n",
            "Requirement already satisfied: tzdata>=2022.7 in /usr/local/lib/python3.10/dist-packages (from pandas>=2.0->dask[dataframe]) (2024.2)\n",
            "Requirement already satisfied: locket in /usr/local/lib/python3.10/dist-packages (from partd>=1.4.0->dask[dataframe]) (1.0.0)\n",
            "Requirement already satisfied: six>=1.5 in /usr/local/lib/python3.10/dist-packages (from python-dateutil>=2.8.2->pandas>=2.0->dask[dataframe]) (1.16.0)\n"
          ]
        }
      ],
      "source": [
        "pip install dask[dataframe]"
      ]
    },
    {
      "cell_type": "code",
      "execution_count": null,
      "metadata": {
        "id": "cxxkMSF5nQ7b"
      },
      "outputs": [],
      "source": [
        "import pandas as pd\n",
        "import numpy as np\n",
        "import seaborn as sns\n",
        "import matplotlib.pyplot as plt\n",
        "import datetime\n",
        "from pmdarima import auto_arima\n",
        "from statsmodels.tsa.statespace.sarimax import SARIMAX\n",
        "import lightgbm as lgb\n",
        "from sklearn.ensemble import RandomForestRegressor\n",
        "from sklearn.model_selection import train_test_split\n",
        "from tensorflow import keras\n",
        "from sklearn.preprocessing import MinMaxScaler\n",
        "from sklearn.metrics import mean_absolute_error\n",
        "from tensorflow.keras.models import Sequential\n",
        "from tensorflow.keras.layers import Dense, LSTM\n",
        "import warnings\n",
        "warnings.filterwarnings(\"ignore\") # suppressing warnings"
      ]
    },
    {
      "cell_type": "markdown",
      "metadata": {
        "id": "9dQMcwZpqGzQ"
      },
      "source": [
        "# Data Understanding: EDA"
      ]
    },
    {
      "cell_type": "markdown",
      "source": [
        "##Basic exploring"
      ],
      "metadata": {
        "id": "vljdqSQirjPF"
      }
    },
    {
      "cell_type": "code",
      "execution_count": null,
      "metadata": {
        "colab": {
          "base_uri": "https://localhost:8080/",
          "height": 955
        },
        "id": "H0vQ_b-cqI1A",
        "outputId": "509e7d41-3816-4f1b-acb8-6993b8a0ca67"
      },
      "outputs": [
        {
          "output_type": "execute_result",
          "data": {
            "text/plain": [
              "   Row ID        Order ID  Order Date   Ship Date       Ship Mode Customer ID  \\\n",
              "0       1  CA-2017-152156  08/11/2017  11/11/2017    Second Class    CG-12520   \n",
              "1       2  CA-2017-152156  08/11/2017  11/11/2017    Second Class    CG-12520   \n",
              "2       3  CA-2017-138688  12/06/2017  16/06/2017    Second Class    DV-13045   \n",
              "3       4  US-2016-108966  11/10/2016  18/10/2016  Standard Class    SO-20335   \n",
              "4       5  US-2016-108966  11/10/2016  18/10/2016  Standard Class    SO-20335   \n",
              "5       6  CA-2015-115812  09/06/2015  14/06/2015  Standard Class    BH-11710   \n",
              "6       7  CA-2015-115812  09/06/2015  14/06/2015  Standard Class    BH-11710   \n",
              "7       8  CA-2015-115812  09/06/2015  14/06/2015  Standard Class    BH-11710   \n",
              "8       9  CA-2015-115812  09/06/2015  14/06/2015  Standard Class    BH-11710   \n",
              "9      10  CA-2015-115812  09/06/2015  14/06/2015  Standard Class    BH-11710   \n",
              "\n",
              "     Customer Name    Segment        Country             City       State  \\\n",
              "0      Claire Gute   Consumer  United States        Henderson    Kentucky   \n",
              "1      Claire Gute   Consumer  United States        Henderson    Kentucky   \n",
              "2  Darrin Van Huff  Corporate  United States      Los Angeles  California   \n",
              "3   Sean O'Donnell   Consumer  United States  Fort Lauderdale     Florida   \n",
              "4   Sean O'Donnell   Consumer  United States  Fort Lauderdale     Florida   \n",
              "5  Brosina Hoffman   Consumer  United States      Los Angeles  California   \n",
              "6  Brosina Hoffman   Consumer  United States      Los Angeles  California   \n",
              "7  Brosina Hoffman   Consumer  United States      Los Angeles  California   \n",
              "8  Brosina Hoffman   Consumer  United States      Los Angeles  California   \n",
              "9  Brosina Hoffman   Consumer  United States      Los Angeles  California   \n",
              "\n",
              "   Postal Code Region       Product ID         Category Sub-Category  \\\n",
              "0      42420.0  South  FUR-BO-10001798        Furniture    Bookcases   \n",
              "1      42420.0  South  FUR-CH-10000454        Furniture       Chairs   \n",
              "2      90036.0   West  OFF-LA-10000240  Office Supplies       Labels   \n",
              "3      33311.0  South  FUR-TA-10000577        Furniture       Tables   \n",
              "4      33311.0  South  OFF-ST-10000760  Office Supplies      Storage   \n",
              "5      90032.0   West  FUR-FU-10001487        Furniture  Furnishings   \n",
              "6      90032.0   West  OFF-AR-10002833  Office Supplies          Art   \n",
              "7      90032.0   West  TEC-PH-10002275       Technology       Phones   \n",
              "8      90032.0   West  OFF-BI-10003910  Office Supplies      Binders   \n",
              "9      90032.0   West  OFF-AP-10002892  Office Supplies   Appliances   \n",
              "\n",
              "                                        Product Name     Sales  \n",
              "0                  Bush Somerset Collection Bookcase  261.9600  \n",
              "1  Hon Deluxe Fabric Upholstered Stacking Chairs,...  731.9400  \n",
              "2  Self-Adhesive Address Labels for Typewriters b...   14.6200  \n",
              "3      Bretford CR4500 Series Slim Rectangular Table  957.5775  \n",
              "4                     Eldon Fold 'N Roll Cart System   22.3680  \n",
              "5  Eldon Expressions Wood and Plastic Desk Access...   48.8600  \n",
              "6                                         Newell 322    7.2800  \n",
              "7                     Mitel 5320 IP Phone VoIP phone  907.1520  \n",
              "8  DXL Angle-View Binders with Locking Rings by S...   18.5040  \n",
              "9                   Belkin F5C206VTEL 6 Outlet Surge  114.9000  "
            ],
            "text/html": [
              "\n",
              "  <div id=\"df-0b9e9781-ba7b-4000-a104-d3054110262a\" class=\"colab-df-container\">\n",
              "    <div>\n",
              "<style scoped>\n",
              "    .dataframe tbody tr th:only-of-type {\n",
              "        vertical-align: middle;\n",
              "    }\n",
              "\n",
              "    .dataframe tbody tr th {\n",
              "        vertical-align: top;\n",
              "    }\n",
              "\n",
              "    .dataframe thead th {\n",
              "        text-align: right;\n",
              "    }\n",
              "</style>\n",
              "<table border=\"1\" class=\"dataframe\">\n",
              "  <thead>\n",
              "    <tr style=\"text-align: right;\">\n",
              "      <th></th>\n",
              "      <th>Row ID</th>\n",
              "      <th>Order ID</th>\n",
              "      <th>Order Date</th>\n",
              "      <th>Ship Date</th>\n",
              "      <th>Ship Mode</th>\n",
              "      <th>Customer ID</th>\n",
              "      <th>Customer Name</th>\n",
              "      <th>Segment</th>\n",
              "      <th>Country</th>\n",
              "      <th>City</th>\n",
              "      <th>State</th>\n",
              "      <th>Postal Code</th>\n",
              "      <th>Region</th>\n",
              "      <th>Product ID</th>\n",
              "      <th>Category</th>\n",
              "      <th>Sub-Category</th>\n",
              "      <th>Product Name</th>\n",
              "      <th>Sales</th>\n",
              "    </tr>\n",
              "  </thead>\n",
              "  <tbody>\n",
              "    <tr>\n",
              "      <th>0</th>\n",
              "      <td>1</td>\n",
              "      <td>CA-2017-152156</td>\n",
              "      <td>08/11/2017</td>\n",
              "      <td>11/11/2017</td>\n",
              "      <td>Second Class</td>\n",
              "      <td>CG-12520</td>\n",
              "      <td>Claire Gute</td>\n",
              "      <td>Consumer</td>\n",
              "      <td>United States</td>\n",
              "      <td>Henderson</td>\n",
              "      <td>Kentucky</td>\n",
              "      <td>42420.0</td>\n",
              "      <td>South</td>\n",
              "      <td>FUR-BO-10001798</td>\n",
              "      <td>Furniture</td>\n",
              "      <td>Bookcases</td>\n",
              "      <td>Bush Somerset Collection Bookcase</td>\n",
              "      <td>261.9600</td>\n",
              "    </tr>\n",
              "    <tr>\n",
              "      <th>1</th>\n",
              "      <td>2</td>\n",
              "      <td>CA-2017-152156</td>\n",
              "      <td>08/11/2017</td>\n",
              "      <td>11/11/2017</td>\n",
              "      <td>Second Class</td>\n",
              "      <td>CG-12520</td>\n",
              "      <td>Claire Gute</td>\n",
              "      <td>Consumer</td>\n",
              "      <td>United States</td>\n",
              "      <td>Henderson</td>\n",
              "      <td>Kentucky</td>\n",
              "      <td>42420.0</td>\n",
              "      <td>South</td>\n",
              "      <td>FUR-CH-10000454</td>\n",
              "      <td>Furniture</td>\n",
              "      <td>Chairs</td>\n",
              "      <td>Hon Deluxe Fabric Upholstered Stacking Chairs,...</td>\n",
              "      <td>731.9400</td>\n",
              "    </tr>\n",
              "    <tr>\n",
              "      <th>2</th>\n",
              "      <td>3</td>\n",
              "      <td>CA-2017-138688</td>\n",
              "      <td>12/06/2017</td>\n",
              "      <td>16/06/2017</td>\n",
              "      <td>Second Class</td>\n",
              "      <td>DV-13045</td>\n",
              "      <td>Darrin Van Huff</td>\n",
              "      <td>Corporate</td>\n",
              "      <td>United States</td>\n",
              "      <td>Los Angeles</td>\n",
              "      <td>California</td>\n",
              "      <td>90036.0</td>\n",
              "      <td>West</td>\n",
              "      <td>OFF-LA-10000240</td>\n",
              "      <td>Office Supplies</td>\n",
              "      <td>Labels</td>\n",
              "      <td>Self-Adhesive Address Labels for Typewriters b...</td>\n",
              "      <td>14.6200</td>\n",
              "    </tr>\n",
              "    <tr>\n",
              "      <th>3</th>\n",
              "      <td>4</td>\n",
              "      <td>US-2016-108966</td>\n",
              "      <td>11/10/2016</td>\n",
              "      <td>18/10/2016</td>\n",
              "      <td>Standard Class</td>\n",
              "      <td>SO-20335</td>\n",
              "      <td>Sean O'Donnell</td>\n",
              "      <td>Consumer</td>\n",
              "      <td>United States</td>\n",
              "      <td>Fort Lauderdale</td>\n",
              "      <td>Florida</td>\n",
              "      <td>33311.0</td>\n",
              "      <td>South</td>\n",
              "      <td>FUR-TA-10000577</td>\n",
              "      <td>Furniture</td>\n",
              "      <td>Tables</td>\n",
              "      <td>Bretford CR4500 Series Slim Rectangular Table</td>\n",
              "      <td>957.5775</td>\n",
              "    </tr>\n",
              "    <tr>\n",
              "      <th>4</th>\n",
              "      <td>5</td>\n",
              "      <td>US-2016-108966</td>\n",
              "      <td>11/10/2016</td>\n",
              "      <td>18/10/2016</td>\n",
              "      <td>Standard Class</td>\n",
              "      <td>SO-20335</td>\n",
              "      <td>Sean O'Donnell</td>\n",
              "      <td>Consumer</td>\n",
              "      <td>United States</td>\n",
              "      <td>Fort Lauderdale</td>\n",
              "      <td>Florida</td>\n",
              "      <td>33311.0</td>\n",
              "      <td>South</td>\n",
              "      <td>OFF-ST-10000760</td>\n",
              "      <td>Office Supplies</td>\n",
              "      <td>Storage</td>\n",
              "      <td>Eldon Fold 'N Roll Cart System</td>\n",
              "      <td>22.3680</td>\n",
              "    </tr>\n",
              "    <tr>\n",
              "      <th>5</th>\n",
              "      <td>6</td>\n",
              "      <td>CA-2015-115812</td>\n",
              "      <td>09/06/2015</td>\n",
              "      <td>14/06/2015</td>\n",
              "      <td>Standard Class</td>\n",
              "      <td>BH-11710</td>\n",
              "      <td>Brosina Hoffman</td>\n",
              "      <td>Consumer</td>\n",
              "      <td>United States</td>\n",
              "      <td>Los Angeles</td>\n",
              "      <td>California</td>\n",
              "      <td>90032.0</td>\n",
              "      <td>West</td>\n",
              "      <td>FUR-FU-10001487</td>\n",
              "      <td>Furniture</td>\n",
              "      <td>Furnishings</td>\n",
              "      <td>Eldon Expressions Wood and Plastic Desk Access...</td>\n",
              "      <td>48.8600</td>\n",
              "    </tr>\n",
              "    <tr>\n",
              "      <th>6</th>\n",
              "      <td>7</td>\n",
              "      <td>CA-2015-115812</td>\n",
              "      <td>09/06/2015</td>\n",
              "      <td>14/06/2015</td>\n",
              "      <td>Standard Class</td>\n",
              "      <td>BH-11710</td>\n",
              "      <td>Brosina Hoffman</td>\n",
              "      <td>Consumer</td>\n",
              "      <td>United States</td>\n",
              "      <td>Los Angeles</td>\n",
              "      <td>California</td>\n",
              "      <td>90032.0</td>\n",
              "      <td>West</td>\n",
              "      <td>OFF-AR-10002833</td>\n",
              "      <td>Office Supplies</td>\n",
              "      <td>Art</td>\n",
              "      <td>Newell 322</td>\n",
              "      <td>7.2800</td>\n",
              "    </tr>\n",
              "    <tr>\n",
              "      <th>7</th>\n",
              "      <td>8</td>\n",
              "      <td>CA-2015-115812</td>\n",
              "      <td>09/06/2015</td>\n",
              "      <td>14/06/2015</td>\n",
              "      <td>Standard Class</td>\n",
              "      <td>BH-11710</td>\n",
              "      <td>Brosina Hoffman</td>\n",
              "      <td>Consumer</td>\n",
              "      <td>United States</td>\n",
              "      <td>Los Angeles</td>\n",
              "      <td>California</td>\n",
              "      <td>90032.0</td>\n",
              "      <td>West</td>\n",
              "      <td>TEC-PH-10002275</td>\n",
              "      <td>Technology</td>\n",
              "      <td>Phones</td>\n",
              "      <td>Mitel 5320 IP Phone VoIP phone</td>\n",
              "      <td>907.1520</td>\n",
              "    </tr>\n",
              "    <tr>\n",
              "      <th>8</th>\n",
              "      <td>9</td>\n",
              "      <td>CA-2015-115812</td>\n",
              "      <td>09/06/2015</td>\n",
              "      <td>14/06/2015</td>\n",
              "      <td>Standard Class</td>\n",
              "      <td>BH-11710</td>\n",
              "      <td>Brosina Hoffman</td>\n",
              "      <td>Consumer</td>\n",
              "      <td>United States</td>\n",
              "      <td>Los Angeles</td>\n",
              "      <td>California</td>\n",
              "      <td>90032.0</td>\n",
              "      <td>West</td>\n",
              "      <td>OFF-BI-10003910</td>\n",
              "      <td>Office Supplies</td>\n",
              "      <td>Binders</td>\n",
              "      <td>DXL Angle-View Binders with Locking Rings by S...</td>\n",
              "      <td>18.5040</td>\n",
              "    </tr>\n",
              "    <tr>\n",
              "      <th>9</th>\n",
              "      <td>10</td>\n",
              "      <td>CA-2015-115812</td>\n",
              "      <td>09/06/2015</td>\n",
              "      <td>14/06/2015</td>\n",
              "      <td>Standard Class</td>\n",
              "      <td>BH-11710</td>\n",
              "      <td>Brosina Hoffman</td>\n",
              "      <td>Consumer</td>\n",
              "      <td>United States</td>\n",
              "      <td>Los Angeles</td>\n",
              "      <td>California</td>\n",
              "      <td>90032.0</td>\n",
              "      <td>West</td>\n",
              "      <td>OFF-AP-10002892</td>\n",
              "      <td>Office Supplies</td>\n",
              "      <td>Appliances</td>\n",
              "      <td>Belkin F5C206VTEL 6 Outlet Surge</td>\n",
              "      <td>114.9000</td>\n",
              "    </tr>\n",
              "  </tbody>\n",
              "</table>\n",
              "</div>\n",
              "    <div class=\"colab-df-buttons\">\n",
              "\n",
              "  <div class=\"colab-df-container\">\n",
              "    <button class=\"colab-df-convert\" onclick=\"convertToInteractive('df-0b9e9781-ba7b-4000-a104-d3054110262a')\"\n",
              "            title=\"Convert this dataframe to an interactive table.\"\n",
              "            style=\"display:none;\">\n",
              "\n",
              "  <svg xmlns=\"http://www.w3.org/2000/svg\" height=\"24px\" viewBox=\"0 -960 960 960\">\n",
              "    <path d=\"M120-120v-720h720v720H120Zm60-500h600v-160H180v160Zm220 220h160v-160H400v160Zm0 220h160v-160H400v160ZM180-400h160v-160H180v160Zm440 0h160v-160H620v160ZM180-180h160v-160H180v160Zm440 0h160v-160H620v160Z\"/>\n",
              "  </svg>\n",
              "    </button>\n",
              "\n",
              "  <style>\n",
              "    .colab-df-container {\n",
              "      display:flex;\n",
              "      gap: 12px;\n",
              "    }\n",
              "\n",
              "    .colab-df-convert {\n",
              "      background-color: #E8F0FE;\n",
              "      border: none;\n",
              "      border-radius: 50%;\n",
              "      cursor: pointer;\n",
              "      display: none;\n",
              "      fill: #1967D2;\n",
              "      height: 32px;\n",
              "      padding: 0 0 0 0;\n",
              "      width: 32px;\n",
              "    }\n",
              "\n",
              "    .colab-df-convert:hover {\n",
              "      background-color: #E2EBFA;\n",
              "      box-shadow: 0px 1px 2px rgba(60, 64, 67, 0.3), 0px 1px 3px 1px rgba(60, 64, 67, 0.15);\n",
              "      fill: #174EA6;\n",
              "    }\n",
              "\n",
              "    .colab-df-buttons div {\n",
              "      margin-bottom: 4px;\n",
              "    }\n",
              "\n",
              "    [theme=dark] .colab-df-convert {\n",
              "      background-color: #3B4455;\n",
              "      fill: #D2E3FC;\n",
              "    }\n",
              "\n",
              "    [theme=dark] .colab-df-convert:hover {\n",
              "      background-color: #434B5C;\n",
              "      box-shadow: 0px 1px 3px 1px rgba(0, 0, 0, 0.15);\n",
              "      filter: drop-shadow(0px 1px 2px rgba(0, 0, 0, 0.3));\n",
              "      fill: #FFFFFF;\n",
              "    }\n",
              "  </style>\n",
              "\n",
              "    <script>\n",
              "      const buttonEl =\n",
              "        document.querySelector('#df-0b9e9781-ba7b-4000-a104-d3054110262a button.colab-df-convert');\n",
              "      buttonEl.style.display =\n",
              "        google.colab.kernel.accessAllowed ? 'block' : 'none';\n",
              "\n",
              "      async function convertToInteractive(key) {\n",
              "        const element = document.querySelector('#df-0b9e9781-ba7b-4000-a104-d3054110262a');\n",
              "        const dataTable =\n",
              "          await google.colab.kernel.invokeFunction('convertToInteractive',\n",
              "                                                    [key], {});\n",
              "        if (!dataTable) return;\n",
              "\n",
              "        const docLinkHtml = 'Like what you see? Visit the ' +\n",
              "          '<a target=\"_blank\" href=https://colab.research.google.com/notebooks/data_table.ipynb>data table notebook</a>'\n",
              "          + ' to learn more about interactive tables.';\n",
              "        element.innerHTML = '';\n",
              "        dataTable['output_type'] = 'display_data';\n",
              "        await google.colab.output.renderOutput(dataTable, element);\n",
              "        const docLink = document.createElement('div');\n",
              "        docLink.innerHTML = docLinkHtml;\n",
              "        element.appendChild(docLink);\n",
              "      }\n",
              "    </script>\n",
              "  </div>\n",
              "\n",
              "\n",
              "<div id=\"df-a463dc6a-b59f-4459-86a5-b1de0364514a\">\n",
              "  <button class=\"colab-df-quickchart\" onclick=\"quickchart('df-a463dc6a-b59f-4459-86a5-b1de0364514a')\"\n",
              "            title=\"Suggest charts\"\n",
              "            style=\"display:none;\">\n",
              "\n",
              "<svg xmlns=\"http://www.w3.org/2000/svg\" height=\"24px\"viewBox=\"0 0 24 24\"\n",
              "     width=\"24px\">\n",
              "    <g>\n",
              "        <path d=\"M19 3H5c-1.1 0-2 .9-2 2v14c0 1.1.9 2 2 2h14c1.1 0 2-.9 2-2V5c0-1.1-.9-2-2-2zM9 17H7v-7h2v7zm4 0h-2V7h2v10zm4 0h-2v-4h2v4z\"/>\n",
              "    </g>\n",
              "</svg>\n",
              "  </button>\n",
              "\n",
              "<style>\n",
              "  .colab-df-quickchart {\n",
              "      --bg-color: #E8F0FE;\n",
              "      --fill-color: #1967D2;\n",
              "      --hover-bg-color: #E2EBFA;\n",
              "      --hover-fill-color: #174EA6;\n",
              "      --disabled-fill-color: #AAA;\n",
              "      --disabled-bg-color: #DDD;\n",
              "  }\n",
              "\n",
              "  [theme=dark] .colab-df-quickchart {\n",
              "      --bg-color: #3B4455;\n",
              "      --fill-color: #D2E3FC;\n",
              "      --hover-bg-color: #434B5C;\n",
              "      --hover-fill-color: #FFFFFF;\n",
              "      --disabled-bg-color: #3B4455;\n",
              "      --disabled-fill-color: #666;\n",
              "  }\n",
              "\n",
              "  .colab-df-quickchart {\n",
              "    background-color: var(--bg-color);\n",
              "    border: none;\n",
              "    border-radius: 50%;\n",
              "    cursor: pointer;\n",
              "    display: none;\n",
              "    fill: var(--fill-color);\n",
              "    height: 32px;\n",
              "    padding: 0;\n",
              "    width: 32px;\n",
              "  }\n",
              "\n",
              "  .colab-df-quickchart:hover {\n",
              "    background-color: var(--hover-bg-color);\n",
              "    box-shadow: 0 1px 2px rgba(60, 64, 67, 0.3), 0 1px 3px 1px rgba(60, 64, 67, 0.15);\n",
              "    fill: var(--button-hover-fill-color);\n",
              "  }\n",
              "\n",
              "  .colab-df-quickchart-complete:disabled,\n",
              "  .colab-df-quickchart-complete:disabled:hover {\n",
              "    background-color: var(--disabled-bg-color);\n",
              "    fill: var(--disabled-fill-color);\n",
              "    box-shadow: none;\n",
              "  }\n",
              "\n",
              "  .colab-df-spinner {\n",
              "    border: 2px solid var(--fill-color);\n",
              "    border-color: transparent;\n",
              "    border-bottom-color: var(--fill-color);\n",
              "    animation:\n",
              "      spin 1s steps(1) infinite;\n",
              "  }\n",
              "\n",
              "  @keyframes spin {\n",
              "    0% {\n",
              "      border-color: transparent;\n",
              "      border-bottom-color: var(--fill-color);\n",
              "      border-left-color: var(--fill-color);\n",
              "    }\n",
              "    20% {\n",
              "      border-color: transparent;\n",
              "      border-left-color: var(--fill-color);\n",
              "      border-top-color: var(--fill-color);\n",
              "    }\n",
              "    30% {\n",
              "      border-color: transparent;\n",
              "      border-left-color: var(--fill-color);\n",
              "      border-top-color: var(--fill-color);\n",
              "      border-right-color: var(--fill-color);\n",
              "    }\n",
              "    40% {\n",
              "      border-color: transparent;\n",
              "      border-right-color: var(--fill-color);\n",
              "      border-top-color: var(--fill-color);\n",
              "    }\n",
              "    60% {\n",
              "      border-color: transparent;\n",
              "      border-right-color: var(--fill-color);\n",
              "    }\n",
              "    80% {\n",
              "      border-color: transparent;\n",
              "      border-right-color: var(--fill-color);\n",
              "      border-bottom-color: var(--fill-color);\n",
              "    }\n",
              "    90% {\n",
              "      border-color: transparent;\n",
              "      border-bottom-color: var(--fill-color);\n",
              "    }\n",
              "  }\n",
              "</style>\n",
              "\n",
              "  <script>\n",
              "    async function quickchart(key) {\n",
              "      const quickchartButtonEl =\n",
              "        document.querySelector('#' + key + ' button');\n",
              "      quickchartButtonEl.disabled = true;  // To prevent multiple clicks.\n",
              "      quickchartButtonEl.classList.add('colab-df-spinner');\n",
              "      try {\n",
              "        const charts = await google.colab.kernel.invokeFunction(\n",
              "            'suggestCharts', [key], {});\n",
              "      } catch (error) {\n",
              "        console.error('Error during call to suggestCharts:', error);\n",
              "      }\n",
              "      quickchartButtonEl.classList.remove('colab-df-spinner');\n",
              "      quickchartButtonEl.classList.add('colab-df-quickchart-complete');\n",
              "    }\n",
              "    (() => {\n",
              "      let quickchartButtonEl =\n",
              "        document.querySelector('#df-a463dc6a-b59f-4459-86a5-b1de0364514a button');\n",
              "      quickchartButtonEl.style.display =\n",
              "        google.colab.kernel.accessAllowed ? 'block' : 'none';\n",
              "    })();\n",
              "  </script>\n",
              "</div>\n",
              "\n",
              "    </div>\n",
              "  </div>\n"
            ],
            "application/vnd.google.colaboratory.intrinsic+json": {
              "type": "dataframe",
              "variable_name": "df",
              "summary": "{\n  \"name\": \"df\",\n  \"rows\": 9800,\n  \"fields\": [\n    {\n      \"column\": \"Row ID\",\n      \"properties\": {\n        \"dtype\": \"number\",\n        \"std\": 2829,\n        \"min\": 1,\n        \"max\": 9800,\n        \"num_unique_values\": 9800,\n        \"samples\": [\n          533,\n          873,\n          1150\n        ],\n        \"semantic_type\": \"\",\n        \"description\": \"\"\n      }\n    },\n    {\n      \"column\": \"Order ID\",\n      \"properties\": {\n        \"dtype\": \"string\",\n        \"num_unique_values\": 4922,\n        \"samples\": [\n          \"CA-2018-105809\",\n          \"CA-2018-144491\",\n          \"CA-2018-147564\"\n        ],\n        \"semantic_type\": \"\",\n        \"description\": \"\"\n      }\n    },\n    {\n      \"column\": \"Order Date\",\n      \"properties\": {\n        \"dtype\": \"category\",\n        \"num_unique_values\": 1230,\n        \"samples\": [\n          \"21/06/2018\",\n          \"20/04/2016\",\n          \"20/05/2017\"\n        ],\n        \"semantic_type\": \"\",\n        \"description\": \"\"\n      }\n    },\n    {\n      \"column\": \"Ship Date\",\n      \"properties\": {\n        \"dtype\": \"category\",\n        \"num_unique_values\": 1326,\n        \"samples\": [\n          \"26/08/2015\",\n          \"14/12/2015\",\n          \"19/04/2018\"\n        ],\n        \"semantic_type\": \"\",\n        \"description\": \"\"\n      }\n    },\n    {\n      \"column\": \"Ship Mode\",\n      \"properties\": {\n        \"dtype\": \"category\",\n        \"num_unique_values\": 4,\n        \"samples\": [\n          \"Standard Class\",\n          \"Same Day\",\n          \"Second Class\"\n        ],\n        \"semantic_type\": \"\",\n        \"description\": \"\"\n      }\n    },\n    {\n      \"column\": \"Customer ID\",\n      \"properties\": {\n        \"dtype\": \"category\",\n        \"num_unique_values\": 793,\n        \"samples\": [\n          \"DJ-13510\",\n          \"MD-17350\",\n          \"NF-18475\"\n        ],\n        \"semantic_type\": \"\",\n        \"description\": \"\"\n      }\n    },\n    {\n      \"column\": \"Customer Name\",\n      \"properties\": {\n        \"dtype\": \"category\",\n        \"num_unique_values\": 793,\n        \"samples\": [\n          \"Don Jones\",\n          \"Maribeth Dona\",\n          \"Neil Franz\\u00f6sisch\"\n        ],\n        \"semantic_type\": \"\",\n        \"description\": \"\"\n      }\n    },\n    {\n      \"column\": \"Segment\",\n      \"properties\": {\n        \"dtype\": \"category\",\n        \"num_unique_values\": 3,\n        \"samples\": [\n          \"Consumer\",\n          \"Corporate\",\n          \"Home Office\"\n        ],\n        \"semantic_type\": \"\",\n        \"description\": \"\"\n      }\n    },\n    {\n      \"column\": \"Country\",\n      \"properties\": {\n        \"dtype\": \"category\",\n        \"num_unique_values\": 1,\n        \"samples\": [\n          \"United States\"\n        ],\n        \"semantic_type\": \"\",\n        \"description\": \"\"\n      }\n    },\n    {\n      \"column\": \"City\",\n      \"properties\": {\n        \"dtype\": \"category\",\n        \"num_unique_values\": 529,\n        \"samples\": [\n          \"Burlington\"\n        ],\n        \"semantic_type\": \"\",\n        \"description\": \"\"\n      }\n    },\n    {\n      \"column\": \"State\",\n      \"properties\": {\n        \"dtype\": \"category\",\n        \"num_unique_values\": 49,\n        \"samples\": [\n          \"Delaware\"\n        ],\n        \"semantic_type\": \"\",\n        \"description\": \"\"\n      }\n    },\n    {\n      \"column\": \"Postal Code\",\n      \"properties\": {\n        \"dtype\": \"number\",\n        \"std\": 32041.22341281317,\n        \"min\": 1040.0,\n        \"max\": 99301.0,\n        \"num_unique_values\": 626,\n        \"samples\": [\n          56301.0\n        ],\n        \"semantic_type\": \"\",\n        \"description\": \"\"\n      }\n    },\n    {\n      \"column\": \"Region\",\n      \"properties\": {\n        \"dtype\": \"category\",\n        \"num_unique_values\": 4,\n        \"samples\": [\n          \"West\"\n        ],\n        \"semantic_type\": \"\",\n        \"description\": \"\"\n      }\n    },\n    {\n      \"column\": \"Product ID\",\n      \"properties\": {\n        \"dtype\": \"category\",\n        \"num_unique_values\": 1861,\n        \"samples\": [\n          \"TEC-PH-10001580\"\n        ],\n        \"semantic_type\": \"\",\n        \"description\": \"\"\n      }\n    },\n    {\n      \"column\": \"Category\",\n      \"properties\": {\n        \"dtype\": \"category\",\n        \"num_unique_values\": 3,\n        \"samples\": [\n          \"Furniture\"\n        ],\n        \"semantic_type\": \"\",\n        \"description\": \"\"\n      }\n    },\n    {\n      \"column\": \"Sub-Category\",\n      \"properties\": {\n        \"dtype\": \"category\",\n        \"num_unique_values\": 17,\n        \"samples\": [\n          \"Bookcases\"\n        ],\n        \"semantic_type\": \"\",\n        \"description\": \"\"\n      }\n    },\n    {\n      \"column\": \"Product Name\",\n      \"properties\": {\n        \"dtype\": \"category\",\n        \"num_unique_values\": 1849,\n        \"samples\": [\n          \"Imation\\u00a032GB Pocket Pro USB 3.0\\u00a0Flash Drive\\u00a0- 32 GB - Black - 1 P ...\"\n        ],\n        \"semantic_type\": \"\",\n        \"description\": \"\"\n      }\n    },\n    {\n      \"column\": \"Sales\",\n      \"properties\": {\n        \"dtype\": \"number\",\n        \"std\": 626.6518748388047,\n        \"min\": 0.444,\n        \"max\": 22638.48,\n        \"num_unique_values\": 5757,\n        \"samples\": [\n          35.34\n        ],\n        \"semantic_type\": \"\",\n        \"description\": \"\"\n      }\n    }\n  ]\n}"
            }
          },
          "metadata": {},
          "execution_count": 49
        }
      ],
      "source": [
        "df = pd.read_csv('train.csv')\n",
        "df.head(10)"
      ]
    },
    {
      "cell_type": "code",
      "source": [
        "df[\"Order Date\"]"
      ],
      "metadata": {
        "colab": {
          "base_uri": "https://localhost:8080/",
          "height": 458
        },
        "id": "k84H3v9T__3I",
        "outputId": "446edea4-a27d-4287-cfe1-476b035bfb2d"
      },
      "execution_count": null,
      "outputs": [
        {
          "output_type": "execute_result",
          "data": {
            "text/plain": [
              "0       08/11/2017\n",
              "1       08/11/2017\n",
              "2       12/06/2017\n",
              "3       11/10/2016\n",
              "4       11/10/2016\n",
              "           ...    \n",
              "9795    21/05/2017\n",
              "9796    12/01/2016\n",
              "9797    12/01/2016\n",
              "9798    12/01/2016\n",
              "9799    12/01/2016\n",
              "Name: Order Date, Length: 9800, dtype: object"
            ],
            "text/html": [
              "<div>\n",
              "<style scoped>\n",
              "    .dataframe tbody tr th:only-of-type {\n",
              "        vertical-align: middle;\n",
              "    }\n",
              "\n",
              "    .dataframe tbody tr th {\n",
              "        vertical-align: top;\n",
              "    }\n",
              "\n",
              "    .dataframe thead th {\n",
              "        text-align: right;\n",
              "    }\n",
              "</style>\n",
              "<table border=\"1\" class=\"dataframe\">\n",
              "  <thead>\n",
              "    <tr style=\"text-align: right;\">\n",
              "      <th></th>\n",
              "      <th>Order Date</th>\n",
              "    </tr>\n",
              "  </thead>\n",
              "  <tbody>\n",
              "    <tr>\n",
              "      <th>0</th>\n",
              "      <td>08/11/2017</td>\n",
              "    </tr>\n",
              "    <tr>\n",
              "      <th>1</th>\n",
              "      <td>08/11/2017</td>\n",
              "    </tr>\n",
              "    <tr>\n",
              "      <th>2</th>\n",
              "      <td>12/06/2017</td>\n",
              "    </tr>\n",
              "    <tr>\n",
              "      <th>3</th>\n",
              "      <td>11/10/2016</td>\n",
              "    </tr>\n",
              "    <tr>\n",
              "      <th>4</th>\n",
              "      <td>11/10/2016</td>\n",
              "    </tr>\n",
              "    <tr>\n",
              "      <th>...</th>\n",
              "      <td>...</td>\n",
              "    </tr>\n",
              "    <tr>\n",
              "      <th>9795</th>\n",
              "      <td>21/05/2017</td>\n",
              "    </tr>\n",
              "    <tr>\n",
              "      <th>9796</th>\n",
              "      <td>12/01/2016</td>\n",
              "    </tr>\n",
              "    <tr>\n",
              "      <th>9797</th>\n",
              "      <td>12/01/2016</td>\n",
              "    </tr>\n",
              "    <tr>\n",
              "      <th>9798</th>\n",
              "      <td>12/01/2016</td>\n",
              "    </tr>\n",
              "    <tr>\n",
              "      <th>9799</th>\n",
              "      <td>12/01/2016</td>\n",
              "    </tr>\n",
              "  </tbody>\n",
              "</table>\n",
              "<p>9800 rows × 1 columns</p>\n",
              "</div><br><label><b>dtype:</b> object</label>"
            ]
          },
          "metadata": {},
          "execution_count": 50
        }
      ]
    },
    {
      "cell_type": "code",
      "source": [
        "# checking how many rows and columns in the dataset\n",
        "df.shape"
      ],
      "metadata": {
        "colab": {
          "base_uri": "https://localhost:8080/"
        },
        "id": "EunWRfHV2GZs",
        "outputId": "cc00d5be-eca0-4601-ec72-fa90ef9d5e11"
      },
      "execution_count": null,
      "outputs": [
        {
          "output_type": "execute_result",
          "data": {
            "text/plain": [
              "(9800, 18)"
            ]
          },
          "metadata": {},
          "execution_count": 51
        }
      ]
    },
    {
      "cell_type": "code",
      "source": [
        "# getting more information from the data\n",
        "df.info()"
      ],
      "metadata": {
        "colab": {
          "base_uri": "https://localhost:8080/"
        },
        "id": "lpNgdG912J_8",
        "outputId": "e2df2913-21cf-4bb0-e146-748bdb60f44f"
      },
      "execution_count": null,
      "outputs": [
        {
          "output_type": "stream",
          "name": "stdout",
          "text": [
            "<class 'pandas.core.frame.DataFrame'>\n",
            "RangeIndex: 9800 entries, 0 to 9799\n",
            "Data columns (total 18 columns):\n",
            " #   Column         Non-Null Count  Dtype  \n",
            "---  ------         --------------  -----  \n",
            " 0   Row ID         9800 non-null   int64  \n",
            " 1   Order ID       9800 non-null   object \n",
            " 2   Order Date     9800 non-null   object \n",
            " 3   Ship Date      9800 non-null   object \n",
            " 4   Ship Mode      9800 non-null   object \n",
            " 5   Customer ID    9800 non-null   object \n",
            " 6   Customer Name  9800 non-null   object \n",
            " 7   Segment        9800 non-null   object \n",
            " 8   Country        9800 non-null   object \n",
            " 9   City           9800 non-null   object \n",
            " 10  State          9800 non-null   object \n",
            " 11  Postal Code    9789 non-null   float64\n",
            " 12  Region         9800 non-null   object \n",
            " 13  Product ID     9800 non-null   object \n",
            " 14  Category       9800 non-null   object \n",
            " 15  Sub-Category   9800 non-null   object \n",
            " 16  Product Name   9800 non-null   object \n",
            " 17  Sales          9800 non-null   float64\n",
            "dtypes: float64(2), int64(1), object(15)\n",
            "memory usage: 1.3+ MB\n"
          ]
        }
      ]
    },
    {
      "cell_type": "code",
      "source": [
        "df.describe(include='all')"
      ],
      "metadata": {
        "colab": {
          "base_uri": "https://localhost:8080/",
          "height": 466
        },
        "id": "-H5EcG7E2Muc",
        "outputId": "a31b63f3-da98-4efa-bfb0-63c3e3a82af9"
      },
      "execution_count": null,
      "outputs": [
        {
          "output_type": "execute_result",
          "data": {
            "text/plain": [
              "             Row ID        Order ID  Order Date   Ship Date       Ship Mode  \\\n",
              "count   9800.000000            9800        9800        9800            9800   \n",
              "unique          NaN            4922        1230        1326               4   \n",
              "top             NaN  CA-2018-100111  05/09/2017  26/09/2018  Standard Class   \n",
              "freq            NaN              14          38          34            5859   \n",
              "mean    4900.500000             NaN         NaN         NaN             NaN   \n",
              "std     2829.160653             NaN         NaN         NaN             NaN   \n",
              "min        1.000000             NaN         NaN         NaN             NaN   \n",
              "25%     2450.750000             NaN         NaN         NaN             NaN   \n",
              "50%     4900.500000             NaN         NaN         NaN             NaN   \n",
              "75%     7350.250000             NaN         NaN         NaN             NaN   \n",
              "max     9800.000000             NaN         NaN         NaN             NaN   \n",
              "\n",
              "       Customer ID  Customer Name   Segment        Country           City  \\\n",
              "count         9800           9800      9800           9800           9800   \n",
              "unique         793            793         3              1            529   \n",
              "top       WB-21850  William Brown  Consumer  United States  New York City   \n",
              "freq            35             35      5101           9800            891   \n",
              "mean           NaN            NaN       NaN            NaN            NaN   \n",
              "std            NaN            NaN       NaN            NaN            NaN   \n",
              "min            NaN            NaN       NaN            NaN            NaN   \n",
              "25%            NaN            NaN       NaN            NaN            NaN   \n",
              "50%            NaN            NaN       NaN            NaN            NaN   \n",
              "75%            NaN            NaN       NaN            NaN            NaN   \n",
              "max            NaN            NaN       NaN            NaN            NaN   \n",
              "\n",
              "             State   Postal Code Region       Product ID         Category  \\\n",
              "count         9800   9789.000000   9800             9800             9800   \n",
              "unique          49           NaN      4             1861                3   \n",
              "top     California           NaN   West  OFF-PA-10001970  Office Supplies   \n",
              "freq          1946           NaN   3140               19             5909   \n",
              "mean           NaN  55273.322403    NaN              NaN              NaN   \n",
              "std            NaN  32041.223413    NaN              NaN              NaN   \n",
              "min            NaN   1040.000000    NaN              NaN              NaN   \n",
              "25%            NaN  23223.000000    NaN              NaN              NaN   \n",
              "50%            NaN  58103.000000    NaN              NaN              NaN   \n",
              "75%            NaN  90008.000000    NaN              NaN              NaN   \n",
              "max            NaN  99301.000000    NaN              NaN              NaN   \n",
              "\n",
              "       Sub-Category     Product Name         Sales  \n",
              "count          9800             9800   9800.000000  \n",
              "unique           17             1849           NaN  \n",
              "top         Binders  Staple envelope           NaN  \n",
              "freq           1492               47           NaN  \n",
              "mean            NaN              NaN    230.769059  \n",
              "std             NaN              NaN    626.651875  \n",
              "min             NaN              NaN      0.444000  \n",
              "25%             NaN              NaN     17.248000  \n",
              "50%             NaN              NaN     54.490000  \n",
              "75%             NaN              NaN    210.605000  \n",
              "max             NaN              NaN  22638.480000  "
            ],
            "text/html": [
              "\n",
              "  <div id=\"df-a919a72f-ec3b-4f87-b936-c54764c115ed\" class=\"colab-df-container\">\n",
              "    <div>\n",
              "<style scoped>\n",
              "    .dataframe tbody tr th:only-of-type {\n",
              "        vertical-align: middle;\n",
              "    }\n",
              "\n",
              "    .dataframe tbody tr th {\n",
              "        vertical-align: top;\n",
              "    }\n",
              "\n",
              "    .dataframe thead th {\n",
              "        text-align: right;\n",
              "    }\n",
              "</style>\n",
              "<table border=\"1\" class=\"dataframe\">\n",
              "  <thead>\n",
              "    <tr style=\"text-align: right;\">\n",
              "      <th></th>\n",
              "      <th>Row ID</th>\n",
              "      <th>Order ID</th>\n",
              "      <th>Order Date</th>\n",
              "      <th>Ship Date</th>\n",
              "      <th>Ship Mode</th>\n",
              "      <th>Customer ID</th>\n",
              "      <th>Customer Name</th>\n",
              "      <th>Segment</th>\n",
              "      <th>Country</th>\n",
              "      <th>City</th>\n",
              "      <th>State</th>\n",
              "      <th>Postal Code</th>\n",
              "      <th>Region</th>\n",
              "      <th>Product ID</th>\n",
              "      <th>Category</th>\n",
              "      <th>Sub-Category</th>\n",
              "      <th>Product Name</th>\n",
              "      <th>Sales</th>\n",
              "    </tr>\n",
              "  </thead>\n",
              "  <tbody>\n",
              "    <tr>\n",
              "      <th>count</th>\n",
              "      <td>9800.000000</td>\n",
              "      <td>9800</td>\n",
              "      <td>9800</td>\n",
              "      <td>9800</td>\n",
              "      <td>9800</td>\n",
              "      <td>9800</td>\n",
              "      <td>9800</td>\n",
              "      <td>9800</td>\n",
              "      <td>9800</td>\n",
              "      <td>9800</td>\n",
              "      <td>9800</td>\n",
              "      <td>9789.000000</td>\n",
              "      <td>9800</td>\n",
              "      <td>9800</td>\n",
              "      <td>9800</td>\n",
              "      <td>9800</td>\n",
              "      <td>9800</td>\n",
              "      <td>9800.000000</td>\n",
              "    </tr>\n",
              "    <tr>\n",
              "      <th>unique</th>\n",
              "      <td>NaN</td>\n",
              "      <td>4922</td>\n",
              "      <td>1230</td>\n",
              "      <td>1326</td>\n",
              "      <td>4</td>\n",
              "      <td>793</td>\n",
              "      <td>793</td>\n",
              "      <td>3</td>\n",
              "      <td>1</td>\n",
              "      <td>529</td>\n",
              "      <td>49</td>\n",
              "      <td>NaN</td>\n",
              "      <td>4</td>\n",
              "      <td>1861</td>\n",
              "      <td>3</td>\n",
              "      <td>17</td>\n",
              "      <td>1849</td>\n",
              "      <td>NaN</td>\n",
              "    </tr>\n",
              "    <tr>\n",
              "      <th>top</th>\n",
              "      <td>NaN</td>\n",
              "      <td>CA-2018-100111</td>\n",
              "      <td>05/09/2017</td>\n",
              "      <td>26/09/2018</td>\n",
              "      <td>Standard Class</td>\n",
              "      <td>WB-21850</td>\n",
              "      <td>William Brown</td>\n",
              "      <td>Consumer</td>\n",
              "      <td>United States</td>\n",
              "      <td>New York City</td>\n",
              "      <td>California</td>\n",
              "      <td>NaN</td>\n",
              "      <td>West</td>\n",
              "      <td>OFF-PA-10001970</td>\n",
              "      <td>Office Supplies</td>\n",
              "      <td>Binders</td>\n",
              "      <td>Staple envelope</td>\n",
              "      <td>NaN</td>\n",
              "    </tr>\n",
              "    <tr>\n",
              "      <th>freq</th>\n",
              "      <td>NaN</td>\n",
              "      <td>14</td>\n",
              "      <td>38</td>\n",
              "      <td>34</td>\n",
              "      <td>5859</td>\n",
              "      <td>35</td>\n",
              "      <td>35</td>\n",
              "      <td>5101</td>\n",
              "      <td>9800</td>\n",
              "      <td>891</td>\n",
              "      <td>1946</td>\n",
              "      <td>NaN</td>\n",
              "      <td>3140</td>\n",
              "      <td>19</td>\n",
              "      <td>5909</td>\n",
              "      <td>1492</td>\n",
              "      <td>47</td>\n",
              "      <td>NaN</td>\n",
              "    </tr>\n",
              "    <tr>\n",
              "      <th>mean</th>\n",
              "      <td>4900.500000</td>\n",
              "      <td>NaN</td>\n",
              "      <td>NaN</td>\n",
              "      <td>NaN</td>\n",
              "      <td>NaN</td>\n",
              "      <td>NaN</td>\n",
              "      <td>NaN</td>\n",
              "      <td>NaN</td>\n",
              "      <td>NaN</td>\n",
              "      <td>NaN</td>\n",
              "      <td>NaN</td>\n",
              "      <td>55273.322403</td>\n",
              "      <td>NaN</td>\n",
              "      <td>NaN</td>\n",
              "      <td>NaN</td>\n",
              "      <td>NaN</td>\n",
              "      <td>NaN</td>\n",
              "      <td>230.769059</td>\n",
              "    </tr>\n",
              "    <tr>\n",
              "      <th>std</th>\n",
              "      <td>2829.160653</td>\n",
              "      <td>NaN</td>\n",
              "      <td>NaN</td>\n",
              "      <td>NaN</td>\n",
              "      <td>NaN</td>\n",
              "      <td>NaN</td>\n",
              "      <td>NaN</td>\n",
              "      <td>NaN</td>\n",
              "      <td>NaN</td>\n",
              "      <td>NaN</td>\n",
              "      <td>NaN</td>\n",
              "      <td>32041.223413</td>\n",
              "      <td>NaN</td>\n",
              "      <td>NaN</td>\n",
              "      <td>NaN</td>\n",
              "      <td>NaN</td>\n",
              "      <td>NaN</td>\n",
              "      <td>626.651875</td>\n",
              "    </tr>\n",
              "    <tr>\n",
              "      <th>min</th>\n",
              "      <td>1.000000</td>\n",
              "      <td>NaN</td>\n",
              "      <td>NaN</td>\n",
              "      <td>NaN</td>\n",
              "      <td>NaN</td>\n",
              "      <td>NaN</td>\n",
              "      <td>NaN</td>\n",
              "      <td>NaN</td>\n",
              "      <td>NaN</td>\n",
              "      <td>NaN</td>\n",
              "      <td>NaN</td>\n",
              "      <td>1040.000000</td>\n",
              "      <td>NaN</td>\n",
              "      <td>NaN</td>\n",
              "      <td>NaN</td>\n",
              "      <td>NaN</td>\n",
              "      <td>NaN</td>\n",
              "      <td>0.444000</td>\n",
              "    </tr>\n",
              "    <tr>\n",
              "      <th>25%</th>\n",
              "      <td>2450.750000</td>\n",
              "      <td>NaN</td>\n",
              "      <td>NaN</td>\n",
              "      <td>NaN</td>\n",
              "      <td>NaN</td>\n",
              "      <td>NaN</td>\n",
              "      <td>NaN</td>\n",
              "      <td>NaN</td>\n",
              "      <td>NaN</td>\n",
              "      <td>NaN</td>\n",
              "      <td>NaN</td>\n",
              "      <td>23223.000000</td>\n",
              "      <td>NaN</td>\n",
              "      <td>NaN</td>\n",
              "      <td>NaN</td>\n",
              "      <td>NaN</td>\n",
              "      <td>NaN</td>\n",
              "      <td>17.248000</td>\n",
              "    </tr>\n",
              "    <tr>\n",
              "      <th>50%</th>\n",
              "      <td>4900.500000</td>\n",
              "      <td>NaN</td>\n",
              "      <td>NaN</td>\n",
              "      <td>NaN</td>\n",
              "      <td>NaN</td>\n",
              "      <td>NaN</td>\n",
              "      <td>NaN</td>\n",
              "      <td>NaN</td>\n",
              "      <td>NaN</td>\n",
              "      <td>NaN</td>\n",
              "      <td>NaN</td>\n",
              "      <td>58103.000000</td>\n",
              "      <td>NaN</td>\n",
              "      <td>NaN</td>\n",
              "      <td>NaN</td>\n",
              "      <td>NaN</td>\n",
              "      <td>NaN</td>\n",
              "      <td>54.490000</td>\n",
              "    </tr>\n",
              "    <tr>\n",
              "      <th>75%</th>\n",
              "      <td>7350.250000</td>\n",
              "      <td>NaN</td>\n",
              "      <td>NaN</td>\n",
              "      <td>NaN</td>\n",
              "      <td>NaN</td>\n",
              "      <td>NaN</td>\n",
              "      <td>NaN</td>\n",
              "      <td>NaN</td>\n",
              "      <td>NaN</td>\n",
              "      <td>NaN</td>\n",
              "      <td>NaN</td>\n",
              "      <td>90008.000000</td>\n",
              "      <td>NaN</td>\n",
              "      <td>NaN</td>\n",
              "      <td>NaN</td>\n",
              "      <td>NaN</td>\n",
              "      <td>NaN</td>\n",
              "      <td>210.605000</td>\n",
              "    </tr>\n",
              "    <tr>\n",
              "      <th>max</th>\n",
              "      <td>9800.000000</td>\n",
              "      <td>NaN</td>\n",
              "      <td>NaN</td>\n",
              "      <td>NaN</td>\n",
              "      <td>NaN</td>\n",
              "      <td>NaN</td>\n",
              "      <td>NaN</td>\n",
              "      <td>NaN</td>\n",
              "      <td>NaN</td>\n",
              "      <td>NaN</td>\n",
              "      <td>NaN</td>\n",
              "      <td>99301.000000</td>\n",
              "      <td>NaN</td>\n",
              "      <td>NaN</td>\n",
              "      <td>NaN</td>\n",
              "      <td>NaN</td>\n",
              "      <td>NaN</td>\n",
              "      <td>22638.480000</td>\n",
              "    </tr>\n",
              "  </tbody>\n",
              "</table>\n",
              "</div>\n",
              "    <div class=\"colab-df-buttons\">\n",
              "\n",
              "  <div class=\"colab-df-container\">\n",
              "    <button class=\"colab-df-convert\" onclick=\"convertToInteractive('df-a919a72f-ec3b-4f87-b936-c54764c115ed')\"\n",
              "            title=\"Convert this dataframe to an interactive table.\"\n",
              "            style=\"display:none;\">\n",
              "\n",
              "  <svg xmlns=\"http://www.w3.org/2000/svg\" height=\"24px\" viewBox=\"0 -960 960 960\">\n",
              "    <path d=\"M120-120v-720h720v720H120Zm60-500h600v-160H180v160Zm220 220h160v-160H400v160Zm0 220h160v-160H400v160ZM180-400h160v-160H180v160Zm440 0h160v-160H620v160ZM180-180h160v-160H180v160Zm440 0h160v-160H620v160Z\"/>\n",
              "  </svg>\n",
              "    </button>\n",
              "\n",
              "  <style>\n",
              "    .colab-df-container {\n",
              "      display:flex;\n",
              "      gap: 12px;\n",
              "    }\n",
              "\n",
              "    .colab-df-convert {\n",
              "      background-color: #E8F0FE;\n",
              "      border: none;\n",
              "      border-radius: 50%;\n",
              "      cursor: pointer;\n",
              "      display: none;\n",
              "      fill: #1967D2;\n",
              "      height: 32px;\n",
              "      padding: 0 0 0 0;\n",
              "      width: 32px;\n",
              "    }\n",
              "\n",
              "    .colab-df-convert:hover {\n",
              "      background-color: #E2EBFA;\n",
              "      box-shadow: 0px 1px 2px rgba(60, 64, 67, 0.3), 0px 1px 3px 1px rgba(60, 64, 67, 0.15);\n",
              "      fill: #174EA6;\n",
              "    }\n",
              "\n",
              "    .colab-df-buttons div {\n",
              "      margin-bottom: 4px;\n",
              "    }\n",
              "\n",
              "    [theme=dark] .colab-df-convert {\n",
              "      background-color: #3B4455;\n",
              "      fill: #D2E3FC;\n",
              "    }\n",
              "\n",
              "    [theme=dark] .colab-df-convert:hover {\n",
              "      background-color: #434B5C;\n",
              "      box-shadow: 0px 1px 3px 1px rgba(0, 0, 0, 0.15);\n",
              "      filter: drop-shadow(0px 1px 2px rgba(0, 0, 0, 0.3));\n",
              "      fill: #FFFFFF;\n",
              "    }\n",
              "  </style>\n",
              "\n",
              "    <script>\n",
              "      const buttonEl =\n",
              "        document.querySelector('#df-a919a72f-ec3b-4f87-b936-c54764c115ed button.colab-df-convert');\n",
              "      buttonEl.style.display =\n",
              "        google.colab.kernel.accessAllowed ? 'block' : 'none';\n",
              "\n",
              "      async function convertToInteractive(key) {\n",
              "        const element = document.querySelector('#df-a919a72f-ec3b-4f87-b936-c54764c115ed');\n",
              "        const dataTable =\n",
              "          await google.colab.kernel.invokeFunction('convertToInteractive',\n",
              "                                                    [key], {});\n",
              "        if (!dataTable) return;\n",
              "\n",
              "        const docLinkHtml = 'Like what you see? Visit the ' +\n",
              "          '<a target=\"_blank\" href=https://colab.research.google.com/notebooks/data_table.ipynb>data table notebook</a>'\n",
              "          + ' to learn more about interactive tables.';\n",
              "        element.innerHTML = '';\n",
              "        dataTable['output_type'] = 'display_data';\n",
              "        await google.colab.output.renderOutput(dataTable, element);\n",
              "        const docLink = document.createElement('div');\n",
              "        docLink.innerHTML = docLinkHtml;\n",
              "        element.appendChild(docLink);\n",
              "      }\n",
              "    </script>\n",
              "  </div>\n",
              "\n",
              "\n",
              "<div id=\"df-6d419876-155c-4926-bcca-9b15a414b71e\">\n",
              "  <button class=\"colab-df-quickchart\" onclick=\"quickchart('df-6d419876-155c-4926-bcca-9b15a414b71e')\"\n",
              "            title=\"Suggest charts\"\n",
              "            style=\"display:none;\">\n",
              "\n",
              "<svg xmlns=\"http://www.w3.org/2000/svg\" height=\"24px\"viewBox=\"0 0 24 24\"\n",
              "     width=\"24px\">\n",
              "    <g>\n",
              "        <path d=\"M19 3H5c-1.1 0-2 .9-2 2v14c0 1.1.9 2 2 2h14c1.1 0 2-.9 2-2V5c0-1.1-.9-2-2-2zM9 17H7v-7h2v7zm4 0h-2V7h2v10zm4 0h-2v-4h2v4z\"/>\n",
              "    </g>\n",
              "</svg>\n",
              "  </button>\n",
              "\n",
              "<style>\n",
              "  .colab-df-quickchart {\n",
              "      --bg-color: #E8F0FE;\n",
              "      --fill-color: #1967D2;\n",
              "      --hover-bg-color: #E2EBFA;\n",
              "      --hover-fill-color: #174EA6;\n",
              "      --disabled-fill-color: #AAA;\n",
              "      --disabled-bg-color: #DDD;\n",
              "  }\n",
              "\n",
              "  [theme=dark] .colab-df-quickchart {\n",
              "      --bg-color: #3B4455;\n",
              "      --fill-color: #D2E3FC;\n",
              "      --hover-bg-color: #434B5C;\n",
              "      --hover-fill-color: #FFFFFF;\n",
              "      --disabled-bg-color: #3B4455;\n",
              "      --disabled-fill-color: #666;\n",
              "  }\n",
              "\n",
              "  .colab-df-quickchart {\n",
              "    background-color: var(--bg-color);\n",
              "    border: none;\n",
              "    border-radius: 50%;\n",
              "    cursor: pointer;\n",
              "    display: none;\n",
              "    fill: var(--fill-color);\n",
              "    height: 32px;\n",
              "    padding: 0;\n",
              "    width: 32px;\n",
              "  }\n",
              "\n",
              "  .colab-df-quickchart:hover {\n",
              "    background-color: var(--hover-bg-color);\n",
              "    box-shadow: 0 1px 2px rgba(60, 64, 67, 0.3), 0 1px 3px 1px rgba(60, 64, 67, 0.15);\n",
              "    fill: var(--button-hover-fill-color);\n",
              "  }\n",
              "\n",
              "  .colab-df-quickchart-complete:disabled,\n",
              "  .colab-df-quickchart-complete:disabled:hover {\n",
              "    background-color: var(--disabled-bg-color);\n",
              "    fill: var(--disabled-fill-color);\n",
              "    box-shadow: none;\n",
              "  }\n",
              "\n",
              "  .colab-df-spinner {\n",
              "    border: 2px solid var(--fill-color);\n",
              "    border-color: transparent;\n",
              "    border-bottom-color: var(--fill-color);\n",
              "    animation:\n",
              "      spin 1s steps(1) infinite;\n",
              "  }\n",
              "\n",
              "  @keyframes spin {\n",
              "    0% {\n",
              "      border-color: transparent;\n",
              "      border-bottom-color: var(--fill-color);\n",
              "      border-left-color: var(--fill-color);\n",
              "    }\n",
              "    20% {\n",
              "      border-color: transparent;\n",
              "      border-left-color: var(--fill-color);\n",
              "      border-top-color: var(--fill-color);\n",
              "    }\n",
              "    30% {\n",
              "      border-color: transparent;\n",
              "      border-left-color: var(--fill-color);\n",
              "      border-top-color: var(--fill-color);\n",
              "      border-right-color: var(--fill-color);\n",
              "    }\n",
              "    40% {\n",
              "      border-color: transparent;\n",
              "      border-right-color: var(--fill-color);\n",
              "      border-top-color: var(--fill-color);\n",
              "    }\n",
              "    60% {\n",
              "      border-color: transparent;\n",
              "      border-right-color: var(--fill-color);\n",
              "    }\n",
              "    80% {\n",
              "      border-color: transparent;\n",
              "      border-right-color: var(--fill-color);\n",
              "      border-bottom-color: var(--fill-color);\n",
              "    }\n",
              "    90% {\n",
              "      border-color: transparent;\n",
              "      border-bottom-color: var(--fill-color);\n",
              "    }\n",
              "  }\n",
              "</style>\n",
              "\n",
              "  <script>\n",
              "    async function quickchart(key) {\n",
              "      const quickchartButtonEl =\n",
              "        document.querySelector('#' + key + ' button');\n",
              "      quickchartButtonEl.disabled = true;  // To prevent multiple clicks.\n",
              "      quickchartButtonEl.classList.add('colab-df-spinner');\n",
              "      try {\n",
              "        const charts = await google.colab.kernel.invokeFunction(\n",
              "            'suggestCharts', [key], {});\n",
              "      } catch (error) {\n",
              "        console.error('Error during call to suggestCharts:', error);\n",
              "      }\n",
              "      quickchartButtonEl.classList.remove('colab-df-spinner');\n",
              "      quickchartButtonEl.classList.add('colab-df-quickchart-complete');\n",
              "    }\n",
              "    (() => {\n",
              "      let quickchartButtonEl =\n",
              "        document.querySelector('#df-6d419876-155c-4926-bcca-9b15a414b71e button');\n",
              "      quickchartButtonEl.style.display =\n",
              "        google.colab.kernel.accessAllowed ? 'block' : 'none';\n",
              "    })();\n",
              "  </script>\n",
              "</div>\n",
              "\n",
              "    </div>\n",
              "  </div>\n"
            ],
            "application/vnd.google.colaboratory.intrinsic+json": {
              "type": "dataframe",
              "summary": "{\n  \"name\": \"df\",\n  \"rows\": 11,\n  \"fields\": [\n    {\n      \"column\": \"Row ID\",\n      \"properties\": {\n        \"dtype\": \"number\",\n        \"std\": 3531.662618997046,\n        \"min\": 1.0,\n        \"max\": 9800.0,\n        \"num_unique_values\": 6,\n        \"samples\": [\n          9800.0,\n          4900.5,\n          7350.25\n        ],\n        \"semantic_type\": \"\",\n        \"description\": \"\"\n      }\n    },\n    {\n      \"column\": \"Order ID\",\n      \"properties\": {\n        \"dtype\": \"category\",\n        \"num_unique_values\": 4,\n        \"samples\": [\n          4922,\n          \"14\",\n          \"9800\"\n        ],\n        \"semantic_type\": \"\",\n        \"description\": \"\"\n      }\n    },\n    {\n      \"column\": \"Order Date\",\n      \"properties\": {\n        \"dtype\": \"date\",\n        \"min\": \"1970-01-01 00:00:00.000000038\",\n        \"max\": \"2017-05-09 00:00:00\",\n        \"num_unique_values\": 4,\n        \"samples\": [\n          1230,\n          \"38\",\n          \"9800\"\n        ],\n        \"semantic_type\": \"\",\n        \"description\": \"\"\n      }\n    },\n    {\n      \"column\": \"Ship Date\",\n      \"properties\": {\n        \"dtype\": \"date\",\n        \"min\": \"1970-01-01 00:00:00.000000034\",\n        \"max\": \"2018-09-26 00:00:00\",\n        \"num_unique_values\": 4,\n        \"samples\": [\n          1326,\n          \"34\",\n          \"9800\"\n        ],\n        \"semantic_type\": \"\",\n        \"description\": \"\"\n      }\n    },\n    {\n      \"column\": \"Ship Mode\",\n      \"properties\": {\n        \"dtype\": \"category\",\n        \"num_unique_values\": 4,\n        \"samples\": [\n          4,\n          \"5859\",\n          \"9800\"\n        ],\n        \"semantic_type\": \"\",\n        \"description\": \"\"\n      }\n    },\n    {\n      \"column\": \"Customer ID\",\n      \"properties\": {\n        \"dtype\": \"category\",\n        \"num_unique_values\": 4,\n        \"samples\": [\n          793,\n          \"35\",\n          \"9800\"\n        ],\n        \"semantic_type\": \"\",\n        \"description\": \"\"\n      }\n    },\n    {\n      \"column\": \"Customer Name\",\n      \"properties\": {\n        \"dtype\": \"category\",\n        \"num_unique_values\": 4,\n        \"samples\": [\n          793,\n          \"35\",\n          \"9800\"\n        ],\n        \"semantic_type\": \"\",\n        \"description\": \"\"\n      }\n    },\n    {\n      \"column\": \"Segment\",\n      \"properties\": {\n        \"dtype\": \"category\",\n        \"num_unique_values\": 4,\n        \"samples\": [\n          3,\n          \"5101\",\n          \"9800\"\n        ],\n        \"semantic_type\": \"\",\n        \"description\": \"\"\n      }\n    },\n    {\n      \"column\": \"Country\",\n      \"properties\": {\n        \"dtype\": \"category\",\n        \"num_unique_values\": 3,\n        \"samples\": [\n          \"9800\",\n          1,\n          \"United States\"\n        ],\n        \"semantic_type\": \"\",\n        \"description\": \"\"\n      }\n    },\n    {\n      \"column\": \"City\",\n      \"properties\": {\n        \"dtype\": \"category\",\n        \"num_unique_values\": 4,\n        \"samples\": [\n          529,\n          \"891\",\n          \"9800\"\n        ],\n        \"semantic_type\": \"\",\n        \"description\": \"\"\n      }\n    },\n    {\n      \"column\": \"State\",\n      \"properties\": {\n        \"dtype\": \"category\",\n        \"num_unique_values\": 4,\n        \"samples\": [\n          49,\n          \"1946\",\n          \"9800\"\n        ],\n        \"semantic_type\": \"\",\n        \"description\": \"\"\n      }\n    },\n    {\n      \"column\": \"Postal Code\",\n      \"properties\": {\n        \"dtype\": \"number\",\n        \"std\": 35968.99321339541,\n        \"min\": 1040.0,\n        \"max\": 99301.0,\n        \"num_unique_values\": 8,\n        \"samples\": [\n          55273.322402696904,\n          58103.0,\n          9789.0\n        ],\n        \"semantic_type\": \"\",\n        \"description\": \"\"\n      }\n    },\n    {\n      \"column\": \"Region\",\n      \"properties\": {\n        \"dtype\": \"category\",\n        \"num_unique_values\": 4,\n        \"samples\": [\n          4,\n          \"3140\",\n          \"9800\"\n        ],\n        \"semantic_type\": \"\",\n        \"description\": \"\"\n      }\n    },\n    {\n      \"column\": \"Product ID\",\n      \"properties\": {\n        \"dtype\": \"category\",\n        \"num_unique_values\": 4,\n        \"samples\": [\n          1861,\n          \"19\",\n          \"9800\"\n        ],\n        \"semantic_type\": \"\",\n        \"description\": \"\"\n      }\n    },\n    {\n      \"column\": \"Category\",\n      \"properties\": {\n        \"dtype\": \"category\",\n        \"num_unique_values\": 4,\n        \"samples\": [\n          3,\n          \"5909\",\n          \"9800\"\n        ],\n        \"semantic_type\": \"\",\n        \"description\": \"\"\n      }\n    },\n    {\n      \"column\": \"Sub-Category\",\n      \"properties\": {\n        \"dtype\": \"category\",\n        \"num_unique_values\": 4,\n        \"samples\": [\n          17,\n          \"1492\",\n          \"9800\"\n        ],\n        \"semantic_type\": \"\",\n        \"description\": \"\"\n      }\n    },\n    {\n      \"column\": \"Product Name\",\n      \"properties\": {\n        \"dtype\": \"category\",\n        \"num_unique_values\": 4,\n        \"samples\": [\n          1849,\n          \"47\",\n          \"9800\"\n        ],\n        \"semantic_type\": \"\",\n        \"description\": \"\"\n      }\n    },\n    {\n      \"column\": \"Sales\",\n      \"properties\": {\n        \"dtype\": \"number\",\n        \"std\": 8177.4368105571575,\n        \"min\": 0.444,\n        \"max\": 22638.48,\n        \"num_unique_values\": 8,\n        \"samples\": [\n          230.7690594591837,\n          54.489999999999995,\n          9800.0\n        ],\n        \"semantic_type\": \"\",\n        \"description\": \"\"\n      }\n    }\n  ]\n}"
            }
          },
          "metadata": {},
          "execution_count": 53
        }
      ]
    },
    {
      "cell_type": "code",
      "source": [
        "print(df['Category'].value_counts())\n",
        "#print(df['Sub-Category'].value_counts())"
      ],
      "metadata": {
        "colab": {
          "base_uri": "https://localhost:8080/"
        },
        "id": "5o3WKUSir10w",
        "outputId": "b370aa40-fe3d-4870-f8c5-8e9be3355f25"
      },
      "execution_count": null,
      "outputs": [
        {
          "output_type": "stream",
          "name": "stdout",
          "text": [
            "Category\n",
            "Office Supplies    5909\n",
            "Furniture          2078\n",
            "Technology         1813\n",
            "Name: count, dtype: int64\n"
          ]
        }
      ]
    },
    {
      "cell_type": "markdown",
      "metadata": {
        "id": "4fmitrVjqa-N"
      },
      "source": [
        "## Check for Missing Values"
      ]
    },
    {
      "cell_type": "code",
      "execution_count": null,
      "metadata": {
        "colab": {
          "base_uri": "https://localhost:8080/",
          "height": 648
        },
        "id": "dOzs3Ie-qcRe",
        "outputId": "8c89c6b3-feaf-42ee-b948-166eaf49952b"
      },
      "outputs": [
        {
          "output_type": "execute_result",
          "data": {
            "text/plain": [
              "Row ID            0\n",
              "Order ID          0\n",
              "Order Date        0\n",
              "Ship Date         0\n",
              "Ship Mode         0\n",
              "Customer ID       0\n",
              "Customer Name     0\n",
              "Segment           0\n",
              "Country           0\n",
              "City              0\n",
              "State             0\n",
              "Postal Code      11\n",
              "Region            0\n",
              "Product ID        0\n",
              "Category          0\n",
              "Sub-Category      0\n",
              "Product Name      0\n",
              "Sales             0\n",
              "dtype: int64"
            ],
            "text/html": [
              "<div>\n",
              "<style scoped>\n",
              "    .dataframe tbody tr th:only-of-type {\n",
              "        vertical-align: middle;\n",
              "    }\n",
              "\n",
              "    .dataframe tbody tr th {\n",
              "        vertical-align: top;\n",
              "    }\n",
              "\n",
              "    .dataframe thead th {\n",
              "        text-align: right;\n",
              "    }\n",
              "</style>\n",
              "<table border=\"1\" class=\"dataframe\">\n",
              "  <thead>\n",
              "    <tr style=\"text-align: right;\">\n",
              "      <th></th>\n",
              "      <th>0</th>\n",
              "    </tr>\n",
              "  </thead>\n",
              "  <tbody>\n",
              "    <tr>\n",
              "      <th>Row ID</th>\n",
              "      <td>0</td>\n",
              "    </tr>\n",
              "    <tr>\n",
              "      <th>Order ID</th>\n",
              "      <td>0</td>\n",
              "    </tr>\n",
              "    <tr>\n",
              "      <th>Order Date</th>\n",
              "      <td>0</td>\n",
              "    </tr>\n",
              "    <tr>\n",
              "      <th>Ship Date</th>\n",
              "      <td>0</td>\n",
              "    </tr>\n",
              "    <tr>\n",
              "      <th>Ship Mode</th>\n",
              "      <td>0</td>\n",
              "    </tr>\n",
              "    <tr>\n",
              "      <th>Customer ID</th>\n",
              "      <td>0</td>\n",
              "    </tr>\n",
              "    <tr>\n",
              "      <th>Customer Name</th>\n",
              "      <td>0</td>\n",
              "    </tr>\n",
              "    <tr>\n",
              "      <th>Segment</th>\n",
              "      <td>0</td>\n",
              "    </tr>\n",
              "    <tr>\n",
              "      <th>Country</th>\n",
              "      <td>0</td>\n",
              "    </tr>\n",
              "    <tr>\n",
              "      <th>City</th>\n",
              "      <td>0</td>\n",
              "    </tr>\n",
              "    <tr>\n",
              "      <th>State</th>\n",
              "      <td>0</td>\n",
              "    </tr>\n",
              "    <tr>\n",
              "      <th>Postal Code</th>\n",
              "      <td>11</td>\n",
              "    </tr>\n",
              "    <tr>\n",
              "      <th>Region</th>\n",
              "      <td>0</td>\n",
              "    </tr>\n",
              "    <tr>\n",
              "      <th>Product ID</th>\n",
              "      <td>0</td>\n",
              "    </tr>\n",
              "    <tr>\n",
              "      <th>Category</th>\n",
              "      <td>0</td>\n",
              "    </tr>\n",
              "    <tr>\n",
              "      <th>Sub-Category</th>\n",
              "      <td>0</td>\n",
              "    </tr>\n",
              "    <tr>\n",
              "      <th>Product Name</th>\n",
              "      <td>0</td>\n",
              "    </tr>\n",
              "    <tr>\n",
              "      <th>Sales</th>\n",
              "      <td>0</td>\n",
              "    </tr>\n",
              "  </tbody>\n",
              "</table>\n",
              "</div><br><label><b>dtype:</b> int64</label>"
            ]
          },
          "metadata": {},
          "execution_count": 55
        }
      ],
      "source": [
        "missing_values = df.isnull().sum()\n",
        "missing_values"
      ]
    },
    {
      "cell_type": "markdown",
      "source": [
        "##Check for Outliers"
      ],
      "metadata": {
        "id": "qmcLalruDQuB"
      }
    },
    {
      "cell_type": "code",
      "source": [
        "plt.figure(figsize=(10, 6))\n",
        "sns.boxplot(x='Category', y='Sales', data=df)\n",
        "plt.title('Box Plot of Sales by Sub-Category')\n",
        "plt.xlabel('Category')\n",
        "plt.ylabel('Sales')\n",
        "plt.show()"
      ],
      "metadata": {
        "colab": {
          "base_uri": "https://localhost:8080/",
          "height": 564
        },
        "id": "ex_nt_QGHzsV",
        "outputId": "49bfd848-8c2e-4393-9626-76acaa81fc02"
      },
      "execution_count": null,
      "outputs": [
        {
          "output_type": "display_data",
          "data": {
            "text/plain": [
              "<Figure size 1000x600 with 1 Axes>"
            ],
            "image/png": "[encoded data removed]"
          },
          "metadata": {}
        }
      ]
    },
    {
      "cell_type": "code",
      "source": [
        "plt.figure(figsize=(10, 6))\n",
        "sns.boxplot(x='Sub-Category', y='Sales', data=df)\n",
        "plt.title('Box Plot of Sales by Sub-Category')\n",
        "plt.xlabel('Sub-Category')\n",
        "plt.ylabel('Sales')\n",
        "plt.xticks(rotation=90)\n",
        "plt.show()"
      ],
      "metadata": {
        "colab": {
          "base_uri": "https://localhost:8080/",
          "height": 631
        },
        "id": "ZUL3UFRvDdxP",
        "outputId": "2e9abac7-35c0-42db-fc32-9b61e11a17f4"
      },
      "execution_count": null,
      "outputs": [
        {
          "output_type": "display_data",
          "data": {
            "text/plain": [
              "<Figure size 1000x600 with 1 Axes>"
            ],
            "image/png": "[encoded data removed]"
          },
          "metadata": {}
        }
      ]
    },
    {
      "cell_type": "markdown",
      "source": [
        "##Basic Analytic"
      ],
      "metadata": {
        "id": "eW8o36oStuh7"
      }
    },
    {
      "cell_type": "markdown",
      "source": [
        "###Customer Segmentation Analysis"
      ],
      "metadata": {
        "id": "iJg7ZJesuAQL"
      }
    },
    {
      "cell_type": "code",
      "source": [
        "df.columns"
      ],
      "metadata": {
        "colab": {
          "base_uri": "https://localhost:8080/"
        },
        "id": "_Zl4iyH3uKsS",
        "outputId": "d6334b9d-73ec-44a4-ba34-f47110d1170b"
      },
      "execution_count": null,
      "outputs": [
        {
          "output_type": "execute_result",
          "data": {
            "text/plain": [
              "Index(['Row ID', 'Order ID', 'Order Date', 'Ship Date', 'Ship Mode',\n",
              "       'Customer ID', 'Customer Name', 'Segment', 'Country', 'City', 'State',\n",
              "       'Postal Code', 'Region', 'Product ID', 'Category', 'Sub-Category',\n",
              "       'Product Name', 'Sales'],\n",
              "      dtype='object')"
            ]
          },
          "metadata": {},
          "execution_count": 58
        }
      ]
    },
    {
      "cell_type": "code",
      "source": [
        "features = df[['Segment','Country','City','State','Sales']]\n",
        "top_10_sales = features.nlargest(10, 'Sales')\n",
        "print('Top 10 Sales Revenue')\n",
        "print(top_10_sales[['Segment','Country','City','State','Sales']])"
      ],
      "metadata": {
        "colab": {
          "base_uri": "https://localhost:8080/"
        },
        "id": "_lWkjB3KuJ8a",
        "outputId": "f13ae2c1-3dc1-43eb-f2c3-54949d5a29b8"
      },
      "execution_count": null,
      "outputs": [
        {
          "output_type": "stream",
          "name": "stdout",
          "text": [
            "Top 10 Sales Revenue\n",
            "          Segment        Country           City         State      Sales\n",
            "2697  Home Office  United States   Jacksonville       Florida  22638.480\n",
            "6826    Corporate  United States      Lafayette       Indiana  17499.950\n",
            "8153     Consumer  United States        Seattle    Washington  13999.960\n",
            "2623  Home Office  United States  New York City      New York  11199.968\n",
            "4190     Consumer  United States         Newark      Delaware  10499.970\n",
            "9039     Consumer  United States        Detroit      Michigan   9892.740\n",
            "4098     Consumer  United States    Minneapolis     Minnesota   9449.950\n",
            "4277    Corporate  United States       Lakewood    New Jersey   9099.930\n",
            "8488     Consumer  United States      Arlington      Virginia   8749.950\n",
            "6425     Consumer  United States   Philadelphia  Pennsylvania   8399.976\n"
          ]
        }
      ]
    },
    {
      "cell_type": "code",
      "source": [
        "segment_sales = df.groupby('Segment')['Sales'].sum().sort_values(ascending=False)\n",
        "plt.figure(figsize=(20,6))\n",
        "plt.subplot(1,3,1)\n",
        "plt.subplot(1,3,1)\n",
        "segment_sales.plot(kind='bar',color='green')\n",
        "plt.title('Sales by Segment')\n",
        "plt.xlabel('Segment')\n",
        "plt.ylabel('Total Sales')\n",
        "plt.show()"
      ],
      "metadata": {
        "colab": {
          "base_uri": "https://localhost:8080/",
          "height": 636
        },
        "id": "JWBMJ9GpuPl2",
        "outputId": "1ec353d0-ba35-4d3e-8fa6-2ed92f48e329"
      },
      "execution_count": null,
      "outputs": [
        {
          "output_type": "display_data",
          "data": {
            "text/plain": [
              "<Figure size 2000x600 with 1 Axes>"
            ],
            "image/png": "[encoded data removed]"
          },
          "metadata": {}
        }
      ]
    },
    {
      "cell_type": "code",
      "source": [
        "segment_sales = df.groupby('City')['Sales'].sum().sort_values(ascending=False).head(5)\n",
        "plt.figure(figsize=(20,6))\n",
        "plt.subplot(1,3,2)\n",
        "segment_sales.plot(kind='bar',color='purple')\n",
        "plt.title('Top 5 Cities Based on Sales')\n",
        "plt.xlabel('City')\n",
        "plt.ylabel('Total Sales')\n",
        "plt.show()"
      ],
      "metadata": {
        "colab": {
          "base_uri": "https://localhost:8080/",
          "height": 645
        },
        "id": "YKhSf7B-uS6f",
        "outputId": "74623121-e8d8-4e0c-cf5f-136cf783ebe6"
      },
      "execution_count": null,
      "outputs": [
        {
          "output_type": "display_data",
          "data": {
            "text/plain": [
              "<Figure size 2000x600 with 1 Axes>"
            ],
            "image/png": "[encoded data removed]"
          },
          "metadata": {}
        }
      ]
    },
    {
      "cell_type": "code",
      "source": [
        "segment_sales = df.groupby('State')['Sales'].sum().sort_values(ascending=False).head(5)\n",
        "plt.figure(figsize=(20,6))\n",
        "plt.subplot(1,3,3)\n",
        "segment_sales.plot(kind='bar',color='lightgreen')\n",
        "plt.title('Top 5 States Based on Sales')\n",
        "plt.xlabel('State')\n",
        "plt.ylabel('Total Sales')\n",
        "plt.show()"
      ],
      "metadata": {
        "colab": {
          "base_uri": "https://localhost:8080/",
          "height": 641
        },
        "id": "rfl6DjZ2ueOy",
        "outputId": "e8750192-2efe-441a-d958-010d3314b138"
      },
      "execution_count": null,
      "outputs": [
        {
          "output_type": "display_data",
          "data": {
            "text/plain": [
              "<Figure size 2000x600 with 1 Axes>"
            ],
            "image/png": "[encoded data removed]"
          },
          "metadata": {}
        }
      ]
    },
    {
      "cell_type": "code",
      "source": [
        "heatmap_data = df.pivot_table(index='Segment', columns='Category', values='Sales', aggfunc='sum')\n",
        "plt.figure(figsize=(10,6))\n",
        "sns.heatmap(heatmap_data, annot=True, cmap='viridis', fmt='.0f', cbar_kws={'label':'Total Sales'})\n",
        "plt.title(\"Segment Sales by Product Category\")\n",
        "plt.show()"
      ],
      "metadata": {
        "colab": {
          "base_uri": "https://localhost:8080/",
          "height": 564
        },
        "id": "CY1hE547ukAU",
        "outputId": "ace7d79f-1592-4174-bd13-901544628e97"
      },
      "execution_count": null,
      "outputs": [
        {
          "output_type": "display_data",
          "data": {
            "text/plain": [
              "<Figure size 1000x600 with 2 Axes>"
            ],
            "image/png": "[encoded data removed]"
          },
          "metadata": {}
        }
      ]
    },
    {
      "cell_type": "markdown",
      "source": [
        "###Analyzing Order Fulfilment Efficiency"
      ],
      "metadata": {
        "id": "Lj-9QCj-usYz"
      }
    },
    {
      "cell_type": "code",
      "source": [
        "# converting into datetime object\n",
        "df['Order Date'] = pd.to_datetime(df['Order Date'], format='%d/%m/%Y')\n",
        "df['Ship Date'] = pd.to_datetime(df['Ship Date'], format='%d/%m/%Y')\n",
        "df['Processing Time'] = (df['Ship Date']- df['Order Date']).dt.days\n",
        "median_processing_time =df.groupby('Sub-Category')['Processing Time'].median().sort_values()\n",
        "print('Median Processing Time for each Product Sub-Category (days)')\n",
        "print(median_processing_time)"
      ],
      "metadata": {
        "colab": {
          "base_uri": "https://localhost:8080/"
        },
        "id": "pBCh5NvKuuGn",
        "outputId": "1c85f7f1-88f9-4f70-d872-07d5a2185de4"
      },
      "execution_count": null,
      "outputs": [
        {
          "output_type": "stream",
          "name": "stdout",
          "text": [
            "Median Processing Time for each Product Sub-Category (days)\n",
            "Sub-Category\n",
            "Accessories    4.0\n",
            "Storage        4.0\n",
            "Phones         4.0\n",
            "Paper          4.0\n",
            "Machines       4.0\n",
            "Labels         4.0\n",
            "Furnishings    4.0\n",
            "Supplies       4.0\n",
            "Fasteners      4.0\n",
            "Copiers        4.0\n",
            "Chairs         4.0\n",
            "Bookcases      4.0\n",
            "Binders        4.0\n",
            "Art            4.0\n",
            "Appliances     4.0\n",
            "Envelopes      4.0\n",
            "Tables         4.0\n",
            "Name: Processing Time, dtype: float64\n"
          ]
        }
      ]
    },
    {
      "cell_type": "markdown",
      "source": [
        "###Analyzing Sales Performance Trend"
      ],
      "metadata": {
        "id": "90KmirD4vU69"
      }
    },
    {
      "cell_type": "code",
      "source": [
        "# converting into datetime format\n",
        "df['Order Date']= pd.to_datetime(df['Order Date'])\n",
        "df['Year'] = df['Order Date'].dt.year"
      ],
      "metadata": {
        "id": "cU4RAGhyvcn5"
      },
      "execution_count": null,
      "outputs": []
    },
    {
      "cell_type": "code",
      "source": [
        "highest_selling_product = df.groupby(['Year', 'Category', 'Sub-Category'])['Sales'].sum().reset_index()\n",
        "\n",
        "# Find the index of the row with the highest sales in each year\n",
        "idx = highest_selling_product.groupby('Year')['Sales'].idxmax()\n",
        "\n",
        "# Select the corresponding rows\n",
        "highest_selling_product = highest_selling_product.loc[idx]\n",
        "\n",
        "print('Best Performance Product Category and Sub Category for Each Year')\n",
        "print(highest_selling_product[['Year', 'Category', 'Sub-Category', 'Sales']])"
      ],
      "metadata": {
        "colab": {
          "base_uri": "https://localhost:8080/"
        },
        "id": "iIkUQLiVv0iC",
        "outputId": "c555075a-060c-4a16-e0e0-5e958bb2a72e"
      },
      "execution_count": null,
      "outputs": [
        {
          "output_type": "stream",
          "name": "stdout",
          "text": [
            "Best Performance Product Category and Sub Category for Each Year\n",
            "    Year    Category Sub-Category       Sales\n",
            "16  2015  Technology       Phones   77225.956\n",
            "18  2016   Furniture       Chairs   70654.673\n",
            "35  2017   Furniture       Chairs   81930.345\n",
            "67  2018  Technology       Phones  104685.658\n"
          ]
        }
      ]
    },
    {
      "cell_type": "code",
      "source": [
        "plt.figure(figsize=(12, 6))\n",
        "sns.barplot(x='Year', y='Sales', hue='Sub-Category', data=highest_selling_product)\n",
        "plt.title('Best Performing Product Sub Category for Each Year')\n",
        "plt.xlabel('Product Sub-Category')\n",
        "plt.ylabel('Sales Revenue')\n",
        "plt.legend(loc='upper left', bbox_to_anchor=(1, 1))\n",
        "plt.show()"
      ],
      "metadata": {
        "colab": {
          "base_uri": "https://localhost:8080/",
          "height": 552
        },
        "id": "l4YMGw9jv26R",
        "outputId": "d9ba89bf-70c6-4d12-c307-186efbe3cdc7"
      },
      "execution_count": null,
      "outputs": [
        {
          "output_type": "display_data",
          "data": {
            "text/plain": [
              "<Figure size 1200x600 with 1 Axes>"
            ],
            "image/png": "[encoded data removed]"
          },
          "metadata": {}
        }
      ]
    },
    {
      "cell_type": "markdown",
      "source": [
        "##Main Analytic"
      ],
      "metadata": {
        "id": "-phaOG3Jxutt"
      }
    },
    {
      "cell_type": "markdown",
      "source": [
        "\n",
        "###Analysis of Sales Performance by Category Across Different Years"
      ],
      "metadata": {
        "id": "q5cUcUBJwvHf"
      }
    },
    {
      "cell_type": "code",
      "source": [
        "df.head()"
      ],
      "metadata": {
        "colab": {
          "base_uri": "https://localhost:8080/",
          "height": 556
        },
        "id": "MQ0wQqkyxhRB",
        "outputId": "b6fd4a99-611e-4ac6-a265-8202b461930c"
      },
      "execution_count": null,
      "outputs": [
        {
          "output_type": "execute_result",
          "data": {
            "text/plain": [
              "   Row ID        Order ID Order Date  Ship Date       Ship Mode Customer ID  \\\n",
              "0       1  CA-2017-152156 2017-11-08 2017-11-11    Second Class    CG-12520   \n",
              "1       2  CA-2017-152156 2017-11-08 2017-11-11    Second Class    CG-12520   \n",
              "2       3  CA-2017-138688 2017-06-12 2017-06-16    Second Class    DV-13045   \n",
              "3       4  US-2016-108966 2016-10-11 2016-10-18  Standard Class    SO-20335   \n",
              "4       5  US-2016-108966 2016-10-11 2016-10-18  Standard Class    SO-20335   \n",
              "\n",
              "     Customer Name    Segment        Country             City       State  \\\n",
              "0      Claire Gute   Consumer  United States        Henderson    Kentucky   \n",
              "1      Claire Gute   Consumer  United States        Henderson    Kentucky   \n",
              "2  Darrin Van Huff  Corporate  United States      Los Angeles  California   \n",
              "3   Sean O'Donnell   Consumer  United States  Fort Lauderdale     Florida   \n",
              "4   Sean O'Donnell   Consumer  United States  Fort Lauderdale     Florida   \n",
              "\n",
              "   Postal Code Region       Product ID         Category Sub-Category  \\\n",
              "0      42420.0  South  FUR-BO-10001798        Furniture    Bookcases   \n",
              "1      42420.0  South  FUR-CH-10000454        Furniture       Chairs   \n",
              "2      90036.0   West  OFF-LA-10000240  Office Supplies       Labels   \n",
              "3      33311.0  South  FUR-TA-10000577        Furniture       Tables   \n",
              "4      33311.0  South  OFF-ST-10000760  Office Supplies      Storage   \n",
              "\n",
              "                                        Product Name     Sales  \\\n",
              "0                  Bush Somerset Collection Bookcase  261.9600   \n",
              "1  Hon Deluxe Fabric Upholstered Stacking Chairs,...  731.9400   \n",
              "2  Self-Adhesive Address Labels for Typewriters b...   14.6200   \n",
              "3      Bretford CR4500 Series Slim Rectangular Table  957.5775   \n",
              "4                     Eldon Fold 'N Roll Cart System   22.3680   \n",
              "\n",
              "   Processing Time  Year  \n",
              "0                3  2017  \n",
              "1                3  2017  \n",
              "2                4  2017  \n",
              "3                7  2016  \n",
              "4                7  2016  "
            ],
            "text/html": [
              "\n",
              "  <div id=\"df-a2b6a5a8-3337-41ac-b7b3-50756ee7a785\" class=\"colab-df-container\">\n",
              "    <div>\n",
              "<style scoped>\n",
              "    .dataframe tbody tr th:only-of-type {\n",
              "        vertical-align: middle;\n",
              "    }\n",
              "\n",
              "    .dataframe tbody tr th {\n",
              "        vertical-align: top;\n",
              "    }\n",
              "\n",
              "    .dataframe thead th {\n",
              "        text-align: right;\n",
              "    }\n",
              "</style>\n",
              "<table border=\"1\" class=\"dataframe\">\n",
              "  <thead>\n",
              "    <tr style=\"text-align: right;\">\n",
              "      <th></th>\n",
              "      <th>Row ID</th>\n",
              "      <th>Order ID</th>\n",
              "      <th>Order Date</th>\n",
              "      <th>Ship Date</th>\n",
              "      <th>Ship Mode</th>\n",
              "      <th>Customer ID</th>\n",
              "      <th>Customer Name</th>\n",
              "      <th>Segment</th>\n",
              "      <th>Country</th>\n",
              "      <th>City</th>\n",
              "      <th>State</th>\n",
              "      <th>Postal Code</th>\n",
              "      <th>Region</th>\n",
              "      <th>Product ID</th>\n",
              "      <th>Category</th>\n",
              "      <th>Sub-Category</th>\n",
              "      <th>Product Name</th>\n",
              "      <th>Sales</th>\n",
              "      <th>Processing Time</th>\n",
              "      <th>Year</th>\n",
              "    </tr>\n",
              "  </thead>\n",
              "  <tbody>\n",
              "    <tr>\n",
              "      <th>0</th>\n",
              "      <td>1</td>\n",
              "      <td>CA-2017-152156</td>\n",
              "      <td>2017-11-08</td>\n",
              "      <td>2017-11-11</td>\n",
              "      <td>Second Class</td>\n",
              "      <td>CG-12520</td>\n",
              "      <td>Claire Gute</td>\n",
              "      <td>Consumer</td>\n",
              "      <td>United States</td>\n",
              "      <td>Henderson</td>\n",
              "      <td>Kentucky</td>\n",
              "      <td>42420.0</td>\n",
              "      <td>South</td>\n",
              "      <td>FUR-BO-10001798</td>\n",
              "      <td>Furniture</td>\n",
              "      <td>Bookcases</td>\n",
              "      <td>Bush Somerset Collection Bookcase</td>\n",
              "      <td>261.9600</td>\n",
              "      <td>3</td>\n",
              "      <td>2017</td>\n",
              "    </tr>\n",
              "    <tr>\n",
              "      <th>1</th>\n",
              "      <td>2</td>\n",
              "      <td>CA-2017-152156</td>\n",
              "      <td>2017-11-08</td>\n",
              "      <td>2017-11-11</td>\n",
              "      <td>Second Class</td>\n",
              "      <td>CG-12520</td>\n",
              "      <td>Claire Gute</td>\n",
              "      <td>Consumer</td>\n",
              "      <td>United States</td>\n",
              "      <td>Henderson</td>\n",
              "      <td>Kentucky</td>\n",
              "      <td>42420.0</td>\n",
              "      <td>South</td>\n",
              "      <td>FUR-CH-10000454</td>\n",
              "      <td>Furniture</td>\n",
              "      <td>Chairs</td>\n",
              "      <td>Hon Deluxe Fabric Upholstered Stacking Chairs,...</td>\n",
              "      <td>731.9400</td>\n",
              "      <td>3</td>\n",
              "      <td>2017</td>\n",
              "    </tr>\n",
              "    <tr>\n",
              "      <th>2</th>\n",
              "      <td>3</td>\n",
              "      <td>CA-2017-138688</td>\n",
              "      <td>2017-06-12</td>\n",
              "      <td>2017-06-16</td>\n",
              "      <td>Second Class</td>\n",
              "      <td>DV-13045</td>\n",
              "      <td>Darrin Van Huff</td>\n",
              "      <td>Corporate</td>\n",
              "      <td>United States</td>\n",
              "      <td>Los Angeles</td>\n",
              "      <td>California</td>\n",
              "      <td>90036.0</td>\n",
              "      <td>West</td>\n",
              "      <td>OFF-LA-10000240</td>\n",
              "      <td>Office Supplies</td>\n",
              "      <td>Labels</td>\n",
              "      <td>Self-Adhesive Address Labels for Typewriters b...</td>\n",
              "      <td>14.6200</td>\n",
              "      <td>4</td>\n",
              "      <td>2017</td>\n",
              "    </tr>\n",
              "    <tr>\n",
              "      <th>3</th>\n",
              "      <td>4</td>\n",
              "      <td>US-2016-108966</td>\n",
              "      <td>2016-10-11</td>\n",
              "      <td>2016-10-18</td>\n",
              "      <td>Standard Class</td>\n",
              "      <td>SO-20335</td>\n",
              "      <td>Sean O'Donnell</td>\n",
              "      <td>Consumer</td>\n",
              "      <td>United States</td>\n",
              "      <td>Fort Lauderdale</td>\n",
              "      <td>Florida</td>\n",
              "      <td>33311.0</td>\n",
              "      <td>South</td>\n",
              "      <td>FUR-TA-10000577</td>\n",
              "      <td>Furniture</td>\n",
              "      <td>Tables</td>\n",
              "      <td>Bretford CR4500 Series Slim Rectangular Table</td>\n",
              "      <td>957.5775</td>\n",
              "      <td>7</td>\n",
              "      <td>2016</td>\n",
              "    </tr>\n",
              "    <tr>\n",
              "      <th>4</th>\n",
              "      <td>5</td>\n",
              "      <td>US-2016-108966</td>\n",
              "      <td>2016-10-11</td>\n",
              "      <td>2016-10-18</td>\n",
              "      <td>Standard Class</td>\n",
              "      <td>SO-20335</td>\n",
              "      <td>Sean O'Donnell</td>\n",
              "      <td>Consumer</td>\n",
              "      <td>United States</td>\n",
              "      <td>Fort Lauderdale</td>\n",
              "      <td>Florida</td>\n",
              "      <td>33311.0</td>\n",
              "      <td>South</td>\n",
              "      <td>OFF-ST-10000760</td>\n",
              "      <td>Office Supplies</td>\n",
              "      <td>Storage</td>\n",
              "      <td>Eldon Fold 'N Roll Cart System</td>\n",
              "      <td>22.3680</td>\n",
              "      <td>7</td>\n",
              "      <td>2016</td>\n",
              "    </tr>\n",
              "  </tbody>\n",
              "</table>\n",
              "</div>\n",
              "    <div class=\"colab-df-buttons\">\n",
              "\n",
              "  <div class=\"colab-df-container\">\n",
              "    <button class=\"colab-df-convert\" onclick=\"convertToInteractive('df-a2b6a5a8-3337-41ac-b7b3-50756ee7a785')\"\n",
              "            title=\"Convert this dataframe to an interactive table.\"\n",
              "            style=\"display:none;\">\n",
              "\n",
              "  <svg xmlns=\"http://www.w3.org/2000/svg\" height=\"24px\" viewBox=\"0 -960 960 960\">\n",
              "    <path d=\"M120-120v-720h720v720H120Zm60-500h600v-160H180v160Zm220 220h160v-160H400v160Zm0 220h160v-160H400v160ZM180-400h160v-160H180v160Zm440 0h160v-160H620v160ZM180-180h160v-160H180v160Zm440 0h160v-160H620v160Z\"/>\n",
              "  </svg>\n",
              "    </button>\n",
              "\n",
              "  <style>\n",
              "    .colab-df-container {\n",
              "      display:flex;\n",
              "      gap: 12px;\n",
              "    }\n",
              "\n",
              "    .colab-df-convert {\n",
              "      background-color: #E8F0FE;\n",
              "      border: none;\n",
              "      border-radius: 50%;\n",
              "      cursor: pointer;\n",
              "      display: none;\n",
              "      fill: #1967D2;\n",
              "      height: 32px;\n",
              "      padding: 0 0 0 0;\n",
              "      width: 32px;\n",
              "    }\n",
              "\n",
              "    .colab-df-convert:hover {\n",
              "      background-color: #E2EBFA;\n",
              "      box-shadow: 0px 1px 2px rgba(60, 64, 67, 0.3), 0px 1px 3px 1px rgba(60, 64, 67, 0.15);\n",
              "      fill: #174EA6;\n",
              "    }\n",
              "\n",
              "    .colab-df-buttons div {\n",
              "      margin-bottom: 4px;\n",
              "    }\n",
              "\n",
              "    [theme=dark] .colab-df-convert {\n",
              "      background-color: #3B4455;\n",
              "      fill: #D2E3FC;\n",
              "    }\n",
              "\n",
              "    [theme=dark] .colab-df-convert:hover {\n",
              "      background-color: #434B5C;\n",
              "      box-shadow: 0px 1px 3px 1px rgba(0, 0, 0, 0.15);\n",
              "      filter: drop-shadow(0px 1px 2px rgba(0, 0, 0, 0.3));\n",
              "      fill: #FFFFFF;\n",
              "    }\n",
              "  </style>\n",
              "\n",
              "    <script>\n",
              "      const buttonEl =\n",
              "        document.querySelector('#df-a2b6a5a8-3337-41ac-b7b3-50756ee7a785 button.colab-df-convert');\n",
              "      buttonEl.style.display =\n",
              "        google.colab.kernel.accessAllowed ? 'block' : 'none';\n",
              "\n",
              "      async function convertToInteractive(key) {\n",
              "        const element = document.querySelector('#df-a2b6a5a8-3337-41ac-b7b3-50756ee7a785');\n",
              "        const dataTable =\n",
              "          await google.colab.kernel.invokeFunction('convertToInteractive',\n",
              "                                                    [key], {});\n",
              "        if (!dataTable) return;\n",
              "\n",
              "        const docLinkHtml = 'Like what you see? Visit the ' +\n",
              "          '<a target=\"_blank\" href=https://colab.research.google.com/notebooks/data_table.ipynb>data table notebook</a>'\n",
              "          + ' to learn more about interactive tables.';\n",
              "        element.innerHTML = '';\n",
              "        dataTable['output_type'] = 'display_data';\n",
              "        await google.colab.output.renderOutput(dataTable, element);\n",
              "        const docLink = document.createElement('div');\n",
              "        docLink.innerHTML = docLinkHtml;\n",
              "        element.appendChild(docLink);\n",
              "      }\n",
              "    </script>\n",
              "  </div>\n",
              "\n",
              "\n",
              "<div id=\"df-29d23e4c-4f9a-4c37-ac72-dc0ba2c5462b\">\n",
              "  <button class=\"colab-df-quickchart\" onclick=\"quickchart('df-29d23e4c-4f9a-4c37-ac72-dc0ba2c5462b')\"\n",
              "            title=\"Suggest charts\"\n",
              "            style=\"display:none;\">\n",
              "\n",
              "<svg xmlns=\"http://www.w3.org/2000/svg\" height=\"24px\"viewBox=\"0 0 24 24\"\n",
              "     width=\"24px\">\n",
              "    <g>\n",
              "        <path d=\"M19 3H5c-1.1 0-2 .9-2 2v14c0 1.1.9 2 2 2h14c1.1 0 2-.9 2-2V5c0-1.1-.9-2-2-2zM9 17H7v-7h2v7zm4 0h-2V7h2v10zm4 0h-2v-4h2v4z\"/>\n",
              "    </g>\n",
              "</svg>\n",
              "  </button>\n",
              "\n",
              "<style>\n",
              "  .colab-df-quickchart {\n",
              "      --bg-color: #E8F0FE;\n",
              "      --fill-color: #1967D2;\n",
              "      --hover-bg-color: #E2EBFA;\n",
              "      --hover-fill-color: #174EA6;\n",
              "      --disabled-fill-color: #AAA;\n",
              "      --disabled-bg-color: #DDD;\n",
              "  }\n",
              "\n",
              "  [theme=dark] .colab-df-quickchart {\n",
              "      --bg-color: #3B4455;\n",
              "      --fill-color: #D2E3FC;\n",
              "      --hover-bg-color: #434B5C;\n",
              "      --hover-fill-color: #FFFFFF;\n",
              "      --disabled-bg-color: #3B4455;\n",
              "      --disabled-fill-color: #666;\n",
              "  }\n",
              "\n",
              "  .colab-df-quickchart {\n",
              "    background-color: var(--bg-color);\n",
              "    border: none;\n",
              "    border-radius: 50%;\n",
              "    cursor: pointer;\n",
              "    display: none;\n",
              "    fill: var(--fill-color);\n",
              "    height: 32px;\n",
              "    padding: 0;\n",
              "    width: 32px;\n",
              "  }\n",
              "\n",
              "  .colab-df-quickchart:hover {\n",
              "    background-color: var(--hover-bg-color);\n",
              "    box-shadow: 0 1px 2px rgba(60, 64, 67, 0.3), 0 1px 3px 1px rgba(60, 64, 67, 0.15);\n",
              "    fill: var(--button-hover-fill-color);\n",
              "  }\n",
              "\n",
              "  .colab-df-quickchart-complete:disabled,\n",
              "  .colab-df-quickchart-complete:disabled:hover {\n",
              "    background-color: var(--disabled-bg-color);\n",
              "    fill: var(--disabled-fill-color);\n",
              "    box-shadow: none;\n",
              "  }\n",
              "\n",
              "  .colab-df-spinner {\n",
              "    border: 2px solid var(--fill-color);\n",
              "    border-color: transparent;\n",
              "    border-bottom-color: var(--fill-color);\n",
              "    animation:\n",
              "      spin 1s steps(1) infinite;\n",
              "  }\n",
              "\n",
              "  @keyframes spin {\n",
              "    0% {\n",
              "      border-color: transparent;\n",
              "      border-bottom-color: var(--fill-color);\n",
              "      border-left-color: var(--fill-color);\n",
              "    }\n",
              "    20% {\n",
              "      border-color: transparent;\n",
              "      border-left-color: var(--fill-color);\n",
              "      border-top-color: var(--fill-color);\n",
              "    }\n",
              "    30% {\n",
              "      border-color: transparent;\n",
              "      border-left-color: var(--fill-color);\n",
              "      border-top-color: var(--fill-color);\n",
              "      border-right-color: var(--fill-color);\n",
              "    }\n",
              "    40% {\n",
              "      border-color: transparent;\n",
              "      border-right-color: var(--fill-color);\n",
              "      border-top-color: var(--fill-color);\n",
              "    }\n",
              "    60% {\n",
              "      border-color: transparent;\n",
              "      border-right-color: var(--fill-color);\n",
              "    }\n",
              "    80% {\n",
              "      border-color: transparent;\n",
              "      border-right-color: var(--fill-color);\n",
              "      border-bottom-color: var(--fill-color);\n",
              "    }\n",
              "    90% {\n",
              "      border-color: transparent;\n",
              "      border-bottom-color: var(--fill-color);\n",
              "    }\n",
              "  }\n",
              "</style>\n",
              "\n",
              "  <script>\n",
              "    async function quickchart(key) {\n",
              "      const quickchartButtonEl =\n",
              "        document.querySelector('#' + key + ' button');\n",
              "      quickchartButtonEl.disabled = true;  // To prevent multiple clicks.\n",
              "      quickchartButtonEl.classList.add('colab-df-spinner');\n",
              "      try {\n",
              "        const charts = await google.colab.kernel.invokeFunction(\n",
              "            'suggestCharts', [key], {});\n",
              "      } catch (error) {\n",
              "        console.error('Error during call to suggestCharts:', error);\n",
              "      }\n",
              "      quickchartButtonEl.classList.remove('colab-df-spinner');\n",
              "      quickchartButtonEl.classList.add('colab-df-quickchart-complete');\n",
              "    }\n",
              "    (() => {\n",
              "      let quickchartButtonEl =\n",
              "        document.querySelector('#df-29d23e4c-4f9a-4c37-ac72-dc0ba2c5462b button');\n",
              "      quickchartButtonEl.style.display =\n",
              "        google.colab.kernel.accessAllowed ? 'block' : 'none';\n",
              "    })();\n",
              "  </script>\n",
              "</div>\n",
              "\n",
              "    </div>\n",
              "  </div>\n"
            ],
            "application/vnd.google.colaboratory.intrinsic+json": {
              "type": "dataframe",
              "variable_name": "df",
              "summary": "{\n  \"name\": \"df\",\n  \"rows\": 9800,\n  \"fields\": [\n    {\n      \"column\": \"Row ID\",\n      \"properties\": {\n        \"dtype\": \"number\",\n        \"std\": 2829,\n        \"min\": 1,\n        \"max\": 9800,\n        \"num_unique_values\": 9800,\n        \"samples\": [\n          533,\n          873,\n          1150\n        ],\n        \"semantic_type\": \"\",\n        \"description\": \"\"\n      }\n    },\n    {\n      \"column\": \"Order ID\",\n      \"properties\": {\n        \"dtype\": \"string\",\n        \"num_unique_values\": 4922,\n        \"samples\": [\n          \"CA-2018-105809\",\n          \"CA-2018-144491\",\n          \"CA-2018-147564\"\n        ],\n        \"semantic_type\": \"\",\n        \"description\": \"\"\n      }\n    },\n    {\n      \"column\": \"Order Date\",\n      \"properties\": {\n        \"dtype\": \"date\",\n        \"min\": \"2015-01-03 00:00:00\",\n        \"max\": \"2018-12-30 00:00:00\",\n        \"num_unique_values\": 1230,\n        \"samples\": [\n          \"2018-06-21 00:00:00\",\n          \"2016-04-20 00:00:00\",\n          \"2017-05-20 00:00:00\"\n        ],\n        \"semantic_type\": \"\",\n        \"description\": \"\"\n      }\n    },\n    {\n      \"column\": \"Ship Date\",\n      \"properties\": {\n        \"dtype\": \"date\",\n        \"min\": \"2015-01-07 00:00:00\",\n        \"max\": \"2019-01-05 00:00:00\",\n        \"num_unique_values\": 1326,\n        \"samples\": [\n          \"2015-08-26 00:00:00\",\n          \"2015-12-14 00:00:00\",\n          \"2018-04-19 00:00:00\"\n        ],\n        \"semantic_type\": \"\",\n        \"description\": \"\"\n      }\n    },\n    {\n      \"column\": \"Ship Mode\",\n      \"properties\": {\n        \"dtype\": \"category\",\n        \"num_unique_values\": 4,\n        \"samples\": [\n          \"Standard Class\",\n          \"Same Day\",\n          \"Second Class\"\n        ],\n        \"semantic_type\": \"\",\n        \"description\": \"\"\n      }\n    },\n    {\n      \"column\": \"Customer ID\",\n      \"properties\": {\n        \"dtype\": \"category\",\n        \"num_unique_values\": 793,\n        \"samples\": [\n          \"DJ-13510\",\n          \"MD-17350\",\n          \"NF-18475\"\n        ],\n        \"semantic_type\": \"\",\n        \"description\": \"\"\n      }\n    },\n    {\n      \"column\": \"Customer Name\",\n      \"properties\": {\n        \"dtype\": \"category\",\n        \"num_unique_values\": 793,\n        \"samples\": [\n          \"Don Jones\",\n          \"Maribeth Dona\",\n          \"Neil Franz\\u00f6sisch\"\n        ],\n        \"semantic_type\": \"\",\n        \"description\": \"\"\n      }\n    },\n    {\n      \"column\": \"Segment\",\n      \"properties\": {\n        \"dtype\": \"category\",\n        \"num_unique_values\": 3,\n        \"samples\": [\n          \"Consumer\",\n          \"Corporate\",\n          \"Home Office\"\n        ],\n        \"semantic_type\": \"\",\n        \"description\": \"\"\n      }\n    },\n    {\n      \"column\": \"Country\",\n      \"properties\": {\n        \"dtype\": \"category\",\n        \"num_unique_values\": 1,\n        \"samples\": [\n          \"United States\"\n        ],\n        \"semantic_type\": \"\",\n        \"description\": \"\"\n      }\n    },\n    {\n      \"column\": \"City\",\n      \"properties\": {\n        \"dtype\": \"category\",\n        \"num_unique_values\": 529,\n        \"samples\": [\n          \"Burlington\"\n        ],\n        \"semantic_type\": \"\",\n        \"description\": \"\"\n      }\n    },\n    {\n      \"column\": \"State\",\n      \"properties\": {\n        \"dtype\": \"category\",\n        \"num_unique_values\": 49,\n        \"samples\": [\n          \"Delaware\"\n        ],\n        \"semantic_type\": \"\",\n        \"description\": \"\"\n      }\n    },\n    {\n      \"column\": \"Postal Code\",\n      \"properties\": {\n        \"dtype\": \"number\",\n        \"std\": 32041.22341281317,\n        \"min\": 1040.0,\n        \"max\": 99301.0,\n        \"num_unique_values\": 626,\n        \"samples\": [\n          56301.0\n        ],\n        \"semantic_type\": \"\",\n        \"description\": \"\"\n      }\n    },\n    {\n      \"column\": \"Region\",\n      \"properties\": {\n        \"dtype\": \"category\",\n        \"num_unique_values\": 4,\n        \"samples\": [\n          \"West\"\n        ],\n        \"semantic_type\": \"\",\n        \"description\": \"\"\n      }\n    },\n    {\n      \"column\": \"Product ID\",\n      \"properties\": {\n        \"dtype\": \"category\",\n        \"num_unique_values\": 1861,\n        \"samples\": [\n          \"TEC-PH-10001580\"\n        ],\n        \"semantic_type\": \"\",\n        \"description\": \"\"\n      }\n    },\n    {\n      \"column\": \"Category\",\n      \"properties\": {\n        \"dtype\": \"category\",\n        \"num_unique_values\": 3,\n        \"samples\": [\n          \"Furniture\"\n        ],\n        \"semantic_type\": \"\",\n        \"description\": \"\"\n      }\n    },\n    {\n      \"column\": \"Sub-Category\",\n      \"properties\": {\n        \"dtype\": \"category\",\n        \"num_unique_values\": 17,\n        \"samples\": [\n          \"Bookcases\"\n        ],\n        \"semantic_type\": \"\",\n        \"description\": \"\"\n      }\n    },\n    {\n      \"column\": \"Product Name\",\n      \"properties\": {\n        \"dtype\": \"category\",\n        \"num_unique_values\": 1849,\n        \"samples\": [\n          \"Imation\\u00a032GB Pocket Pro USB 3.0\\u00a0Flash Drive\\u00a0- 32 GB - Black - 1 P ...\"\n        ],\n        \"semantic_type\": \"\",\n        \"description\": \"\"\n      }\n    },\n    {\n      \"column\": \"Sales\",\n      \"properties\": {\n        \"dtype\": \"number\",\n        \"std\": 626.6518748388047,\n        \"min\": 0.444,\n        \"max\": 22638.48,\n        \"num_unique_values\": 5757,\n        \"samples\": [\n          35.34\n        ],\n        \"semantic_type\": \"\",\n        \"description\": \"\"\n      }\n    },\n    {\n      \"column\": \"Processing Time\",\n      \"properties\": {\n        \"dtype\": \"number\",\n        \"std\": 1,\n        \"min\": 0,\n        \"max\": 7,\n        \"num_unique_values\": 8,\n        \"samples\": [\n          4\n        ],\n        \"semantic_type\": \"\",\n        \"description\": \"\"\n      }\n    },\n    {\n      \"column\": \"Year\",\n      \"properties\": {\n        \"dtype\": \"int32\",\n        \"num_unique_values\": 4,\n        \"samples\": [\n          2016\n        ],\n        \"semantic_type\": \"\",\n        \"description\": \"\"\n      }\n    }\n  ]\n}"
            }
          },
          "metadata": {},
          "execution_count": 68
        }
      ]
    },
    {
      "cell_type": "code",
      "source": [
        "df.columns.tolist()"
      ],
      "metadata": {
        "colab": {
          "base_uri": "https://localhost:8080/"
        },
        "id": "Rkok6UemyAb2",
        "outputId": "7a7633b3-9594-4b4d-e528-5e0348e03c7c"
      },
      "execution_count": null,
      "outputs": [
        {
          "output_type": "execute_result",
          "data": {
            "text/plain": [
              "['Row ID',\n",
              " 'Order ID',\n",
              " 'Order Date',\n",
              " 'Ship Date',\n",
              " 'Ship Mode',\n",
              " 'Customer ID',\n",
              " 'Customer Name',\n",
              " 'Segment',\n",
              " 'Country',\n",
              " 'City',\n",
              " 'State',\n",
              " 'Postal Code',\n",
              " 'Region',\n",
              " 'Product ID',\n",
              " 'Category',\n",
              " 'Sub-Category',\n",
              " 'Product Name',\n",
              " 'Sales',\n",
              " 'Processing Time',\n",
              " 'Year']"
            ]
          },
          "metadata": {},
          "execution_count": 69
        }
      ]
    },
    {
      "cell_type": "code",
      "source": [
        "df['Year'].value_counts()"
      ],
      "metadata": {
        "colab": {
          "base_uri": "https://localhost:8080/",
          "height": 241
        },
        "id": "AI8tMqzVxgR7",
        "outputId": "3cdee267-b267-43eb-9eb6-bbc50b6e3795"
      },
      "execution_count": null,
      "outputs": [
        {
          "output_type": "execute_result",
          "data": {
            "text/plain": [
              "Year\n",
              "2018    3258\n",
              "2017    2534\n",
              "2016    2055\n",
              "2015    1953\n",
              "Name: count, dtype: int64"
            ],
            "text/html": [
              "<div>\n",
              "<style scoped>\n",
              "    .dataframe tbody tr th:only-of-type {\n",
              "        vertical-align: middle;\n",
              "    }\n",
              "\n",
              "    .dataframe tbody tr th {\n",
              "        vertical-align: top;\n",
              "    }\n",
              "\n",
              "    .dataframe thead th {\n",
              "        text-align: right;\n",
              "    }\n",
              "</style>\n",
              "<table border=\"1\" class=\"dataframe\">\n",
              "  <thead>\n",
              "    <tr style=\"text-align: right;\">\n",
              "      <th></th>\n",
              "      <th>count</th>\n",
              "    </tr>\n",
              "    <tr>\n",
              "      <th>Year</th>\n",
              "      <th></th>\n",
              "    </tr>\n",
              "  </thead>\n",
              "  <tbody>\n",
              "    <tr>\n",
              "      <th>2018</th>\n",
              "      <td>3258</td>\n",
              "    </tr>\n",
              "    <tr>\n",
              "      <th>2017</th>\n",
              "      <td>2534</td>\n",
              "    </tr>\n",
              "    <tr>\n",
              "      <th>2016</th>\n",
              "      <td>2055</td>\n",
              "    </tr>\n",
              "    <tr>\n",
              "      <th>2015</th>\n",
              "      <td>1953</td>\n",
              "    </tr>\n",
              "  </tbody>\n",
              "</table>\n",
              "</div><br><label><b>dtype:</b> int64</label>"
            ]
          },
          "metadata": {},
          "execution_count": 70
        }
      ]
    },
    {
      "cell_type": "code",
      "source": [
        "# Sales of each category of each years\n",
        "category_sales_by_year = df.groupby(['Year', 'Category'])['Sales'].sum().reset_index()\n",
        "print(category_sales_by_year)"
      ],
      "metadata": {
        "colab": {
          "base_uri": "https://localhost:8080/"
        },
        "id": "oJ6oK48TyLDd",
        "outputId": "b077c947-8e6e-45f2-c1bf-8a7d302b10c2"
      },
      "execution_count": null,
      "outputs": [
        {
          "output_type": "stream",
          "name": "stdout",
          "text": [
            "    Year         Category        Sales\n",
            "0   2015        Furniture  156477.8811\n",
            "1   2015  Office Supplies  149512.8200\n",
            "2   2015       Technology  173865.5070\n",
            "3   2016        Furniture  164053.8674\n",
            "4   2016  Office Supplies  133124.4070\n",
            "5   2016       Technology  162257.7310\n",
            "6   2017        Furniture  195813.0400\n",
            "7   2017  Office Supplies  182417.5660\n",
            "8   2017       Technology  221961.9440\n",
            "9   2018        Furniture  212313.7872\n",
            "10  2018  Office Supplies  240367.5410\n",
            "11  2018       Technology  269370.6910\n"
          ]
        }
      ]
    },
    {
      "cell_type": "code",
      "source": [
        "category_sales_by_year = df.pivot_table(index='Year', columns='Category', values='Sales', aggfunc='sum').reset_index()\n",
        "\n",
        "# Remove the \"Category\" name from the columns\n",
        "category_sales_by_year.columns.name = None\n",
        "\n",
        "print(category_sales_by_year)"
      ],
      "metadata": {
        "colab": {
          "base_uri": "https://localhost:8080/"
        },
        "id": "m5GVNPZv0IoK",
        "outputId": "5c8bbf6f-e1f2-4798-b03c-68a9a0676fe5"
      },
      "execution_count": null,
      "outputs": [
        {
          "output_type": "stream",
          "name": "stdout",
          "text": [
            "   Year    Furniture  Office Supplies  Technology\n",
            "0  2015  156477.8811       149512.820  173865.507\n",
            "1  2016  164053.8674       133124.407  162257.731\n",
            "2  2017  195813.0400       182417.566  221961.944\n",
            "3  2018  212313.7872       240367.541  269370.691\n"
          ]
        }
      ]
    },
    {
      "cell_type": "code",
      "source": [
        "import matplotlib.pyplot as plt\n",
        "import numpy as np\n",
        "\n",
        "# Set the width of the bars\n",
        "bar_width = 0.2\n",
        "\n",
        "# Set the positions of the bars on the x-axis\n",
        "x = np.arange(len(category_sales_by_year['Year']))\n",
        "\n",
        "# Create the bar plot\n",
        "plt.bar(x - bar_width, category_sales_by_year['Furniture'], width=bar_width, label='Furniture', align='center')\n",
        "plt.bar(x, category_sales_by_year['Office Supplies'], width=bar_width, label='Office Supplies', align='center')\n",
        "plt.bar(x + bar_width, category_sales_by_year['Technology'], width=bar_width, label='Technology', align='center')\n",
        "\n",
        "# Add labels and title\n",
        "plt.xlabel('Year')\n",
        "plt.ylabel('Sales')\n",
        "plt.title('Sales by Category (2015-2018)')\n",
        "plt.xticks(x, category_sales_by_year['Year'])  # Set the x-ticks to the years\n",
        "plt.legend()  # Show the legend\n",
        "\n",
        "# Show the plot\n",
        "plt.tight_layout()\n",
        "plt.show()\n"
      ],
      "metadata": {
        "colab": {
          "base_uri": "https://localhost:8080/",
          "height": 487
        },
        "id": "FK6wckZAzYjE",
        "outputId": "8028896c-3240-46eb-a74d-bd1bdb206a99"
      },
      "execution_count": null,
      "outputs": [
        {
          "output_type": "display_data",
          "data": {
            "text/plain": [
              "<Figure size 640x480 with 1 Axes>"
            ],
            "image/png": "[encoded data removed]"
          },
          "metadata": {}
        }
      ]
    },
    {
      "cell_type": "markdown",
      "source": [
        "#Preprocessing"
      ],
      "metadata": {
        "id": "lzu3OMgD2eox"
      }
    },
    {
      "cell_type": "markdown",
      "metadata": {
        "id": "PLC_TooKsi-7"
      },
      "source": [
        "## Cleaning Dataset by Removing Missing Values & Duplicates"
      ]
    },
    {
      "cell_type": "code",
      "execution_count": null,
      "metadata": {
        "colab": {
          "base_uri": "https://localhost:8080/"
        },
        "id": "yE91vLR9rrTd",
        "outputId": "9243580f-9943-458b-b01e-8c0de0792452"
      },
      "outputs": [
        {
          "output_type": "stream",
          "name": "stdout",
          "text": [
            "Postal Code        11\n",
            "Row ID              0\n",
            "Order ID            0\n",
            "Processing Time     0\n",
            "Sales               0\n",
            "Product Name        0\n",
            "Sub-Category        0\n",
            "Category            0\n",
            "Product ID          0\n",
            "Region              0\n",
            "State               0\n",
            "City                0\n",
            "Country             0\n",
            "Segment             0\n",
            "Customer Name       0\n",
            "Customer ID         0\n",
            "Ship Mode           0\n",
            "Ship Date           0\n",
            "Order Date          0\n",
            "Year                0\n",
            "dtype: int64\n"
          ]
        }
      ],
      "source": [
        "print(df.isnull().sum().sort_values(ascending=False))"
      ]
    },
    {
      "cell_type": "code",
      "execution_count": null,
      "metadata": {
        "colab": {
          "base_uri": "https://localhost:8080/"
        },
        "id": "oXAG-33hvFRV",
        "outputId": "cd0ee99b-d430-4c15-98f6-d99ce9e91659"
      },
      "outputs": [
        {
          "output_type": "execute_result",
          "data": {
            "text/plain": [
              "False"
            ]
          },
          "metadata": {},
          "execution_count": 75
        }
      ],
      "source": [
        "df.duplicated().any() # check if any duplicates exist in the dataframe"
      ]
    },
    {
      "cell_type": "code",
      "execution_count": null,
      "metadata": {
        "id": "-qdlrZwgvK-q",
        "colab": {
          "base_uri": "https://localhost:8080/"
        },
        "outputId": "b10967bb-439c-4b31-a207-22bde17a584d"
      },
      "outputs": [
        {
          "output_type": "stream",
          "name": "stdout",
          "text": [
            "Before deleting the column ['Row ID', 'Order ID', 'Order Date', 'Ship Date', 'Ship Mode', 'Customer ID', 'Customer Name', 'Segment', 'Country', 'City', 'State', 'Postal Code', 'Region', 'Product ID', 'Category', 'Sub-Category', 'Product Name', 'Sales', 'Processing Time', 'Year']\n",
            "After deleting the column ['Row ID', 'Order ID', 'Order Date', 'Ship Date', 'Ship Mode', 'Customer ID', 'Customer Name', 'Segment', 'Country', 'City', 'State', 'Region', 'Product ID', 'Category', 'Sub-Category', 'Product Name', 'Sales', 'Processing Time', 'Year']\n"
          ]
        }
      ],
      "source": [
        "#delete column postal code\n",
        "print(\"Before deleting the column\", df.columns.tolist())\n",
        "df.drop('Postal Code', axis=1, inplace=True)\n",
        "print(\"After deleting the column\", df.columns.tolist())"
      ]
    },
    {
      "cell_type": "markdown",
      "source": [
        "##Date Format Changing"
      ],
      "metadata": {
        "id": "Too4Cqxo1XEa"
      }
    },
    {
      "cell_type": "code",
      "source": [
        "df[\"Order Date\"] = pd.to_datetime(df[\"Order Date\"], format='%d/%m/%Y')\n",
        "sorted_date = df[\"Order Date\"].sort_values()\n",
        "print(sorted_date)"
      ],
      "metadata": {
        "colab": {
          "base_uri": "https://localhost:8080/"
        },
        "id": "cJbwr7Jp1drU",
        "outputId": "9f3f4aa9-37e0-4fc6-cd41-7e6b70bbc631"
      },
      "execution_count": null,
      "outputs": [
        {
          "output_type": "stream",
          "name": "stdout",
          "text": [
            "7980   2015-01-03\n",
            "741    2015-01-04\n",
            "740    2015-01-04\n",
            "739    2015-01-04\n",
            "1759   2015-01-05\n",
            "          ...    \n",
            "1297   2018-12-30\n",
            "906    2018-12-30\n",
            "645    2018-12-30\n",
            "908    2018-12-30\n",
            "5091   2018-12-30\n",
            "Name: Order Date, Length: 9800, dtype: datetime64[ns]\n"
          ]
        }
      ]
    },
    {
      "cell_type": "code",
      "source": [
        "df[\"Order Date\"]"
      ],
      "metadata": {
        "colab": {
          "base_uri": "https://localhost:8080/",
          "height": 458
        },
        "id": "XL7Sn-AN_Oxl",
        "outputId": "7ef37f20-f2aa-427a-ec4d-e12cd01221f5"
      },
      "execution_count": null,
      "outputs": [
        {
          "output_type": "execute_result",
          "data": {
            "text/plain": [
              "0      2017-11-08\n",
              "1      2017-11-08\n",
              "2      2017-06-12\n",
              "3      2016-10-11\n",
              "4      2016-10-11\n",
              "          ...    \n",
              "9795   2017-05-21\n",
              "9796   2016-01-12\n",
              "9797   2016-01-12\n",
              "9798   2016-01-12\n",
              "9799   2016-01-12\n",
              "Name: Order Date, Length: 9800, dtype: datetime64[ns]"
            ],
            "text/html": [
              "<div>\n",
              "<style scoped>\n",
              "    .dataframe tbody tr th:only-of-type {\n",
              "        vertical-align: middle;\n",
              "    }\n",
              "\n",
              "    .dataframe tbody tr th {\n",
              "        vertical-align: top;\n",
              "    }\n",
              "\n",
              "    .dataframe thead th {\n",
              "        text-align: right;\n",
              "    }\n",
              "</style>\n",
              "<table border=\"1\" class=\"dataframe\">\n",
              "  <thead>\n",
              "    <tr style=\"text-align: right;\">\n",
              "      <th></th>\n",
              "      <th>Order Date</th>\n",
              "    </tr>\n",
              "  </thead>\n",
              "  <tbody>\n",
              "    <tr>\n",
              "      <th>0</th>\n",
              "      <td>2017-11-08</td>\n",
              "    </tr>\n",
              "    <tr>\n",
              "      <th>1</th>\n",
              "      <td>2017-11-08</td>\n",
              "    </tr>\n",
              "    <tr>\n",
              "      <th>2</th>\n",
              "      <td>2017-06-12</td>\n",
              "    </tr>\n",
              "    <tr>\n",
              "      <th>3</th>\n",
              "      <td>2016-10-11</td>\n",
              "    </tr>\n",
              "    <tr>\n",
              "      <th>4</th>\n",
              "      <td>2016-10-11</td>\n",
              "    </tr>\n",
              "    <tr>\n",
              "      <th>...</th>\n",
              "      <td>...</td>\n",
              "    </tr>\n",
              "    <tr>\n",
              "      <th>9795</th>\n",
              "      <td>2017-05-21</td>\n",
              "    </tr>\n",
              "    <tr>\n",
              "      <th>9796</th>\n",
              "      <td>2016-01-12</td>\n",
              "    </tr>\n",
              "    <tr>\n",
              "      <th>9797</th>\n",
              "      <td>2016-01-12</td>\n",
              "    </tr>\n",
              "    <tr>\n",
              "      <th>9798</th>\n",
              "      <td>2016-01-12</td>\n",
              "    </tr>\n",
              "    <tr>\n",
              "      <th>9799</th>\n",
              "      <td>2016-01-12</td>\n",
              "    </tr>\n",
              "  </tbody>\n",
              "</table>\n",
              "<p>9800 rows × 1 columns</p>\n",
              "</div><br><label><b>dtype:</b> datetime64[ns]</label>"
            ]
          },
          "metadata": {},
          "execution_count": 78
        }
      ]
    },
    {
      "cell_type": "markdown",
      "source": [
        "##Grouping the data"
      ],
      "metadata": {
        "id": "4s7x5aqj9xJ9"
      }
    },
    {
      "cell_type": "code",
      "source": [
        "# Grouping the data and resetting the index\n",
        "sales_by_category = df.groupby([\"Category\", df[\"Order Date\"].dt.year])[\"Sales\"].sum().reset_index()\n",
        "print(sales_by_category)"
      ],
      "metadata": {
        "colab": {
          "base_uri": "https://localhost:8080/"
        },
        "id": "6l9nWUmn9woF",
        "outputId": "cc9f76dc-0bbd-4853-fb83-9faa652d09b4"
      },
      "execution_count": null,
      "outputs": [
        {
          "output_type": "stream",
          "name": "stdout",
          "text": [
            "           Category  Order Date        Sales\n",
            "0         Furniture        2015  156477.8811\n",
            "1         Furniture        2016  164053.8674\n",
            "2         Furniture        2017  195813.0400\n",
            "3         Furniture        2018  212313.7872\n",
            "4   Office Supplies        2015  149512.8200\n",
            "5   Office Supplies        2016  133124.4070\n",
            "6   Office Supplies        2017  182417.5660\n",
            "7   Office Supplies        2018  240367.5410\n",
            "8        Technology        2015  173865.5070\n",
            "9        Technology        2016  162257.7310\n",
            "10       Technology        2017  221961.9440\n",
            "11       Technology        2018  269370.6910\n"
          ]
        }
      ]
    },
    {
      "cell_type": "markdown",
      "source": [
        "##Spliting"
      ],
      "metadata": {
        "id": "HHVAFgxf4x-7"
      }
    },
    {
      "cell_type": "markdown",
      "source": [
        "Do in Model section"
      ],
      "metadata": {
        "id": "jfFPFdDm7awT"
      }
    },
    {
      "cell_type": "markdown",
      "source": [
        "#2018 Sales Forecast"
      ],
      "metadata": {
        "id": "3NRDq_4fA_1F"
      }
    },
    {
      "cell_type": "markdown",
      "source": [
        "##Model + Model Evaluation"
      ],
      "metadata": {
        "id": "PzzdTvhQ79N9"
      }
    },
    {
      "cell_type": "code",
      "source": [
        "import pandas as pd\n",
        "from pmdarima import auto_arima\n",
        "from sklearn.metrics import mean_absolute_error\n",
        "from sklearn.model_selection import train_test_split\n",
        "\n",
        "# Define a function to forecast sales for each category using ARIMA\n",
        "def forecast_sales(category_data):\n",
        "    # Set 'Order Date' as index and get the sales data\n",
        "    sales_series = category_data.set_index(\"Order Date\")[\"Sales\"]\n",
        "\n",
        "    # Split the data into training and validation sets with 80% training and 20% validation\n",
        "    train_data, valid_data = train_test_split(sales_series, test_size=0.2, shuffle=False)\n",
        "\n",
        "    # Fit the ARIMA model on the training data\n",
        "    model = auto_arima(train_data, seasonal=True, suppress_warnings=True, stepwise=True)\n",
        "\n",
        "    # Forecast for the validation period\n",
        "    forecast_valid = model.predict(n_periods=len(valid_data))\n",
        "\n",
        "    # Calculate MAE on the validation set\n",
        "    mae = mean_absolute_error(valid_data, forecast_valid)\n",
        "\n",
        "    # Now forecast for 2018 (1 period ahead)\n",
        "    forecast_2018 = model.predict(n_periods=1)\n",
        "\n",
        "    return pd.Series({\n",
        "        \"Category\": category_data[\"Category\"].iloc[0],\n",
        "        \"Forecasted_Sales_2018\": forecast_2018.sum(),\n",
        "        \"MAE\": mae\n",
        "    })\n",
        "\n",
        "# Apply the forecast_sales function to each category\n",
        "forecasted_sales = sales_by_category.groupby(\"Category\").apply(forecast_sales).reset_index(drop=True)\n",
        "\n",
        "# Formatting the Forecasted_Sales_2018 column\n",
        "forecasted_sales[\"Forecasted_Sales_2018\"] = forecasted_sales[\"Forecasted_Sales_2018\"].apply(lambda x: '{:,.2f}'.format(x))\n",
        "\n",
        "# Displaying the result\n",
        "print(\"Forecasted Sales in 2018 for Each Product Category:\")\n",
        "print(forecasted_sales[[\"Category\", \"Forecasted_Sales_2018\", \"MAE\"]])"
      ],
      "metadata": {
        "colab": {
          "base_uri": "https://localhost:8080/"
        },
        "id": "eG20QtnDccO8",
        "outputId": "d6800213-e2df-44ab-b949-9436c0cfc6f1"
      },
      "execution_count": null,
      "outputs": [
        {
          "output_type": "stream",
          "name": "stdout",
          "text": [
            "Forecasted Sales in 2018 for Each Product Category:\n",
            "          Category Forecasted_Sales_2018           MAE\n",
            "0        Furniture            172,114.93  40198.857700\n",
            "1  Office Supplies            155,018.26  85349.276667\n",
            "2       Technology            186,028.39  83342.297000\n"
          ]
        }
      ]
    },
    {
      "cell_type": "markdown",
      "source": [
        "#2019 Sales Forecast"
      ],
      "metadata": {
        "id": "1n3YIHg38vCQ"
      }
    },
    {
      "cell_type": "code",
      "source": [
        "from pmdarima import auto_arima\n",
        "sales_by_category = df.groupby([\"Category\", df[\"Order Date\"].dt.year])[\"Sales\"].sum().reset_index()\n",
        "\n",
        "# Define a function to forecast sales for each category\n",
        "def forecast_sales(category_data):\n",
        "    sales_series = category_data.set_index(\"Order Date\")[\"Sales\"]\n",
        "    model = auto_arima(sales_series, seasonal=True, suppress_warnings=True, stepwise=True)\n",
        "    forecast = model.predict(n_periods=1)\n",
        "    return pd.Series({\n",
        "        \"Category\": category_data[\"Category\"].iloc[0],\n",
        "        \"Forecasted_Sales_2019\": forecast.sum()\n",
        "    })\n",
        "\n",
        "# Applying the forecast_sales function to each category group\n",
        "forecasted_sales = sales_by_category.groupby(\"Category\").apply(forecast_sales).reset_index(drop=True)\n",
        "\n",
        "# Formatting the Forecasted_Sales_2019 column\n",
        "forecasted_sales[\"Forecasted_Sales_2019\"] = forecasted_sales[\"Forecasted_Sales_2019\"].apply(lambda x: '{:,.2f}'.format(x))\n",
        "\n",
        "# Displaying the result\n",
        "print(\"Forecasted Sales in 2019 for Each Product Category:\")\n",
        "print(forecasted_sales[[\"Category\", \"Forecasted_Sales_2019\"]])"
      ],
      "metadata": {
        "colab": {
          "base_uri": "https://localhost:8080/"
        },
        "id": "L8hiwd1F8zL6",
        "outputId": "b3ecef6b-d55d-4e04-a354-c0da2d5eb6e5"
      },
      "execution_count": null,
      "outputs": [
        {
          "output_type": "stream",
          "name": "stdout",
          "text": [
            "Forecasted Sales in 2019 for Each Product Category:\n",
            "          Category Forecasted_Sales_2019\n",
            "0        Furniture            182,164.64\n",
            "1  Office Supplies            176,355.58\n",
            "2       Technology            206,863.97\n"
          ]
        }
      ]
    },
    {
      "cell_type": "markdown",
      "source": [
        "# Q&A\n"
      ],
      "metadata": {
        "id": "pgfBty9fU-M_"
      }
    },
    {
      "source": [
        "import pandas as pd\n",
        "from pmdarima import auto_arima\n",
        "from sklearn.metrics import mean_absolute_error\n",
        "from sklearn.model_selection import train_test_split\n",
        "from statsmodels.tsa.api import VAR\n",
        "\n",
        "# 1. Univariate Forecasting (Existing Code)\n",
        "def forecast_sales(category_data):\n",
        "    sales_series = category_data.set_index(\"Order Date\")[\"Sales\"]\n",
        "    train_data, valid_data = train_test_split(sales_series, test_size=0.2, shuffle=False)\n",
        "    model = auto_arima(train_data, seasonal=True, suppress_warnings=True, stepwise=True)\n",
        "    forecast_valid = model.predict(n_periods=len(valid_data))\n",
        "    mae = mean_absolute_error(valid_data, forecast_valid)\n",
        "    forecast_2018 = model.predict(n_periods=1)\n",
        "    return pd.Series({\n",
        "        \"Category\": category_data[\"Category\"].iloc[0],\n",
        "        \"Forecasted_Sales_2018\": forecast_2018.sum(),\n",
        "        \"MAE\": mae\n",
        "    })\n",
        "\n",
        "sales_by_category = df.groupby([\"Category\", df[\"Order Date\"].dt.year])[\"Sales\"].sum().reset_index()\n",
        "forecasted_sales_uni = sales_by_category.groupby(\"Category\").apply(forecast_sales).reset_index(drop=True)\n",
        "print(\"Forecasted Sales in 2018 for Each Product Category (Univariate):\")\n",
        "print(forecasted_sales_uni[[\"Category\", \"Forecasted_Sales_2018\", \"MAE\"]])\n",
        "\n",
        "# 2. Multivariate Forecasting\n",
        "sales_by_category = df.groupby([\"Category\", df[\"Order Date\"].dt.year])[\"Sales\"].sum().reset_index()\n",
        "sales_pivot = sales_by_category.pivot_table(index='Order Date', columns='Category', values='Sales', aggfunc='sum').reset_index()\n",
        "# Convert 'Order Date' to datetime if not already\n",
        "sales_pivot['Order Date'] = pd.to_datetime(sales_pivot['Order Date'])\n",
        "sales_pivot.set_index('Order Date', inplace=True)\n",
        "\n",
        "train_data, valid_data = train_test_split(sales_pivot, test_size=0.2, shuffle=False)\n",
        "\n",
        "model = VAR(train_data[['Furniture', 'Office Supplies', 'Technology']])\n",
        "model_fit = model.fit()\n",
        "\n",
        "forecast_valid = model_fit.forecast(valid_data[['Furniture', 'Office Supplies', 'Technology']].values, steps=len(valid_data))\n",
        "\n",
        "mae_furniture = mean_absolute_error(valid_data['Furniture'], forecast_valid[:, 0])\n",
        "mae_office_supplies = mean_absolute_error(valid_data['Office Supplies'], forecast_valid[:, 1])\n",
        "mae_technology = mean_absolute_error(valid_data['Technology'], forecast_valid[:, 2])\n",
        "\n",
        "# Forecast for 2018 (1 period ahead)\n",
        "forecast_2018 = model_fit.forecast(model.endog[-1:], steps=1)  # Using model.endog\n",
        "\n",
        "print(\"\\nForecasted Sales in 2018 for Each Product Category (Multivariate):\")\n",
        "print(f\"Furniture: {forecast_2018[0][0]:,.2f}\")\n",
        "print(f\"Office Supplies: {forecast_2018[0][1]:,.2f}\")\n",
        "print(f\"Technology: {forecast_2018[0][2]:,.2f}\")\n",
        "\n",
        "print(\"\\nMAE for Each Category (Multivariate):\")\n",
        "print(f\"Furniture: {mae_furniture:.2f}\")\n",
        "print(f\"Office Supplies: {mae_office_supplies:.2f}\")\n",
        "print(f\"Technology: {mae_technology:.2f}\")"
      ],
      "cell_type": "code",
      "metadata": {
        "colab": {
          "base_uri": "https://localhost:8080/"
        },
        "id": "bkCb5QvVV5F8",
        "outputId": "0a0ae218-de20-43ec-cbb2-9b997de6c7a9"
      },
      "execution_count": null,
      "outputs": [
        {
          "output_type": "stream",
          "name": "stdout",
          "text": [
            "Forecasted Sales in 2018 for Each Product Category (Univariate):\n",
            "          Category  Forecasted_Sales_2018           MAE\n",
            "0        Furniture          172114.929500  40198.857700\n",
            "1  Office Supplies          155018.264333  85349.276667\n",
            "2       Technology          186028.394000  83342.297000\n",
            "\n",
            "Forecasted Sales in 2018 for Each Product Category (Multivariate):\n",
            "Furniture: 208,863.50\n",
            "Office Supplies: 171,570.85\n",
            "Technology: 209,084.54\n",
            "\n",
            "MAE for Each Category (Multivariate):\n",
            "Furniture: 27755.43\n",
            "Office Supplies: 128457.68\n",
            "Technology: 132364.42\n"
          ]
        }
      ]
    },
    {
      "cell_type": "code",
      "source": [
        "# Full code combining all the steps for predicting next year's sales and calculating MAE\n",
        "\n",
        "import pandas as pd\n",
        "from sklearn.linear_model import LinearRegression\n",
        "from sklearn.metrics import mean_absolute_error\n",
        "\n",
        "# Load the data\n",
        "data = pd.read_csv('train.csv')\n",
        "\n",
        "# Convert 'Order Date' to datetime and sort the data\n",
        "data['Order Date'] = pd.to_datetime(data['Order Date'], format=\"%d/%m/%Y\")\n",
        "data = data.sort_values('Order Date')\n",
        "\n",
        "# Summarize sales per year and per category\n",
        "data['Year'] = data['Order Date'].dt.year\n",
        "yearly_sales = data.groupby(['Year', 'Category'])['Sales'].sum().reset_index()\n",
        "\n",
        "# Predict next year sales and calculate MAE for each category\n",
        "next_year_predictions = {}\n",
        "category_mae_next_year = {}\n",
        "\n",
        "for category in yearly_sales['Category'].unique():\n",
        "    # Filter data for the specific category\n",
        "    category_data = yearly_sales[yearly_sales['Category'] == category]\n",
        "\n",
        "    # Prepare features and target (previous year sales and current year sales)\n",
        "    category_data['Previous_Sales'] = category_data['Sales'].shift(1)\n",
        "    category_data = category_data.dropna(subset=['Previous_Sales'])\n",
        "\n",
        "    X_cat = category_data[['Previous_Sales']]\n",
        "    y_cat = category_data['Sales']\n",
        "\n",
        "    # Train a linear regression model\n",
        "    model_cat = LinearRegression()\n",
        "    model_cat.fit(X_cat, y_cat)\n",
        "\n",
        "    # Use the last year's sales to predict the next year's sales\n",
        "    last_year_sales = category_data['Sales'].values[-1]\n",
        "    next_year_sales = model_cat.predict([[last_year_sales]])\n",
        "\n",
        "    # Store the prediction\n",
        "    next_year_predictions[category] = next_year_sales[0]\n",
        "\n",
        "    # Predict for all data to calculate MAE\n",
        "    y_pred_cat = model_cat.predict(X_cat)\n",
        "\n",
        "    # Calculate MAE for the predictions\n",
        "    category_mae_next_year[category] = mean_absolute_error(y_cat, y_pred_cat)\n",
        "\n",
        "# Create DataFrames for the yearly sales, predictions, and MAE\n",
        "next_year_sales_df = pd.DataFrame({\n",
        "    'Category': next_year_predictions.keys(),\n",
        "    'Predicted Sales for Next Year': next_year_predictions.values()\n",
        "})\n",
        "\n",
        "mae_df = pd.DataFrame({\n",
        "    'Category': category_mae_next_year.keys(),\n",
        "    'MAE': category_mae_next_year.values()\n",
        "})\n",
        "\n",
        "# Display the yearly sales and predictions\n",
        "yearly_sales_pivot = yearly_sales.pivot(index='Year', columns='Category', values='Sales')\n",
        "# Printing the results for the user\n",
        "\n",
        "print(\"Yearly Sales by Category:\")\n",
        "print(yearly_sales_pivot)\n",
        "\n",
        "print(\"\\nNext Year Sales Predictions:\")\n",
        "print(next_year_sales_df)\n",
        "\n",
        "print(\"\\nMAE for Next Year Sales Predictions:\")\n",
        "print(mae_df)\n",
        "\n"
      ],
      "metadata": {
        "colab": {
          "base_uri": "https://localhost:8080/"
        },
        "id": "o5t90m5NfDvZ",
        "outputId": "7d9598ec-6bf9-4424-8c19-2772d4df8c98"
      },
      "execution_count": null,
      "outputs": [
        {
          "output_type": "stream",
          "name": "stdout",
          "text": [
            "Yearly Sales by Category:\n",
            "Category    Furniture  Office Supplies  Technology\n",
            "Year                                              \n",
            "2015      156477.8811       149512.820  173865.507\n",
            "2016      164053.8674       133124.407  162257.731\n",
            "2017      195813.0400       182417.566  221961.944\n",
            "2018      212313.7872       240367.541  269370.691\n",
            "\n",
            "Next Year Sales Predictions:\n",
            "          Category  Predicted Sales for Next Year\n",
            "0        Furniture                  231689.854135\n",
            "1  Office Supplies                  311201.477018\n",
            "2       Technology                  318901.326638\n",
            "\n",
            "MAE for Next Year Sales Predictions:\n",
            "          Category           MAE\n",
            "0        Furniture   8866.952158\n",
            "1  Office Supplies  29371.806663\n",
            "2       Technology  27240.242578\n"
          ]
        }
      ]
    }
  ],
  "metadata": {
    "colab": {
      "provenance": [],
      "toc_visible": true
    },
    "kernelspec": {
      "display_name": "Python 3",
      "name": "python3"
    },
    "language_info": {
      "name": "python"
    }
  },
  "nbformat": 4,
  "nbformat_minor": 0
}